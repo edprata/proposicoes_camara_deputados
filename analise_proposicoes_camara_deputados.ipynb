{
  "cells": [
    {
      "cell_type": "markdown",
      "metadata": {
        "id": "Eam1-oyr1bxs"
      },
      "source": [
        "# Classificação para Proposições da Câmara dos Deputados\n",
        "\n",
        "Projetos de leis e propostas de emendas à Constituição (PECs) são provavelmente os mais conhecidos produtos das atividades parlamentares. Mas também são proposições alguns outros tipos de documentos legislativos: pareceres sobre outras proposições, requerimentos, relatórios de CPIs, medidas provisórias do poder Executivo e emendas ao Orçamento da União, apenas para citar alguns.\n",
        "\n",
        "Este trabalho têm objetivo de utilizar a base de proposições da Câmara dos Deputados para treinar um modelo de Classificação que possa prever se um projeto ainda não aprovado têm probabilidade de ser aprovado.\n",
        "\n",
        "Para isso, trabalharemos apenas com os seguintes tipos de proposições da base:\n",
        "- Projetos de leis;\n",
        "- Emendas à constituição (PECs).\n",
        "\n",
        "No final, pretende-se que, ao apresentar um projeto de lei ou emenda à constituição ainda não aprovado, o modelo diga se poderá obter aprovação.\n",
        "\n",
        "Repositório no GitHub [aqui](https://github.com/edprata/proposicoes_camara_deputados/tree/main). Notebook no Colab com versão resumida (sem Pycaret) [aqui](https://colab.research.google.com/drive/1B_S3saTPfT5_CxrH0UZYkJ78bgilt8sb)."
      ]
    },
    {
      "cell_type": "markdown",
      "metadata": {
        "id": "71w3fWP-2yTp"
      },
      "source": [
        "## Instalações e imports\n",
        "\n",
        "Instalações e imports de bibliotecas utilizadas em todo código."
      ]
    },
    {
      "cell_type": "markdown",
      "metadata": {
        "id": "P7UNxUw42-k8"
      },
      "source": [
        "### Instalação dos pacotes"
      ]
    },
    {
      "cell_type": "code",
      "execution_count": 1,
      "metadata": {
        "id": "5wAXxElSykg1"
      },
      "outputs": [
        {
          "name": "stdout",
          "output_type": "stream",
          "text": [
            "Defaulting to user installation because normal site-packages is not writeable\n",
            "Requirement already satisfied: pip in /Users/edprata/Library/Python/3.9/lib/python/site-packages (24.3.1)\n",
            "Note: you may need to restart the kernel to use updated packages.\n",
            "Defaulting to user installation because normal site-packages is not writeable\n",
            "Requirement already satisfied: pycaret in /Users/edprata/Library/Python/3.9/lib/python/site-packages (3.3.2)\n",
            "Requirement already satisfied: ipython>=5.5.0 in /Users/edprata/Library/Python/3.9/lib/python/site-packages (from pycaret) (8.17.2)\n",
            "Requirement already satisfied: ipywidgets>=7.6.5 in /Users/edprata/Library/Python/3.9/lib/python/site-packages (from pycaret) (8.1.5)\n",
            "Requirement already satisfied: tqdm>=4.62.0 in /Users/edprata/Library/Python/3.9/lib/python/site-packages (from pycaret) (4.67.1)\n",
            "Requirement already satisfied: numpy<1.27,>=1.21 in /Users/edprata/Library/Python/3.9/lib/python/site-packages (from pycaret) (1.26.1)\n",
            "Requirement already satisfied: pandas<2.2.0 in /Users/edprata/Library/Python/3.9/lib/python/site-packages (from pycaret) (2.1.2)\n",
            "Requirement already satisfied: jinja2>=3 in /Users/edprata/Library/Python/3.9/lib/python/site-packages (from pycaret) (3.1.4)\n",
            "Requirement already satisfied: scipy<=1.11.4,>=1.6.1 in /Users/edprata/Library/Python/3.9/lib/python/site-packages (from pycaret) (1.11.4)\n",
            "Requirement already satisfied: joblib<1.4,>=1.2.0 in /Users/edprata/Library/Python/3.9/lib/python/site-packages (from pycaret) (1.3.2)\n",
            "Requirement already satisfied: scikit-learn>1.4.0 in /Users/edprata/Library/Python/3.9/lib/python/site-packages (from pycaret) (1.4.2)\n",
            "Requirement already satisfied: pyod>=1.1.3 in /Users/edprata/Library/Python/3.9/lib/python/site-packages (from pycaret) (2.0.2)\n",
            "Requirement already satisfied: imbalanced-learn>=0.12.0 in /Users/edprata/Library/Python/3.9/lib/python/site-packages (from pycaret) (0.12.4)\n",
            "Requirement already satisfied: category-encoders>=2.4.0 in /Users/edprata/Library/Python/3.9/lib/python/site-packages (from pycaret) (2.6.4)\n",
            "Requirement already satisfied: lightgbm>=3.0.0 in /Users/edprata/Library/Python/3.9/lib/python/site-packages (from pycaret) (4.5.0)\n",
            "Requirement already satisfied: numba>=0.55.0 in /Users/edprata/Library/Python/3.9/lib/python/site-packages (from pycaret) (0.60.0)\n",
            "Requirement already satisfied: requests>=2.27.1 in /Users/edprata/Library/Python/3.9/lib/python/site-packages (from pycaret) (2.32.3)\n",
            "Requirement already satisfied: psutil>=5.9.0 in /Users/edprata/Library/Python/3.9/lib/python/site-packages (from pycaret) (5.9.6)\n",
            "Requirement already satisfied: markupsafe>=2.0.1 in /Users/edprata/Library/Python/3.9/lib/python/site-packages (from pycaret) (3.0.2)\n",
            "Requirement already satisfied: importlib-metadata>=4.12.0 in /Users/edprata/Library/Python/3.9/lib/python/site-packages (from pycaret) (6.8.0)\n",
            "Requirement already satisfied: nbformat>=4.2.0 in /Users/edprata/Library/Python/3.9/lib/python/site-packages (from pycaret) (5.10.4)\n",
            "Requirement already satisfied: cloudpickle in /Users/edprata/Library/Python/3.9/lib/python/site-packages (from pycaret) (3.1.0)\n",
            "Requirement already satisfied: deprecation>=2.1.0 in /Users/edprata/Library/Python/3.9/lib/python/site-packages (from pycaret) (2.1.0)\n",
            "Requirement already satisfied: xxhash in /Users/edprata/Library/Python/3.9/lib/python/site-packages (from pycaret) (3.5.0)\n",
            "Requirement already satisfied: matplotlib<3.8.0 in /Users/edprata/Library/Python/3.9/lib/python/site-packages (from pycaret) (3.7.5)\n",
            "Requirement already satisfied: scikit-plot>=0.3.7 in /Users/edprata/Library/Python/3.9/lib/python/site-packages (from pycaret) (0.3.7)\n",
            "Requirement already satisfied: yellowbrick>=1.4 in /Users/edprata/Library/Python/3.9/lib/python/site-packages (from pycaret) (1.5)\n",
            "Requirement already satisfied: plotly>=5.14.0 in /Users/edprata/Library/Python/3.9/lib/python/site-packages (from pycaret) (5.24.1)\n",
            "Requirement already satisfied: kaleido>=0.2.1 in /Users/edprata/Library/Python/3.9/lib/python/site-packages (from pycaret) (0.2.1)\n",
            "Requirement already satisfied: schemdraw==0.15 in /Users/edprata/Library/Python/3.9/lib/python/site-packages (from pycaret) (0.15)\n",
            "Requirement already satisfied: plotly-resampler>=0.8.3.1 in /Users/edprata/Library/Python/3.9/lib/python/site-packages (from pycaret) (0.10.0)\n",
            "Requirement already satisfied: statsmodels>=0.12.1 in /Users/edprata/Library/Python/3.9/lib/python/site-packages (from pycaret) (0.14.4)\n",
            "Requirement already satisfied: sktime==0.26.0 in /Users/edprata/Library/Python/3.9/lib/python/site-packages (from pycaret) (0.26.0)\n",
            "Requirement already satisfied: tbats>=1.1.3 in /Users/edprata/Library/Python/3.9/lib/python/site-packages (from pycaret) (1.1.3)\n",
            "Requirement already satisfied: pmdarima>=2.0.4 in /Users/edprata/Library/Python/3.9/lib/python/site-packages (from pycaret) (2.0.4)\n",
            "Requirement already satisfied: wurlitzer in /Users/edprata/Library/Python/3.9/lib/python/site-packages (from pycaret) (3.1.1)\n",
            "Requirement already satisfied: packaging in /Users/edprata/Library/Python/3.9/lib/python/site-packages (from sktime==0.26.0->pycaret) (23.2)\n",
            "Requirement already satisfied: scikit-base<0.8.0 in /Users/edprata/Library/Python/3.9/lib/python/site-packages (from sktime==0.26.0->pycaret) (0.7.8)\n",
            "Requirement already satisfied: patsy>=0.5.1 in /Users/edprata/Library/Python/3.9/lib/python/site-packages (from category-encoders>=2.4.0->pycaret) (1.0.1)\n",
            "Requirement already satisfied: threadpoolctl>=2.0.0 in /Users/edprata/Library/Python/3.9/lib/python/site-packages (from imbalanced-learn>=0.12.0->pycaret) (3.5.0)\n",
            "Requirement already satisfied: zipp>=0.5 in /Users/edprata/Library/Python/3.9/lib/python/site-packages (from importlib-metadata>=4.12.0->pycaret) (3.17.0)\n",
            "Requirement already satisfied: decorator in /Users/edprata/Library/Python/3.9/lib/python/site-packages (from ipython>=5.5.0->pycaret) (5.1.1)\n",
            "Requirement already satisfied: jedi>=0.16 in /Users/edprata/Library/Python/3.9/lib/python/site-packages (from ipython>=5.5.0->pycaret) (0.19.1)\n",
            "Requirement already satisfied: matplotlib-inline in /Users/edprata/Library/Python/3.9/lib/python/site-packages (from ipython>=5.5.0->pycaret) (0.1.6)\n",
            "Requirement already satisfied: prompt-toolkit!=3.0.37,<3.1.0,>=3.0.30 in /Users/edprata/Library/Python/3.9/lib/python/site-packages (from ipython>=5.5.0->pycaret) (3.0.39)\n",
            "Requirement already satisfied: pygments>=2.4.0 in /Users/edprata/Library/Python/3.9/lib/python/site-packages (from ipython>=5.5.0->pycaret) (2.16.1)\n",
            "Requirement already satisfied: stack-data in /Users/edprata/Library/Python/3.9/lib/python/site-packages (from ipython>=5.5.0->pycaret) (0.6.3)\n",
            "Requirement already satisfied: traitlets>=5 in /Users/edprata/Library/Python/3.9/lib/python/site-packages (from ipython>=5.5.0->pycaret) (5.13.0)\n",
            "Requirement already satisfied: typing-extensions in /Users/edprata/Library/Python/3.9/lib/python/site-packages (from ipython>=5.5.0->pycaret) (4.8.0)\n",
            "Requirement already satisfied: exceptiongroup in /Users/edprata/Library/Python/3.9/lib/python/site-packages (from ipython>=5.5.0->pycaret) (1.1.3)\n",
            "Requirement already satisfied: pexpect>4.3 in /Users/edprata/Library/Python/3.9/lib/python/site-packages (from ipython>=5.5.0->pycaret) (4.8.0)\n",
            "Requirement already satisfied: appnope in /Users/edprata/Library/Python/3.9/lib/python/site-packages (from ipython>=5.5.0->pycaret) (0.1.3)\n",
            "Requirement already satisfied: comm>=0.1.3 in /Users/edprata/Library/Python/3.9/lib/python/site-packages (from ipywidgets>=7.6.5->pycaret) (0.1.4)\n",
            "Requirement already satisfied: widgetsnbextension~=4.0.12 in /Users/edprata/Library/Python/3.9/lib/python/site-packages (from ipywidgets>=7.6.5->pycaret) (4.0.13)\n",
            "Requirement already satisfied: jupyterlab-widgets~=3.0.12 in /Users/edprata/Library/Python/3.9/lib/python/site-packages (from ipywidgets>=7.6.5->pycaret) (3.0.13)\n",
            "Requirement already satisfied: contourpy>=1.0.1 in /Users/edprata/Library/Python/3.9/lib/python/site-packages (from matplotlib<3.8.0->pycaret) (1.2.0)\n",
            "Requirement already satisfied: cycler>=0.10 in /Users/edprata/Library/Python/3.9/lib/python/site-packages (from matplotlib<3.8.0->pycaret) (0.12.1)\n",
            "Requirement already satisfied: fonttools>=4.22.0 in /Users/edprata/Library/Python/3.9/lib/python/site-packages (from matplotlib<3.8.0->pycaret) (4.49.0)\n",
            "Requirement already satisfied: kiwisolver>=1.0.1 in /Users/edprata/Library/Python/3.9/lib/python/site-packages (from matplotlib<3.8.0->pycaret) (1.4.5)\n",
            "Requirement already satisfied: pillow>=6.2.0 in /Users/edprata/Library/Python/3.9/lib/python/site-packages (from matplotlib<3.8.0->pycaret) (10.2.0)\n",
            "Requirement already satisfied: pyparsing>=2.3.1 in /Users/edprata/Library/Python/3.9/lib/python/site-packages (from matplotlib<3.8.0->pycaret) (3.1.1)\n",
            "Requirement already satisfied: python-dateutil>=2.7 in /Users/edprata/Library/Python/3.9/lib/python/site-packages (from matplotlib<3.8.0->pycaret) (2.8.2)\n",
            "Requirement already satisfied: importlib-resources>=3.2.0 in /Users/edprata/Library/Python/3.9/lib/python/site-packages (from matplotlib<3.8.0->pycaret) (6.1.1)\n",
            "Requirement already satisfied: fastjsonschema>=2.15 in /Users/edprata/Library/Python/3.9/lib/python/site-packages (from nbformat>=4.2.0->pycaret) (2.21.0)\n",
            "Requirement already satisfied: jsonschema>=2.6 in /Users/edprata/Library/Python/3.9/lib/python/site-packages (from nbformat>=4.2.0->pycaret) (4.23.0)\n",
            "Requirement already satisfied: jupyter-core!=5.0.*,>=4.12 in /Users/edprata/Library/Python/3.9/lib/python/site-packages (from nbformat>=4.2.0->pycaret) (5.5.0)\n",
            "Requirement already satisfied: llvmlite<0.44,>=0.43.0dev0 in /Users/edprata/Library/Python/3.9/lib/python/site-packages (from numba>=0.55.0->pycaret) (0.43.0)\n",
            "Requirement already satisfied: pytz>=2020.1 in /Users/edprata/Library/Python/3.9/lib/python/site-packages (from pandas<2.2.0->pycaret) (2023.3.post1)\n",
            "Requirement already satisfied: tzdata>=2022.1 in /Users/edprata/Library/Python/3.9/lib/python/site-packages (from pandas<2.2.0->pycaret) (2023.3)\n",
            "Requirement already satisfied: tenacity>=6.2.0 in /Users/edprata/Library/Python/3.9/lib/python/site-packages (from plotly>=5.14.0->pycaret) (9.0.0)\n",
            "Requirement already satisfied: dash>=2.9.0 in /Users/edprata/Library/Python/3.9/lib/python/site-packages (from plotly-resampler>=0.8.3.1->pycaret) (2.18.2)\n",
            "Requirement already satisfied: orjson<4.0.0,>=3.8.0 in /Users/edprata/Library/Python/3.9/lib/python/site-packages (from plotly-resampler>=0.8.3.1->pycaret) (3.10.12)\n",
            "Requirement already satisfied: tsdownsample>=0.1.3 in /Users/edprata/Library/Python/3.9/lib/python/site-packages (from plotly-resampler>=0.8.3.1->pycaret) (0.1.3)\n",
            "Requirement already satisfied: Cython!=0.29.18,!=0.29.31,>=0.29 in /Users/edprata/Library/Python/3.9/lib/python/site-packages (from pmdarima>=2.0.4->pycaret) (3.0.11)\n",
            "Requirement already satisfied: urllib3 in /Users/edprata/Library/Python/3.9/lib/python/site-packages (from pmdarima>=2.0.4->pycaret) (2.2.3)\n",
            "Requirement already satisfied: setuptools!=50.0.0,>=38.6.0 in /Library/Developer/CommandLineTools/Library/Frameworks/Python3.framework/Versions/3.9/lib/python3.9/site-packages (from pmdarima>=2.0.4->pycaret) (58.0.4)\n",
            "Requirement already satisfied: charset-normalizer<4,>=2 in /Users/edprata/Library/Python/3.9/lib/python/site-packages (from requests>=2.27.1->pycaret) (3.4.0)\n",
            "Requirement already satisfied: idna<4,>=2.5 in /Users/edprata/Library/Python/3.9/lib/python/site-packages (from requests>=2.27.1->pycaret) (3.10)\n",
            "Requirement already satisfied: certifi>=2017.4.17 in /Users/edprata/Library/Python/3.9/lib/python/site-packages (from requests>=2.27.1->pycaret) (2024.8.30)\n",
            "Requirement already satisfied: Flask<3.1,>=1.0.4 in /Users/edprata/Library/Python/3.9/lib/python/site-packages (from dash>=2.9.0->plotly-resampler>=0.8.3.1->pycaret) (3.0.3)\n",
            "Requirement already satisfied: Werkzeug<3.1 in /Users/edprata/Library/Python/3.9/lib/python/site-packages (from dash>=2.9.0->plotly-resampler>=0.8.3.1->pycaret) (3.0.6)\n",
            "Requirement already satisfied: dash-html-components==2.0.0 in /Users/edprata/Library/Python/3.9/lib/python/site-packages (from dash>=2.9.0->plotly-resampler>=0.8.3.1->pycaret) (2.0.0)\n",
            "Requirement already satisfied: dash-core-components==2.0.0 in /Users/edprata/Library/Python/3.9/lib/python/site-packages (from dash>=2.9.0->plotly-resampler>=0.8.3.1->pycaret) (2.0.0)\n",
            "Requirement already satisfied: dash-table==5.0.0 in /Users/edprata/Library/Python/3.9/lib/python/site-packages (from dash>=2.9.0->plotly-resampler>=0.8.3.1->pycaret) (5.0.0)\n",
            "Requirement already satisfied: retrying in /Users/edprata/Library/Python/3.9/lib/python/site-packages (from dash>=2.9.0->plotly-resampler>=0.8.3.1->pycaret) (1.3.4)\n",
            "Requirement already satisfied: nest-asyncio in /Users/edprata/Library/Python/3.9/lib/python/site-packages (from dash>=2.9.0->plotly-resampler>=0.8.3.1->pycaret) (1.5.8)\n",
            "Requirement already satisfied: parso<0.9.0,>=0.8.3 in /Users/edprata/Library/Python/3.9/lib/python/site-packages (from jedi>=0.16->ipython>=5.5.0->pycaret) (0.8.3)\n",
            "Requirement already satisfied: attrs>=22.2.0 in /Users/edprata/Library/Python/3.9/lib/python/site-packages (from jsonschema>=2.6->nbformat>=4.2.0->pycaret) (24.2.0)\n",
            "Requirement already satisfied: jsonschema-specifications>=2023.03.6 in /Users/edprata/Library/Python/3.9/lib/python/site-packages (from jsonschema>=2.6->nbformat>=4.2.0->pycaret) (2024.10.1)\n",
            "Requirement already satisfied: referencing>=0.28.4 in /Users/edprata/Library/Python/3.9/lib/python/site-packages (from jsonschema>=2.6->nbformat>=4.2.0->pycaret) (0.35.1)\n",
            "Requirement already satisfied: rpds-py>=0.7.1 in /Users/edprata/Library/Python/3.9/lib/python/site-packages (from jsonschema>=2.6->nbformat>=4.2.0->pycaret) (0.21.0)\n",
            "Requirement already satisfied: platformdirs>=2.5 in /Users/edprata/Library/Python/3.9/lib/python/site-packages (from jupyter-core!=5.0.*,>=4.12->nbformat>=4.2.0->pycaret) (3.11.0)\n",
            "Requirement already satisfied: ptyprocess>=0.5 in /Users/edprata/Library/Python/3.9/lib/python/site-packages (from pexpect>4.3->ipython>=5.5.0->pycaret) (0.7.0)\n",
            "Requirement already satisfied: wcwidth in /Users/edprata/Library/Python/3.9/lib/python/site-packages (from prompt-toolkit!=3.0.37,<3.1.0,>=3.0.30->ipython>=5.5.0->pycaret) (0.2.9)\n",
            "Requirement already satisfied: six>=1.5 in /Library/Developer/CommandLineTools/Library/Frameworks/Python3.framework/Versions/3.9/lib/python3.9/site-packages (from python-dateutil>=2.7->matplotlib<3.8.0->pycaret) (1.15.0)\n",
            "Requirement already satisfied: executing>=1.2.0 in /Users/edprata/Library/Python/3.9/lib/python/site-packages (from stack-data->ipython>=5.5.0->pycaret) (2.0.1)\n",
            "Requirement already satisfied: asttokens>=2.1.0 in /Users/edprata/Library/Python/3.9/lib/python/site-packages (from stack-data->ipython>=5.5.0->pycaret) (2.4.1)\n",
            "Requirement already satisfied: pure-eval in /Users/edprata/Library/Python/3.9/lib/python/site-packages (from stack-data->ipython>=5.5.0->pycaret) (0.2.2)\n",
            "Requirement already satisfied: itsdangerous>=2.1.2 in /Users/edprata/Library/Python/3.9/lib/python/site-packages (from Flask<3.1,>=1.0.4->dash>=2.9.0->plotly-resampler>=0.8.3.1->pycaret) (2.2.0)\n",
            "Requirement already satisfied: click>=8.1.3 in /Users/edprata/Library/Python/3.9/lib/python/site-packages (from Flask<3.1,>=1.0.4->dash>=2.9.0->plotly-resampler>=0.8.3.1->pycaret) (8.1.7)\n",
            "Requirement already satisfied: blinker>=1.6.2 in /Users/edprata/Library/Python/3.9/lib/python/site-packages (from Flask<3.1,>=1.0.4->dash>=2.9.0->plotly-resampler>=0.8.3.1->pycaret) (1.9.0)\n",
            "Note: you may need to restart the kernel to use updated packages.\n",
            "Defaulting to user installation because normal site-packages is not writeable\n",
            "Requirement already satisfied: nbimporter in /Users/edprata/Library/Python/3.9/lib/python/site-packages (0.3.4)\n",
            "Note: you may need to restart the kernel to use updated packages.\n",
            "Defaulting to user installation because normal site-packages is not writeable\n",
            "\u001b[31mERROR: Could not find a version that satisfies the requirement libomp (from versions: none)\u001b[0m\u001b[31m\n",
            "\u001b[0m\u001b[31mERROR: No matching distribution found for libomp\u001b[0m\u001b[31m\n",
            "\u001b[0mNote: you may need to restart the kernel to use updated packages.\n",
            "Defaulting to user installation because normal site-packages is not writeable\n",
            "Requirement already satisfied: lightgbm in /Users/edprata/Library/Python/3.9/lib/python/site-packages (4.5.0)\n",
            "Requirement already satisfied: numpy>=1.17.0 in /Users/edprata/Library/Python/3.9/lib/python/site-packages (from lightgbm) (1.26.1)\n",
            "Requirement already satisfied: scipy in /Users/edprata/Library/Python/3.9/lib/python/site-packages (from lightgbm) (1.11.4)\n",
            "Note: you may need to restart the kernel to use updated packages.\n",
            "Defaulting to user installation because normal site-packages is not writeable\n",
            "Requirement already satisfied: keras in /Users/edprata/Library/Python/3.9/lib/python/site-packages (3.7.0)\n",
            "Requirement already satisfied: absl-py in /Users/edprata/Library/Python/3.9/lib/python/site-packages (from keras) (2.1.0)\n",
            "Requirement already satisfied: numpy in /Users/edprata/Library/Python/3.9/lib/python/site-packages (from keras) (1.26.1)\n",
            "Requirement already satisfied: rich in /Users/edprata/Library/Python/3.9/lib/python/site-packages (from keras) (13.9.4)\n",
            "Requirement already satisfied: namex in /Users/edprata/Library/Python/3.9/lib/python/site-packages (from keras) (0.0.8)\n",
            "Requirement already satisfied: h5py in /Users/edprata/Library/Python/3.9/lib/python/site-packages (from keras) (3.12.1)\n",
            "Requirement already satisfied: optree in /Users/edprata/Library/Python/3.9/lib/python/site-packages (from keras) (0.13.1)\n",
            "Requirement already satisfied: ml-dtypes in /Users/edprata/Library/Python/3.9/lib/python/site-packages (from keras) (0.4.1)\n",
            "Requirement already satisfied: packaging in /Users/edprata/Library/Python/3.9/lib/python/site-packages (from keras) (23.2)\n",
            "Requirement already satisfied: typing-extensions>=4.5.0 in /Users/edprata/Library/Python/3.9/lib/python/site-packages (from optree->keras) (4.8.0)\n",
            "Requirement already satisfied: markdown-it-py>=2.2.0 in /Users/edprata/Library/Python/3.9/lib/python/site-packages (from rich->keras) (3.0.0)\n",
            "Requirement already satisfied: pygments<3.0.0,>=2.13.0 in /Users/edprata/Library/Python/3.9/lib/python/site-packages (from rich->keras) (2.16.1)\n",
            "Requirement already satisfied: mdurl~=0.1 in /Users/edprata/Library/Python/3.9/lib/python/site-packages (from markdown-it-py>=2.2.0->rich->keras) (0.1.2)\n",
            "Note: you may need to restart the kernel to use updated packages.\n",
            "Defaulting to user installation because normal site-packages is not writeable\n",
            "Requirement already satisfied: tensorflow in /Users/edprata/Library/Python/3.9/lib/python/site-packages (2.18.0)\n",
            "Requirement already satisfied: absl-py>=1.0.0 in /Users/edprata/Library/Python/3.9/lib/python/site-packages (from tensorflow) (2.1.0)\n",
            "Requirement already satisfied: astunparse>=1.6.0 in /Users/edprata/Library/Python/3.9/lib/python/site-packages (from tensorflow) (1.6.3)\n",
            "Requirement already satisfied: flatbuffers>=24.3.25 in /Users/edprata/Library/Python/3.9/lib/python/site-packages (from tensorflow) (24.3.25)\n",
            "Requirement already satisfied: gast!=0.5.0,!=0.5.1,!=0.5.2,>=0.2.1 in /Users/edprata/Library/Python/3.9/lib/python/site-packages (from tensorflow) (0.6.0)\n",
            "Requirement already satisfied: google-pasta>=0.1.1 in /Users/edprata/Library/Python/3.9/lib/python/site-packages (from tensorflow) (0.2.0)\n",
            "Requirement already satisfied: libclang>=13.0.0 in /Users/edprata/Library/Python/3.9/lib/python/site-packages (from tensorflow) (18.1.1)\n",
            "Requirement already satisfied: opt-einsum>=2.3.2 in /Users/edprata/Library/Python/3.9/lib/python/site-packages (from tensorflow) (3.4.0)\n",
            "Requirement already satisfied: packaging in /Users/edprata/Library/Python/3.9/lib/python/site-packages (from tensorflow) (23.2)\n",
            "Requirement already satisfied: protobuf!=4.21.0,!=4.21.1,!=4.21.2,!=4.21.3,!=4.21.4,!=4.21.5,<6.0.0dev,>=3.20.3 in /Users/edprata/Library/Python/3.9/lib/python/site-packages (from tensorflow) (5.29.1)\n",
            "Requirement already satisfied: requests<3,>=2.21.0 in /Users/edprata/Library/Python/3.9/lib/python/site-packages (from tensorflow) (2.32.3)\n",
            "Requirement already satisfied: setuptools in /Library/Developer/CommandLineTools/Library/Frameworks/Python3.framework/Versions/3.9/lib/python3.9/site-packages (from tensorflow) (58.0.4)\n",
            "Requirement already satisfied: six>=1.12.0 in /Library/Developer/CommandLineTools/Library/Frameworks/Python3.framework/Versions/3.9/lib/python3.9/site-packages (from tensorflow) (1.15.0)\n",
            "Requirement already satisfied: termcolor>=1.1.0 in /Users/edprata/Library/Python/3.9/lib/python/site-packages (from tensorflow) (2.5.0)\n",
            "Requirement already satisfied: typing-extensions>=3.6.6 in /Users/edprata/Library/Python/3.9/lib/python/site-packages (from tensorflow) (4.8.0)\n",
            "Requirement already satisfied: wrapt>=1.11.0 in /Users/edprata/Library/Python/3.9/lib/python/site-packages (from tensorflow) (1.17.0)\n",
            "Requirement already satisfied: grpcio<2.0,>=1.24.3 in /Users/edprata/Library/Python/3.9/lib/python/site-packages (from tensorflow) (1.68.1)\n",
            "Requirement already satisfied: tensorboard<2.19,>=2.18 in /Users/edprata/Library/Python/3.9/lib/python/site-packages (from tensorflow) (2.18.0)\n",
            "Requirement already satisfied: keras>=3.5.0 in /Users/edprata/Library/Python/3.9/lib/python/site-packages (from tensorflow) (3.7.0)\n",
            "Requirement already satisfied: numpy<2.1.0,>=1.26.0 in /Users/edprata/Library/Python/3.9/lib/python/site-packages (from tensorflow) (1.26.1)\n",
            "Requirement already satisfied: h5py>=3.11.0 in /Users/edprata/Library/Python/3.9/lib/python/site-packages (from tensorflow) (3.12.1)\n",
            "Requirement already satisfied: ml-dtypes<0.5.0,>=0.4.0 in /Users/edprata/Library/Python/3.9/lib/python/site-packages (from tensorflow) (0.4.1)\n",
            "Requirement already satisfied: tensorflow-io-gcs-filesystem>=0.23.1 in /Users/edprata/Library/Python/3.9/lib/python/site-packages (from tensorflow) (0.37.1)\n",
            "Requirement already satisfied: wheel<1.0,>=0.23.0 in /Library/Developer/CommandLineTools/Library/Frameworks/Python3.framework/Versions/3.9/lib/python3.9/site-packages (from astunparse>=1.6.0->tensorflow) (0.37.0)\n",
            "Requirement already satisfied: rich in /Users/edprata/Library/Python/3.9/lib/python/site-packages (from keras>=3.5.0->tensorflow) (13.9.4)\n",
            "Requirement already satisfied: namex in /Users/edprata/Library/Python/3.9/lib/python/site-packages (from keras>=3.5.0->tensorflow) (0.0.8)\n",
            "Requirement already satisfied: optree in /Users/edprata/Library/Python/3.9/lib/python/site-packages (from keras>=3.5.0->tensorflow) (0.13.1)\n",
            "Requirement already satisfied: charset-normalizer<4,>=2 in /Users/edprata/Library/Python/3.9/lib/python/site-packages (from requests<3,>=2.21.0->tensorflow) (3.4.0)\n",
            "Requirement already satisfied: idna<4,>=2.5 in /Users/edprata/Library/Python/3.9/lib/python/site-packages (from requests<3,>=2.21.0->tensorflow) (3.10)\n",
            "Requirement already satisfied: urllib3<3,>=1.21.1 in /Users/edprata/Library/Python/3.9/lib/python/site-packages (from requests<3,>=2.21.0->tensorflow) (2.2.3)\n",
            "Requirement already satisfied: certifi>=2017.4.17 in /Users/edprata/Library/Python/3.9/lib/python/site-packages (from requests<3,>=2.21.0->tensorflow) (2024.8.30)\n",
            "Requirement already satisfied: markdown>=2.6.8 in /Users/edprata/Library/Python/3.9/lib/python/site-packages (from tensorboard<2.19,>=2.18->tensorflow) (3.7)\n",
            "Requirement already satisfied: tensorboard-data-server<0.8.0,>=0.7.0 in /Users/edprata/Library/Python/3.9/lib/python/site-packages (from tensorboard<2.19,>=2.18->tensorflow) (0.7.2)\n",
            "Requirement already satisfied: werkzeug>=1.0.1 in /Users/edprata/Library/Python/3.9/lib/python/site-packages (from tensorboard<2.19,>=2.18->tensorflow) (3.0.6)\n",
            "Requirement already satisfied: importlib-metadata>=4.4 in /Users/edprata/Library/Python/3.9/lib/python/site-packages (from markdown>=2.6.8->tensorboard<2.19,>=2.18->tensorflow) (6.8.0)\n",
            "Requirement already satisfied: MarkupSafe>=2.1.1 in /Users/edprata/Library/Python/3.9/lib/python/site-packages (from werkzeug>=1.0.1->tensorboard<2.19,>=2.18->tensorflow) (3.0.2)\n",
            "Requirement already satisfied: markdown-it-py>=2.2.0 in /Users/edprata/Library/Python/3.9/lib/python/site-packages (from rich->keras>=3.5.0->tensorflow) (3.0.0)\n",
            "Requirement already satisfied: pygments<3.0.0,>=2.13.0 in /Users/edprata/Library/Python/3.9/lib/python/site-packages (from rich->keras>=3.5.0->tensorflow) (2.16.1)\n",
            "Requirement already satisfied: zipp>=0.5 in /Users/edprata/Library/Python/3.9/lib/python/site-packages (from importlib-metadata>=4.4->markdown>=2.6.8->tensorboard<2.19,>=2.18->tensorflow) (3.17.0)\n",
            "Requirement already satisfied: mdurl~=0.1 in /Users/edprata/Library/Python/3.9/lib/python/site-packages (from markdown-it-py>=2.2.0->rich->keras>=3.5.0->tensorflow) (0.1.2)\n",
            "Note: you may need to restart the kernel to use updated packages.\n"
          ]
        }
      ],
      "source": [
        "%pip install --upgrade pip\n",
        "%pip install pycaret\n",
        "%pip install nbimporter\n",
        "%pip install libomp\n",
        "%pip install lightgbm\n",
        "%pip install keras\n",
        "%pip install tensorflow"
      ]
    },
    {
      "cell_type": "markdown",
      "metadata": {
        "id": "9nnAjUu03CqM"
      },
      "source": [
        "### Imports das bibliotecas"
      ]
    },
    {
      "cell_type": "code",
      "execution_count": 2,
      "metadata": {
        "id": "Ko8mBOtEyrUs"
      },
      "outputs": [
        {
          "name": "stderr",
          "output_type": "stream",
          "text": [
            "/Users/edprata/Library/Python/3.9/lib/python/site-packages/urllib3/__init__.py:35: NotOpenSSLWarning: urllib3 v2 only supports OpenSSL 1.1.1+, currently the 'ssl' module is compiled with 'LibreSSL 2.8.3'. See: https://github.com/urllib3/urllib3/issues/3020\n",
            "  warnings.warn(\n"
          ]
        }
      ],
      "source": [
        "import pandas as pd\n",
        "import numpy as np\n",
        "import nbimporter\n",
        "import lib_llama_ml as llama\n",
        "import tensorflow\n",
        "\n",
        "from pycaret.classification import *\n",
        "from keras.models import Sequential\n",
        "from keras.layers import Dense\n",
        "from tensorflow.keras import activations"
      ]
    },
    {
      "cell_type": "markdown",
      "metadata": {},
      "source": [
        "## Carregamento da Base\n",
        "\n",
        "Carregamento da base de dados que será utilizada para o trabalho de classificação."
      ]
    },
    {
      "cell_type": "code",
      "execution_count": 3,
      "metadata": {
        "colab": {
          "base_uri": "https://localhost:8080/",
          "height": 256
        },
        "id": "8CHLUGVz0whV",
        "outputId": "9709fe12-4c56-42dd-fc49-d76be6199722"
      },
      "outputs": [
        {
          "name": "stdout",
          "output_type": "stream",
          "text": [
            "(96439, 21)\n",
            "(175804, 12)\n"
          ]
        }
      ],
      "source": [
        "lista_preposicoes = [\n",
        "    pd.read_csv('/Users/edprata/Downloads/Bases/proposicoes-2020.csv', sep=';', on_bad_lines='skip'),\n",
        "    pd.read_csv('/Users/edprata/Downloads/Bases/proposicoes-2021.csv', sep=';', on_bad_lines='skip'),\n",
        "    pd.read_csv('/Users/edprata/Downloads/Bases/proposicoes-2022.csv', sep=';', on_bad_lines='skip')\n",
        "]\n",
        "\n",
        "lista_autores = [\n",
        "    pd.read_csv('/Users/edprata/Downloads/Bases/proposicoesAutores-2020.csv', sep=';'),\n",
        "    pd.read_csv('/Users/edprata/Downloads/Bases/proposicoesAutores-2021.csv', sep=';'),\n",
        "    pd.read_csv('/Users/edprata/Downloads/Bases/proposicoesAutores-2022.csv', sep=';')\n",
        "]\n",
        "\n",
        "proposicoes_raw = pd.concat(lista_preposicoes)\n",
        "autores_raw = pd.concat(lista_autores)\n",
        "\n",
        "print(proposicoes_raw.shape)\n",
        "print(autores_raw.shape)"
      ]
    },
    {
      "cell_type": "markdown",
      "metadata": {},
      "source": [
        "## Análise Exploratória\n",
        "\n",
        "A seguir será feita uma análise exploratória para conhecimento dos dados, posterior tratamento deste dados (higienização) e também para seleção de features úteis ao problema."
      ]
    },
    {
      "cell_type": "markdown",
      "metadata": {},
      "source": [
        "### Conhecendo as colunas\n",
        "\n",
        "Veremos quais colunas as bases apresentam para entender seu significado e como podem ser utilizadas. Além disso, precisamos saber qual coluna utilizar para identificar as Proposições e incluir dados da base de autores, formando uma só base."
      ]
    },
    {
      "cell_type": "code",
      "execution_count": 4,
      "metadata": {},
      "outputs": [
        {
          "data": {
            "text/plain": [
              "Index(['id', 'siglaTipo', 'numero', 'ano', 'codTipo', 'descricaoTipo',\n",
              "       'ementa', 'keywords', 'dataApresentacao', 'uriOrgaoNumerador',\n",
              "       'ultimoStatus_dataHora', 'ultimoStatus_sequencia',\n",
              "       'ultimoStatus_idOrgao', 'ultimoStatus_siglaOrgao',\n",
              "       'ultimoStatus_regime', 'ultimoStatus_descricaoTramitacao',\n",
              "       'ultimoStatus_idTipoTramitacao', 'ultimoStatus_descricaoSituacao',\n",
              "       'ultimoStatus_idSituacao', 'ultimoStatus_despacho',\n",
              "       'ultimoStatus_apreciacao'],\n",
              "      dtype='object')"
            ]
          },
          "execution_count": 4,
          "metadata": {},
          "output_type": "execute_result"
        }
      ],
      "source": [
        "proposicoes_raw.columns"
      ]
    },
    {
      "cell_type": "code",
      "execution_count": 5,
      "metadata": {},
      "outputs": [
        {
          "data": {
            "text/plain": [
              "id                                                                            2077498\n",
              "siglaTipo                                                                          PL\n",
              "numero                                                                           1600\n",
              "ano                                                                              2020\n",
              "codTipo                                                                           139\n",
              "descricaoTipo                                                          Projeto de Lei\n",
              "ementa                              Altera a Lei nº 8.069, de 13 de julho de 1990,...\n",
              "keywords                            Alteração, Estatuto da Criança e do Adolescent...\n",
              "dataApresentacao                                                  2016-02-18T12:56:57\n",
              "uriOrgaoNumerador                   https://dadosabertos.camara.leg.br/api/v2/orga...\n",
              "ultimoStatus_dataHora                                             2021-11-04T00:00:00\n",
              "ultimoStatus_sequencia                                                             82\n",
              "ultimoStatus_idOrgao                                                           2003.0\n",
              "ultimoStatus_siglaOrgao                                                          CCJC\n",
              "ultimoStatus_regime                                   Ordinário (Art. 151, III, RICD)\n",
              "ultimoStatus_descricaoTramitacao                             Publicação de Proposição\n",
              "ultimoStatus_idTipoTramitacao                                                     604\n",
              "ultimoStatus_descricaoSituacao                    Aguardando Designação de Relator(a)\n",
              "ultimoStatus_idSituacao                                                         907.0\n",
              "ultimoStatus_despacho               Encaminhada à publicação. Parecer da Comissão ...\n",
              "ultimoStatus_apreciacao                   Proposição Sujeita à Apreciação do Plenário\n",
              "Name: 1, dtype: object"
            ]
          },
          "execution_count": 5,
          "metadata": {},
          "output_type": "execute_result"
        }
      ],
      "source": [
        "proposicoes_raw.iloc[1]"
      ]
    },
    {
      "cell_type": "code",
      "execution_count": 6,
      "metadata": {},
      "outputs": [
        {
          "data": {
            "text/plain": [
              "Index(['idProposicao', 'uriProposicao', 'idDeputadoAutor', 'uriAutor',\n",
              "       'codTipoAutor', 'tipoAutor', 'nomeAutor', 'siglaPartidoAutor',\n",
              "       'uriPartidoAutor', 'siglaUFAutor', 'ordemAssinatura', 'proponente'],\n",
              "      dtype='object')"
            ]
          },
          "execution_count": 6,
          "metadata": {},
          "output_type": "execute_result"
        }
      ],
      "source": [
        "autores_raw.columns"
      ]
    },
    {
      "cell_type": "code",
      "execution_count": 7,
      "metadata": {},
      "outputs": [
        {
          "data": {
            "text/plain": [
              "idProposicao                                                   2469552\n",
              "uriProposicao        https://dadosabertos.camara.leg.br/api/v2/prop...\n",
              "idDeputadoAutor                                                    NaN\n",
              "uriAutor             https://dadosabertos.camara.leg.br/api/v2/orga...\n",
              "codTipoAutor                                                     40000\n",
              "tipoAutor                                   Órgão do Poder Legislativo\n",
              "nomeAutor                           Senado Federal - Alessandro Vieira\n",
              "siglaPartidoAutor                                                  MDB\n",
              "uriPartidoAutor                                                    NaN\n",
              "siglaUFAutor                                                        SE\n",
              "ordemAssinatura                                                      1\n",
              "proponente                                                           1\n",
              "Name: 1, dtype: object"
            ]
          },
          "execution_count": 7,
          "metadata": {},
          "output_type": "execute_result"
        }
      ],
      "source": [
        "autores_raw.iloc[1]"
      ]
    },
    {
      "cell_type": "markdown",
      "metadata": {},
      "source": [
        "### Explorando colunas com potencial\n",
        "\n",
        "Após observar quais são as colunas disponíveis, vamos explorar melhor aquelas que parecem mais promissoras, principalmente as que possuem dados categóricos, para conhecer o domínio destes campos e descobrir seu potencial de utilização."
      ]
    },
    {
      "cell_type": "markdown",
      "metadata": {},
      "source": [
        "#### Identificando ID da Proposição\n",
        "\n",
        "Vamos precisar encontrar o identificador único da Proposição, pois será necessário cruzar com a base de autores e também encontrar o último estado de cada Proposição, pois a base apresenta, na verdade, as várias tramitações de cada uma durante seu ciclo de vida."
      ]
    },
    {
      "cell_type": "code",
      "execution_count": 8,
      "metadata": {},
      "outputs": [
        {
          "data": {
            "text/plain": [
              "Index(['id', 'siglaTipo', 'numero', 'ano', 'codTipo', 'descricaoTipo',\n",
              "       'ementa', 'keywords', 'dataApresentacao', 'uriOrgaoNumerador',\n",
              "       'ultimoStatus_dataHora', 'ultimoStatus_sequencia',\n",
              "       'ultimoStatus_idOrgao', 'ultimoStatus_siglaOrgao',\n",
              "       'ultimoStatus_regime', 'ultimoStatus_descricaoTramitacao',\n",
              "       'ultimoStatus_idTipoTramitacao', 'ultimoStatus_descricaoSituacao',\n",
              "       'ultimoStatus_idSituacao', 'ultimoStatus_despacho',\n",
              "       'ultimoStatus_apreciacao'],\n",
              "      dtype='object')"
            ]
          },
          "execution_count": 8,
          "metadata": {},
          "output_type": "execute_result"
        }
      ],
      "source": [
        "proposicoes_raw.columns"
      ]
    },
    {
      "cell_type": "code",
      "execution_count": 9,
      "metadata": {},
      "outputs": [
        {
          "data": {
            "text/plain": [
              "96439"
            ]
          },
          "execution_count": 9,
          "metadata": {},
          "output_type": "execute_result"
        }
      ],
      "source": [
        "len(proposicoes_raw['id'].unique())"
      ]
    },
    {
      "cell_type": "markdown",
      "metadata": {},
      "source": [
        "**Resultado:** O campo ID, que parecia ser o identificador único da proposição, não têm esse papel, pois a quantidade de valores únicos desta coluna é igual a quantidade total de linhas do conjunto de dados, porém é conhecido que existe repetições."
      ]
    },
    {
      "cell_type": "code",
      "execution_count": 10,
      "metadata": {},
      "outputs": [
        {
          "data": {
            "text/plain": [
              "5468"
            ]
          },
          "execution_count": 10,
          "metadata": {},
          "output_type": "execute_result"
        }
      ],
      "source": [
        "len(proposicoes_raw['numero'].unique())"
      ]
    },
    {
      "cell_type": "markdown",
      "metadata": {},
      "source": [
        "**Resultado:** Ao testar um outro campo promissor, o \"número\", nos parece mais plausível que possa identificar unicamente uma Proposição. Dividindo o total de linhas do conjunto pela quandidade de elementos únicos da coluna (313090 / 11277), temos cerca de 27 linhas para cada Proposição. Porém, este número parece grande, considerando-se que o ciclo de vida não deve ter tantas fases. Portanto, vamos avaliar melhor esta hipótese."
      ]
    },
    {
      "cell_type": "code",
      "execution_count": 11,
      "metadata": {},
      "outputs": [
        {
          "data": {
            "text/plain": [
              "12576"
            ]
          },
          "execution_count": 11,
          "metadata": {},
          "output_type": "execute_result"
        }
      ],
      "source": [
        "len((proposicoes_raw['ano'].astype(str) + proposicoes_raw['numero'].astype(str)).unique())"
      ]
    },
    {
      "cell_type": "markdown",
      "metadata": {},
      "source": [
        "**Resultado:** Ao verificar a quantidade de elementos únicos juntando o ano com o número, constatamos uma quantidade bem maior de Proposições, o que nos revela que a numeração reinicia a cada ano. Desta forma, para identificar unicamente uma Proposição, vamos precisar do ano e do número juntos. Mais adiante, vamos criar uma nova coluna com este dado para facilitar a manipulação da base e o cruzamento de dados."
      ]
    },
    {
      "cell_type": "markdown",
      "metadata": {},
      "source": [
        "#### Identificando estados de sucesso e fracasso\n",
        "\n",
        "Precisamos descobrir quais estados representam sucesso e fracasso, ou seja, aprovação e reprovação, para, posteriormente, criarmos uma variável alvo que indique quais Proposições obtiveram sucesso e quais não. Vamos listar os valores únicos do campo \"ultimoStatus_descricaoTramitacao\" para avaliar os resultados e selecionar os valores de interesse para o problema."
      ]
    },
    {
      "cell_type": "code",
      "execution_count": 12,
      "metadata": {},
      "outputs": [
        {
          "name": "stdout",
          "output_type": "stream",
          "text": [
            "85\n"
          ]
        },
        {
          "data": {
            "text/plain": [
              "array(['Apresentação de Proposição', 'Publicação de Proposição',\n",
              "       'Arquivamento', 'Ratificação de Parecer', 'Recebimento',\n",
              "       'Análise Parecer', 'Transformação em Norma Jurídica',\n",
              "       'Recebimento - Relator(a)', 'Apresentação de Requerimento',\n",
              "       'Publicação de Despacho',\n",
              "       'Saída de Relator(a) da Comissão - Com Parecer Apresentado',\n",
              "       'Saída de Relator(a) da Comissão - Sem Parecer Apresentado',\n",
              "       'Parecer do(a) Relator(a)', 'Notificação de Apensação',\n",
              "       'Notificações', 'Transformado em Norma Jurídica com Veto Parcial',\n",
              "       'Encerramento de Prazo', 'Designação de Relator(a)',\n",
              "       'Encaminhamento', 'Sessão Solene',\n",
              "       'Aprovação de Proposição Interna', 'Distribuição',\n",
              "       'Recebimento - Relator(a) (Sem Manifestação)',\n",
              "       'Arquivamento - Art.133 do RI', 'Despacho de Apensação',\n",
              "       'Notificação de Despacho', 'Devolução à CCP', 'Apensação',\n",
              "       'Aprovação de Proposição (Plenário)',\n",
              "       'Aprovação de Urgência (154, 155 ou 64 CF)', 'Retirada de Pauta',\n",
              "       'Apresentação de Recurso', 'Retirada pelo(a) Autor(a)',\n",
              "       'Devolução ao(à) Relator(a)',\n",
              "       'Relatório de Conferência de Assinaturas',\n",
              "       'Recebimento - Redação Final', 'Remessa ao Senado Federal',\n",
              "       'Desapensação', 'Perda de eficácia', 'Expedição de Documento',\n",
              "       'Deferido o requerimento de retirada pelo(a) autor(a)',\n",
              "       'Abertura de Prazo', 'Encerramentos', 'Prejudicado Requerimento',\n",
              "       'Pedido de Vista',\n",
              "       'Providência Interna - Comunicação de resposta ostensiva',\n",
              "       'Aprovação do Parecer', 'Novo despacho',\n",
              "       'Prejudicialidade (Plenário)', 'Aprovação de Requerimento',\n",
              "       'Retirada pelo Autor(a) (Plenário)', 'Acessórios',\n",
              "       'Verificação de Votação (Plenário)', 'Recebimento de autógrafos',\n",
              "       'Aprovação da Redação Final', 'Transformada em Nova Proposição',\n",
              "       'Não Informado', 'Notificação de Desapensação',\n",
              "       'Substituição de Versão', 'Rejeição de Proposição (Plenário)',\n",
              "       'Decisão da Presidência', 'Notificação - Pasta genérica',\n",
              "       'Retirada de Requerimento', 'Declaração de Prejudicialidade',\n",
              "       'Rejeição de Requerimento', 'Despacho',\n",
              "       'Discussão da Materia pelos(as) Deputados(as)', 'Votação',\n",
              "       'Devolução ao(à) autor(a)', 'Prejudicado',\n",
              "       'Desarquivamento de Ofício', 'Publicação de Documento',\n",
              "       'Rejeição de Proposicao', 'Declaração de Voto em Separado',\n",
              "       'Encaminhamento da Votação', 'Leitura e publicação do Parecer',\n",
              "       'Desarquivamento a Pedido', 'Encerramento de Discussão',\n",
              "       'Questão de Ordem', 'Comissão Geral',\n",
              "       'Ofício do Congresso Nacional', 'Despacho de Desarquivamento',\n",
              "       'Discussão (Inicio e Continuacao)', 'Não Deliberado',\n",
              "       'Encaminhamento (Plenário)'], dtype=object)"
            ]
          },
          "execution_count": 12,
          "metadata": {},
          "output_type": "execute_result"
        }
      ],
      "source": [
        "tipos_tramitacoes = proposicoes_raw['ultimoStatus_descricaoTramitacao'].unique()\n",
        "print(tipos_tramitacoes.size)\n",
        "tipos_tramitacoes"
      ]
    },
    {
      "cell_type": "markdown",
      "metadata": {},
      "source": [
        "**Resultado:** Foram identificados como estados que representam o sucesso da Proposição, ou seja, sua aprovação pelo congresso, os destacados no código abaixo. Esses estados serão separados em um array para posterior utilização. Embora caiba algumas questões posteriores, como veto presidencial, por exemplo, o escopo deste trabalho é medir a possibilidade de aprovação no congresso. Logo, vamos considerar sucesso toda preposição que passou deste ponto."
      ]
    },
    {
      "cell_type": "code",
      "execution_count": 13,
      "metadata": {},
      "outputs": [],
      "source": [
        "estados_sucesso = [\n",
        "    'Aprovação',\n",
        "    'Aprovação da Redação Final',\n",
        "    'Publicação de Documento', # o documento é publicado após aprovado\n",
        "    'Leitura e publicação', # o documento é publicado após aprovado\n",
        "    'Publicação de Proposição', # a proposição é publicada após aprovada\n",
        "    'Transformação em Norma Jurídica', # dependendo da proposição, sua conclusão é a transformação em norma jurídica\n",
        "    'Transformado em Norma Jurídica com Veto Parcial', # idem anterior\n",
        "    'Recebimento - Redação Final', # a redação final é realizada após a proposição ser aprovada\n",
        "    'Dispensada a Redação Final' # alguns documentos dispensão a redação final por não haver necessidade de correções\n",
        "]\n",
        "\n",
        "estados_fracasso = [\n",
        "\t'Arquivamento',\n",
        "\t'Retirada pelo(a) Autor(a)',\n",
        "\t'Arquivamento - Art.133 do RI',\n",
        "\t'Deferido o requerimento de retirada pelo(a) autor(a)',\n",
        "\t'Rejeição de Proposicao',\n",
        "\t'Transformada em Nova Proposição',\n",
        "\t'Vetado Totalmente',\n",
        "\t'Prejudicado Requerimento', \n",
        "\t'Não Acolhimento',\n",
        "\t'Prejudicialidade (Plenário)',\n",
        "\t'Perda de eficácia',\n",
        "\t'Rejeição de Proposição (Plenário)',\n",
        "\t'Retirada pelo Autor(a) (Plenário)'\n",
        "]"
      ]
    },
    {
      "cell_type": "markdown",
      "metadata": {},
      "source": [
        "#### Identificando tipos de autores\n",
        "\n",
        "Por se tratar de um assunto que envolve política, o autor da Proposição pode exercer influência no seu destino. Por este motivo, vamos listar o conteúdo do campo e conhecer os valores possíveis."
      ]
    },
    {
      "cell_type": "code",
      "execution_count": 14,
      "metadata": {},
      "outputs": [
        {
          "data": {
            "text/plain": [
              "array(['Órgão do Poder Legislativo', 'COMISSÃO DIRETORA', 'Deputado(a)',\n",
              "       'Órgão do Poder Executivo', 'Senador(a)', 'COMISSÃO PERMANENTE',\n",
              "       'Sociedade Civil', 'COMISSÃO PARLAMENTAR DE INQUÉRITO',\n",
              "       'COMISSÃO EXTERNA', 'Liderança',\n",
              "       'MPU - Ministério Público da União', 'COMISSÃO MEDIDA PROVISÓRIA',\n",
              "       'COMISSÃO MISTA PERMANENTE', 'Órgão da Câmara dos Deputados',\n",
              "       'COMISSÃO ESPECIAL', 'Órgão do Poder Judiciário',\n",
              "       'GRUPO DE TRABALHO', 'SUBCOMISSÃO',\n",
              "       'DPU - Defensoria Pública da União', 'CONSELHO',\n",
              "       'Partido Político', 'PERMANENTE DO SENADO FEDERAL'], dtype=object)"
            ]
          },
          "execution_count": 14,
          "metadata": {},
          "output_type": "execute_result"
        }
      ],
      "source": [
        "autores_raw['tipoAutor'].unique()"
      ]
    },
    {
      "cell_type": "markdown",
      "metadata": {},
      "source": [
        "**Resultado:** Podemos observar alguns que há várias fontes possíveis de autoria das Proposições. A fonte talvez tenha influência no processo decisório, pode ser que uma instituição tenha mais presítigio que outra. É uma hipótese interessante a ser verificada na análise descritiva mais adiante."
      ]
    },
    {
      "cell_type": "markdown",
      "metadata": {},
      "source": [
        "## Inclusão dos Autores\n",
        "\n",
        "Como trata-se de um assunto que envolve política, certamente o autor da proposição pode influenciar na avaliação desta e na sua consequente aprovação ou não. Por esse motivo, vamos incluir esse dados na base, a fim de usar como uma feature do problema mais à frente."
      ]
    },
    {
      "cell_type": "markdown",
      "metadata": {},
      "source": [
        "### Filtragem do primeiro signatário\n",
        "\n",
        "Segundo o Portal de Dados Abertos, na página de arquivos da Câmara dos Deputados, a base de autores pode possuir mais de uma linha para cada Proposição, pois, pelo Regimento da Câmara, todos os que assinam uma proposição são considerados autores (art. 102), tanto como proponentes quanto como apoiadores. Porém, apenas o primeiro signatário pode escrever a justificativa (art. 102) e falar sobre a proposição durante votações (art. 192).\n",
        "\n",
        "Por este motivo, também a fim de simplificar o problema, vamos considerar para utilização no modelo apenas o primeiro signatário. Sendo ele quem pode falar sobre a proposição durante as votações, certamente é o que pode exercer mais influência sobre o resultado da mesma."
      ]
    },
    {
      "cell_type": "code",
      "execution_count": 15,
      "metadata": {},
      "outputs": [
        {
          "data": {
            "text/plain": [
              "(97166, 12)"
            ]
          },
          "execution_count": 15,
          "metadata": {},
          "output_type": "execute_result"
        }
      ],
      "source": [
        "autores = autores_raw[autores_raw['ordemAssinatura'] == 1]\n",
        "autores.shape"
      ]
    },
    {
      "cell_type": "markdown",
      "metadata": {},
      "source": [
        "**Resultado:** Após filtrar os registros da base de autores pelo primeiro signatário, observamos que a quantidade de linhas caiu de 642.557 para menos da metade. O que confirma a informação que consta na página já citado de que é comum haver vários autores para cada proposição."
      ]
    },
    {
      "cell_type": "markdown",
      "metadata": {},
      "source": [
        "### Cruzamento da base de proposições com a de autores\n",
        "\n",
        "Agora vamos cruzar as bases de proposições e autores a fim de acrescentar a informação do autor e obter uma base completa."
      ]
    },
    {
      "cell_type": "code",
      "execution_count": 16,
      "metadata": {},
      "outputs": [
        {
          "data": {
            "text/plain": [
              "(96439, 26)"
            ]
          },
          "execution_count": 16,
          "metadata": {},
          "output_type": "execute_result"
        }
      ],
      "source": [
        "proposicoes = pd.merge(\n",
        "    proposicoes_raw,\n",
        "    autores[['idProposicao', 'idDeputadoAutor', 'nomeAutor', 'codTipoAutor', 'tipoAutor', 'siglaPartidoAutor']].rename(columns={'idProposicao': 'id'}),\n",
        "    how='left',\n",
        "    on='id'\n",
        ")\n",
        "\n",
        "proposicoes.shape"
      ]
    },
    {
      "cell_type": "markdown",
      "metadata": {},
      "source": [
        "## Recorte da base\n",
        "\n",
        "Vamos fazer um recorte da base para extrair apenas os dados de interesse. Estes dados devem enquadrar-se nos seguintes critérios que delimitam o escopo deste trabalho:\n",
        "- A Proposição deve ser um Projetos de Lei ou um Projeto de Emenda à Constituição.\n",
        "- Deve ser considerado para a análise apenas o último estado da Proposição, que representa o quanto ela avançou no contexto do processo aplicado pela Câmara dos Deputados."
      ]
    },
    {
      "cell_type": "markdown",
      "metadata": {},
      "source": [
        "### Extraindo PLs e PECs\n",
        "\n",
        "Extração dos Projetos de Lei e Projetos de Emenda à Constituição, que são objeto deste estudo."
      ]
    },
    {
      "cell_type": "code",
      "execution_count": 17,
      "metadata": {},
      "outputs": [
        {
          "name": "stdout",
          "output_type": "stream",
          "text": [
            "Encontradas 11254 preposições, sendo 11213 e 41 emendas.\n"
          ]
        }
      ],
      "source": [
        "proposicoes = proposicoes[proposicoes['descricaoTipo'].apply(\n",
        "    lambda row: True if row in ['Projeto de Lei', 'Proposta de Emenda à Constituição'] else False\n",
        ")]\n",
        "\n",
        "projetos = proposicoes[proposicoes['codTipo'] == 139].shape[0]\n",
        "emendas = proposicoes[proposicoes['codTipo'] == 136].shape[0]\n",
        "print(f\"Encontradas {proposicoes.shape[0]} preposições, sendo {projetos} e {emendas} emendas.\")"
      ]
    },
    {
      "cell_type": "markdown",
      "metadata": {},
      "source": [
        "### Estração do último estado\n",
        "\n",
        "Serão extraídas apenas as linhas referentes ao último estado de cada Proposição, pois a base contém todos os estados durante o ciclo de vida e esta informação é redundante, o que poderia confundir o modelo."
      ]
    },
    {
      "cell_type": "markdown",
      "metadata": {},
      "source": [
        "#### Criação de um ID\n",
        "\n",
        "Será necessário criar um identificador único para as Proposições, a fim de identificar qual seu último estado. A base vem com os dados de ano e número da proposição, eles precisam ser concatenados para se ter um identificador para cada Proposição."
      ]
    },
    {
      "cell_type": "code",
      "execution_count": 18,
      "metadata": {},
      "outputs": [
        {
          "data": {
            "text/plain": [
              "0        20204476\n",
              "1        20201600\n",
              "2        20201599\n",
              "3           20204\n",
              "36          20205\n",
              "           ...   \n",
              "96434    20222764\n",
              "96435    20222840\n",
              "96436    20222459\n",
              "96437    20221998\n",
              "96438       20225\n",
              "Name: idProposicao, Length: 11254, dtype: object"
            ]
          },
          "execution_count": 18,
          "metadata": {},
          "output_type": "execute_result"
        }
      ],
      "source": [
        "proposicoes['idProposicao'] = proposicoes['ano'].astype(str) + proposicoes['numero'].astype(str)\n",
        "proposicoes['idProposicao']"
      ]
    },
    {
      "cell_type": "markdown",
      "metadata": {},
      "source": [
        "#### Ordenação\n",
        "\n",
        "O DataFrame será ordenado pelo identificador da Proposição e pelo número sequencial do último status, assim será mais fácil extrair apenas as linhas referentes ao último estado de cada proposição."
      ]
    },
    {
      "cell_type": "code",
      "execution_count": 19,
      "metadata": {},
      "outputs": [
        {
          "data": {
            "text/html": [
              "<div>\n",
              "<style scoped>\n",
              "    .dataframe tbody tr th:only-of-type {\n",
              "        vertical-align: middle;\n",
              "    }\n",
              "\n",
              "    .dataframe tbody tr th {\n",
              "        vertical-align: top;\n",
              "    }\n",
              "\n",
              "    .dataframe thead th {\n",
              "        text-align: right;\n",
              "    }\n",
              "</style>\n",
              "<table border=\"1\" class=\"dataframe\">\n",
              "  <thead>\n",
              "    <tr style=\"text-align: right;\">\n",
              "      <th></th>\n",
              "      <th>idProposicao</th>\n",
              "      <th>ultimoStatus_descricaoSituacao</th>\n",
              "      <th>ultimoStatus_dataHora</th>\n",
              "      <th>ultimoStatus_sequencia</th>\n",
              "    </tr>\n",
              "  </thead>\n",
              "  <tbody>\n",
              "    <tr>\n",
              "      <th>0</th>\n",
              "      <td>202010</td>\n",
              "      <td>Transformado em Norma Jurídica</td>\n",
              "      <td>2023-10-17T00:00:00</td>\n",
              "      <td>54</td>\n",
              "    </tr>\n",
              "    <tr>\n",
              "      <th>1</th>\n",
              "      <td>202010</td>\n",
              "      <td>NaN</td>\n",
              "      <td>2020-04-17T15:22:00</td>\n",
              "      <td>93</td>\n",
              "    </tr>\n",
              "    <tr>\n",
              "      <th>2</th>\n",
              "      <td>202010</td>\n",
              "      <td>Transformado em Norma Jurídica</td>\n",
              "      <td>2020-05-12T17:09:00</td>\n",
              "      <td>108</td>\n",
              "    </tr>\n",
              "    <tr>\n",
              "      <th>3</th>\n",
              "      <td>2020100</td>\n",
              "      <td>Aguardando Designação de Relator(a)</td>\n",
              "      <td>2020-02-19T09:11:00</td>\n",
              "      <td>15</td>\n",
              "    </tr>\n",
              "    <tr>\n",
              "      <th>4</th>\n",
              "      <td>20201000</td>\n",
              "      <td>Aguardando Designação de Relator(a)</td>\n",
              "      <td>2021-04-15T10:48:00</td>\n",
              "      <td>18</td>\n",
              "    </tr>\n",
              "    <tr>\n",
              "      <th>...</th>\n",
              "      <td>...</td>\n",
              "      <td>...</td>\n",
              "      <td>...</td>\n",
              "      <td>...</td>\n",
              "    </tr>\n",
              "    <tr>\n",
              "      <th>95</th>\n",
              "      <td>2020111</td>\n",
              "      <td>Pronta para Pauta</td>\n",
              "      <td>2024-08-14T10:00:00</td>\n",
              "      <td>28</td>\n",
              "    </tr>\n",
              "    <tr>\n",
              "      <th>96</th>\n",
              "      <td>20201110</td>\n",
              "      <td>Arquivada</td>\n",
              "      <td>2024-09-19T00:00:00</td>\n",
              "      <td>25</td>\n",
              "    </tr>\n",
              "    <tr>\n",
              "      <th>97</th>\n",
              "      <td>20201111</td>\n",
              "      <td>Arquivada</td>\n",
              "      <td>2020-04-28T00:00:00</td>\n",
              "      <td>19</td>\n",
              "    </tr>\n",
              "    <tr>\n",
              "      <th>98</th>\n",
              "      <td>20201112</td>\n",
              "      <td>Arquivada</td>\n",
              "      <td>2021-05-18T00:00:00</td>\n",
              "      <td>15</td>\n",
              "    </tr>\n",
              "    <tr>\n",
              "      <th>99</th>\n",
              "      <td>20201113</td>\n",
              "      <td>Pronta para Pauta</td>\n",
              "      <td>2022-05-04T00:00:00</td>\n",
              "      <td>82</td>\n",
              "    </tr>\n",
              "  </tbody>\n",
              "</table>\n",
              "<p>100 rows × 4 columns</p>\n",
              "</div>"
            ],
            "text/plain": [
              "   idProposicao       ultimoStatus_descricaoSituacao ultimoStatus_dataHora  \\\n",
              "0        202010       Transformado em Norma Jurídica   2023-10-17T00:00:00   \n",
              "1        202010                                  NaN   2020-04-17T15:22:00   \n",
              "2        202010       Transformado em Norma Jurídica   2020-05-12T17:09:00   \n",
              "3       2020100  Aguardando Designação de Relator(a)   2020-02-19T09:11:00   \n",
              "4      20201000  Aguardando Designação de Relator(a)   2021-04-15T10:48:00   \n",
              "..          ...                                  ...                   ...   \n",
              "95      2020111                    Pronta para Pauta   2024-08-14T10:00:00   \n",
              "96     20201110                            Arquivada   2024-09-19T00:00:00   \n",
              "97     20201111                            Arquivada   2020-04-28T00:00:00   \n",
              "98     20201112                            Arquivada   2021-05-18T00:00:00   \n",
              "99     20201113                    Pronta para Pauta   2022-05-04T00:00:00   \n",
              "\n",
              "    ultimoStatus_sequencia  \n",
              "0                       54  \n",
              "1                       93  \n",
              "2                      108  \n",
              "3                       15  \n",
              "4                       18  \n",
              "..                     ...  \n",
              "95                      28  \n",
              "96                      25  \n",
              "97                      19  \n",
              "98                      15  \n",
              "99                      82  \n",
              "\n",
              "[100 rows x 4 columns]"
            ]
          },
          "execution_count": 19,
          "metadata": {},
          "output_type": "execute_result"
        }
      ],
      "source": [
        "proposicoes.sort_values(by=['idProposicao', 'ultimoStatus_sequencia'], ignore_index=True, inplace=True)\n",
        "proposicoes[['idProposicao','ultimoStatus_descricaoSituacao','ultimoStatus_dataHora','ultimoStatus_sequencia']].head(100)"
      ]
    },
    {
      "cell_type": "markdown",
      "metadata": {},
      "source": [
        "#### Extração do último estado\n",
        "\n",
        "Com o DataFrame ordenado, vamos deletar os registros duplicados, tomando por base o identificador criado e, desta forma, a deleção de duplicidade poderá seguir o critério de manter apenas a última linha de cada Proposição. Devido a ordenação, a última linha sempre corresponderá ao estado mais recente."
      ]
    },
    {
      "cell_type": "code",
      "execution_count": 20,
      "metadata": {},
      "outputs": [
        {
          "data": {
            "text/plain": [
              "(11234, 27)"
            ]
          },
          "execution_count": 20,
          "metadata": {},
          "output_type": "execute_result"
        }
      ],
      "source": [
        "proposicoes.drop_duplicates(subset='idProposicao', keep='last', inplace=True)\n",
        "proposicoes.shape"
      ]
    },
    {
      "cell_type": "markdown",
      "metadata": {},
      "source": [
        "## Tratamento e Higienização de Dados\n",
        "\n",
        "Abaixo será realizado tratamento e higienização dos dados para ficar com a qualidade necessária ao trabalho que precisa ser realizado."
      ]
    },
    {
      "cell_type": "markdown",
      "metadata": {},
      "source": [
        "### Analisando dados faltantes\n",
        "\n",
        "O código abaixo apresenta as colunas que possuem dados faltantes e seu percentual, para embasar a decisão de utilizar ou não a feature e também tratar os dados faltantes, caso a feature seja de interesse, a depender também da quantidade de dados que estão faltando."
      ]
    },
    {
      "cell_type": "code",
      "execution_count": 21,
      "metadata": {},
      "outputs": [
        {
          "data": {
            "text/html": [
              "<div>\n",
              "<style scoped>\n",
              "    .dataframe tbody tr th:only-of-type {\n",
              "        vertical-align: middle;\n",
              "    }\n",
              "\n",
              "    .dataframe tbody tr th {\n",
              "        vertical-align: top;\n",
              "    }\n",
              "\n",
              "    .dataframe thead th {\n",
              "        text-align: right;\n",
              "    }\n",
              "</style>\n",
              "<table border=\"1\" class=\"dataframe\">\n",
              "  <thead>\n",
              "    <tr style=\"text-align: right;\">\n",
              "      <th></th>\n",
              "      <th>Collumn</th>\n",
              "      <th>Empty %</th>\n",
              "    </tr>\n",
              "  </thead>\n",
              "  <tbody>\n",
              "    <tr>\n",
              "      <th>14</th>\n",
              "      <td>ultimoStatus_regime</td>\n",
              "      <td>-7.0</td>\n",
              "    </tr>\n",
              "    <tr>\n",
              "      <th>21</th>\n",
              "      <td>idDeputadoAutor</td>\n",
              "      <td>-4.2</td>\n",
              "    </tr>\n",
              "    <tr>\n",
              "      <th>12</th>\n",
              "      <td>ultimoStatus_idOrgao</td>\n",
              "      <td>-3.7</td>\n",
              "    </tr>\n",
              "    <tr>\n",
              "      <th>13</th>\n",
              "      <td>ultimoStatus_siglaOrgao</td>\n",
              "      <td>-3.7</td>\n",
              "    </tr>\n",
              "    <tr>\n",
              "      <th>17</th>\n",
              "      <td>ultimoStatus_descricaoSituacao</td>\n",
              "      <td>-3.7</td>\n",
              "    </tr>\n",
              "    <tr>\n",
              "      <th>18</th>\n",
              "      <td>ultimoStatus_idSituacao</td>\n",
              "      <td>-3.7</td>\n",
              "    </tr>\n",
              "    <tr>\n",
              "      <th>25</th>\n",
              "      <td>siglaPartidoAutor</td>\n",
              "      <td>-1.1</td>\n",
              "    </tr>\n",
              "    <tr>\n",
              "      <th>7</th>\n",
              "      <td>keywords</td>\n",
              "      <td>-0.1</td>\n",
              "    </tr>\n",
              "  </tbody>\n",
              "</table>\n",
              "</div>"
            ],
            "text/plain": [
              "                           Collumn  Empty %\n",
              "14             ultimoStatus_regime     -7.0\n",
              "21                 idDeputadoAutor     -4.2\n",
              "12            ultimoStatus_idOrgao     -3.7\n",
              "13         ultimoStatus_siglaOrgao     -3.7\n",
              "17  ultimoStatus_descricaoSituacao     -3.7\n",
              "18         ultimoStatus_idSituacao     -3.7\n",
              "25               siglaPartidoAutor     -1.1\n",
              "7                         keywords     -0.1"
            ]
          },
          "execution_count": 21,
          "metadata": {},
          "output_type": "execute_result"
        }
      ],
      "source": [
        "llama.PandasDataFrameAnalyser.quantify_missing_data(proposicoes, True)"
      ]
    },
    {
      "cell_type": "markdown",
      "metadata": {},
      "source": [
        "#### Resultado\n",
        "\n",
        "Temos 12 colunas com dados numéricos, sendo que, destas, já podemos identificar que apenas as seguintes têm potencial para apoiar o trabalho:\n",
        "- codTipo, que identifica o tipo de proposição;\n",
        "- ultimoStatus_idTipoTramitacao, que identifica a fase em que está a proposição dentro do processo de avaliação da mesma;\n",
        "- ultimoStatus_idSituacao, identifica o estado do registro.\n",
        "\n",
        "Também observamos que, apesar de serem dados numéricos, eles não possuem ordem de grandeza, são apenas códigos, logo a estatística sumarizada não ajuda para nenhum destes campos.\n",
        "\n",
        "A seguir vamos descartar os dados já identificados como inúteis e iniciar a limpeza do dataset.\n"
      ]
    },
    {
      "cell_type": "code",
      "execution_count": 22,
      "metadata": {},
      "outputs": [
        {
          "data": {
            "text/plain": [
              "(11234, 23)"
            ]
          },
          "execution_count": 22,
          "metadata": {},
          "output_type": "execute_result"
        }
      ],
      "source": [
        "proposicoes_cleaned = proposicoes.drop(columns=[\n",
        "    'ultimoStatus_idOrgao','ultimoStatus_regime',\n",
        "    'ultimoStatus_descricaoSituacao','ultimoStatus_idSituacao'\n",
        "])\n",
        "proposicoes_cleaned.shape"
      ]
    },
    {
      "cell_type": "markdown",
      "metadata": {},
      "source": [
        "Vamos observar, após a limpeza, como está a completude dos dados:"
      ]
    },
    {
      "cell_type": "code",
      "execution_count": 23,
      "metadata": {},
      "outputs": [
        {
          "data": {
            "text/html": [
              "<div>\n",
              "<style scoped>\n",
              "    .dataframe tbody tr th:only-of-type {\n",
              "        vertical-align: middle;\n",
              "    }\n",
              "\n",
              "    .dataframe tbody tr th {\n",
              "        vertical-align: top;\n",
              "    }\n",
              "\n",
              "    .dataframe thead th {\n",
              "        text-align: right;\n",
              "    }\n",
              "</style>\n",
              "<table border=\"1\" class=\"dataframe\">\n",
              "  <thead>\n",
              "    <tr style=\"text-align: right;\">\n",
              "      <th></th>\n",
              "      <th>Collumn</th>\n",
              "      <th>Empty %</th>\n",
              "    </tr>\n",
              "  </thead>\n",
              "  <tbody>\n",
              "    <tr>\n",
              "      <th>17</th>\n",
              "      <td>idDeputadoAutor</td>\n",
              "      <td>-4.2</td>\n",
              "    </tr>\n",
              "    <tr>\n",
              "      <th>12</th>\n",
              "      <td>ultimoStatus_siglaOrgao</td>\n",
              "      <td>-3.7</td>\n",
              "    </tr>\n",
              "    <tr>\n",
              "      <th>21</th>\n",
              "      <td>siglaPartidoAutor</td>\n",
              "      <td>-1.1</td>\n",
              "    </tr>\n",
              "    <tr>\n",
              "      <th>7</th>\n",
              "      <td>keywords</td>\n",
              "      <td>-0.1</td>\n",
              "    </tr>\n",
              "  </tbody>\n",
              "</table>\n",
              "</div>"
            ],
            "text/plain": [
              "                    Collumn  Empty %\n",
              "17          idDeputadoAutor     -4.2\n",
              "12  ultimoStatus_siglaOrgao     -3.7\n",
              "21        siglaPartidoAutor     -1.1\n",
              "7                  keywords     -0.1"
            ]
          },
          "execution_count": 23,
          "metadata": {},
          "output_type": "execute_result"
        }
      ],
      "source": [
        "llama.PandasDataFrameAnalyser.quantify_missing_data(proposicoes_cleaned, True)"
      ]
    },
    {
      "cell_type": "markdown",
      "metadata": {},
      "source": [
        "Os campos que ainda possuem dados faltantes vão precisar de tratamento. O critério adotado será de preencher com número zero, para não causar nenhum viés."
      ]
    },
    {
      "cell_type": "code",
      "execution_count": 24,
      "metadata": {},
      "outputs": [
        {
          "data": {
            "text/html": [
              "<div>\n",
              "<style scoped>\n",
              "    .dataframe tbody tr th:only-of-type {\n",
              "        vertical-align: middle;\n",
              "    }\n",
              "\n",
              "    .dataframe tbody tr th {\n",
              "        vertical-align: top;\n",
              "    }\n",
              "\n",
              "    .dataframe thead th {\n",
              "        text-align: right;\n",
              "    }\n",
              "</style>\n",
              "<table border=\"1\" class=\"dataframe\">\n",
              "  <thead>\n",
              "    <tr style=\"text-align: right;\">\n",
              "      <th></th>\n",
              "      <th>idDeputadoAutor</th>\n",
              "      <th>siglaPartidoAutor</th>\n",
              "      <th>keywords</th>\n",
              "    </tr>\n",
              "  </thead>\n",
              "  <tbody>\n",
              "    <tr>\n",
              "      <th>2</th>\n",
              "      <td>0.0</td>\n",
              "      <td>0</td>\n",
              "      <td>Orçamento federal, separação, despesa pública,...</td>\n",
              "    </tr>\n",
              "    <tr>\n",
              "      <th>3</th>\n",
              "      <td>72442.0</td>\n",
              "      <td>PSB</td>\n",
              "      <td>Compensação, contrapartida, poder público,  be...</td>\n",
              "    </tr>\n",
              "    <tr>\n",
              "      <th>4</th>\n",
              "      <td>76874.0</td>\n",
              "      <td>PSOL</td>\n",
              "      <td>Criação, Plano Emergencial para Enfrentamento ...</td>\n",
              "    </tr>\n",
              "    <tr>\n",
              "      <th>5</th>\n",
              "      <td>204548.0</td>\n",
              "      <td>PSL</td>\n",
              "      <td>Ponto de apoio, rodovia federal, motorista de ...</td>\n",
              "    </tr>\n",
              "    <tr>\n",
              "      <th>6</th>\n",
              "      <td>73486.0</td>\n",
              "      <td>PDT</td>\n",
              "      <td>Recursos, Fundo Especial de Financiamento de C...</td>\n",
              "    </tr>\n",
              "    <tr>\n",
              "      <th>...</th>\n",
              "      <td>...</td>\n",
              "      <td>...</td>\n",
              "      <td>...</td>\n",
              "    </tr>\n",
              "    <tr>\n",
              "      <th>11249</th>\n",
              "      <td>204572.0</td>\n",
              "      <td>PL</td>\n",
              "      <td>Criação, Programa Nacional de Apoio à Aquisiçã...</td>\n",
              "    </tr>\n",
              "    <tr>\n",
              "      <th>11250</th>\n",
              "      <td>204391.0</td>\n",
              "      <td>PP</td>\n",
              "      <td>Obrigatoriedade, instalação, cadeira de segura...</td>\n",
              "    </tr>\n",
              "    <tr>\n",
              "      <th>11251</th>\n",
              "      <td>204570.0</td>\n",
              "      <td>PL</td>\n",
              "      <td>Criação, Dia Nacional de Conscientização e Enf...</td>\n",
              "    </tr>\n",
              "    <tr>\n",
              "      <th>11252</th>\n",
              "      <td>204570.0</td>\n",
              "      <td>PL</td>\n",
              "      <td>Alteração, Lei do Atendimento Prioritário, inc...</td>\n",
              "    </tr>\n",
              "    <tr>\n",
              "      <th>11253</th>\n",
              "      <td>204570.0</td>\n",
              "      <td>PL</td>\n",
              "      <td>Alteração, Código Penal, Crime contra o sentim...</td>\n",
              "    </tr>\n",
              "  </tbody>\n",
              "</table>\n",
              "<p>11234 rows × 3 columns</p>\n",
              "</div>"
            ],
            "text/plain": [
              "       idDeputadoAutor siglaPartidoAutor  \\\n",
              "2                  0.0                 0   \n",
              "3              72442.0               PSB   \n",
              "4              76874.0              PSOL   \n",
              "5             204548.0               PSL   \n",
              "6              73486.0               PDT   \n",
              "...                ...               ...   \n",
              "11249         204572.0                PL   \n",
              "11250         204391.0                PP   \n",
              "11251         204570.0                PL   \n",
              "11252         204570.0                PL   \n",
              "11253         204570.0                PL   \n",
              "\n",
              "                                                keywords  \n",
              "2      Orçamento federal, separação, despesa pública,...  \n",
              "3      Compensação, contrapartida, poder público,  be...  \n",
              "4      Criação, Plano Emergencial para Enfrentamento ...  \n",
              "5      Ponto de apoio, rodovia federal, motorista de ...  \n",
              "6      Recursos, Fundo Especial de Financiamento de C...  \n",
              "...                                                  ...  \n",
              "11249  Criação, Programa Nacional de Apoio à Aquisiçã...  \n",
              "11250  Obrigatoriedade, instalação, cadeira de segura...  \n",
              "11251  Criação, Dia Nacional de Conscientização e Enf...  \n",
              "11252  Alteração, Lei do Atendimento Prioritário, inc...  \n",
              "11253  Alteração, Código Penal, Crime contra o sentim...  \n",
              "\n",
              "[11234 rows x 3 columns]"
            ]
          },
          "execution_count": 24,
          "metadata": {},
          "output_type": "execute_result"
        }
      ],
      "source": [
        "proposicoes_cleaned['idDeputadoAutor'] = proposicoes_cleaned['idDeputadoAutor'].fillna(0)\n",
        "proposicoes_cleaned['siglaPartidoAutor'] = proposicoes_cleaned['siglaPartidoAutor'].fillna(0)\n",
        "proposicoes_cleaned['keywords'] = proposicoes_cleaned['keywords'].fillna(0)\n",
        "proposicoes_cleaned[['idDeputadoAutor', 'siglaPartidoAutor', 'keywords']]"
      ]
    },
    {
      "cell_type": "code",
      "execution_count": 25,
      "metadata": {},
      "outputs": [
        {
          "data": {
            "text/html": [
              "<div>\n",
              "<style scoped>\n",
              "    .dataframe tbody tr th:only-of-type {\n",
              "        vertical-align: middle;\n",
              "    }\n",
              "\n",
              "    .dataframe tbody tr th {\n",
              "        vertical-align: top;\n",
              "    }\n",
              "\n",
              "    .dataframe thead th {\n",
              "        text-align: right;\n",
              "    }\n",
              "</style>\n",
              "<table border=\"1\" class=\"dataframe\">\n",
              "  <thead>\n",
              "    <tr style=\"text-align: right;\">\n",
              "      <th></th>\n",
              "      <th>Collumn</th>\n",
              "      <th>Empty %</th>\n",
              "    </tr>\n",
              "  </thead>\n",
              "  <tbody>\n",
              "    <tr>\n",
              "      <th>12</th>\n",
              "      <td>ultimoStatus_siglaOrgao</td>\n",
              "      <td>-3.7</td>\n",
              "    </tr>\n",
              "  </tbody>\n",
              "</table>\n",
              "</div>"
            ],
            "text/plain": [
              "                    Collumn  Empty %\n",
              "12  ultimoStatus_siglaOrgao     -3.7"
            ]
          },
          "execution_count": 25,
          "metadata": {},
          "output_type": "execute_result"
        }
      ],
      "source": [
        "llama.PandasDataFrameAnalyser.quantify_missing_data(proposicoes_cleaned, True)"
      ]
    },
    {
      "cell_type": "markdown",
      "metadata": {},
      "source": [
        "Ao final, verificamos que os vazios foram tratados com sucesso."
      ]
    },
    {
      "cell_type": "markdown",
      "metadata": {},
      "source": [
        "### Analisando colunas restantes\n",
        "\n",
        "Vamos observar as demais colunas para selecionar as que podem ser usadas como features do problema."
      ]
    },
    {
      "cell_type": "code",
      "execution_count": 26,
      "metadata": {},
      "outputs": [
        {
          "data": {
            "text/plain": [
              "Index(['id', 'siglaTipo', 'numero', 'ano', 'codTipo', 'descricaoTipo',\n",
              "       'ementa', 'keywords', 'dataApresentacao', 'uriOrgaoNumerador',\n",
              "       'ultimoStatus_dataHora', 'ultimoStatus_sequencia',\n",
              "       'ultimoStatus_siglaOrgao', 'ultimoStatus_descricaoTramitacao',\n",
              "       'ultimoStatus_idTipoTramitacao', 'ultimoStatus_despacho',\n",
              "       'ultimoStatus_apreciacao', 'idDeputadoAutor', 'nomeAutor',\n",
              "       'codTipoAutor', 'tipoAutor', 'siglaPartidoAutor', 'idProposicao'],\n",
              "      dtype='object')"
            ]
          },
          "execution_count": 26,
          "metadata": {},
          "output_type": "execute_result"
        }
      ],
      "source": [
        "proposicoes_cleaned.columns"
      ]
    },
    {
      "cell_type": "markdown",
      "metadata": {},
      "source": [
        "Vamos agora eliminar as que não têm utilidade e preservar as que possuem potencial de tornarem-se features para o modelo."
      ]
    },
    {
      "cell_type": "code",
      "execution_count": 27,
      "metadata": {},
      "outputs": [
        {
          "data": {
            "text/html": [
              "<div>\n",
              "<style scoped>\n",
              "    .dataframe tbody tr th:only-of-type {\n",
              "        vertical-align: middle;\n",
              "    }\n",
              "\n",
              "    .dataframe tbody tr th {\n",
              "        vertical-align: top;\n",
              "    }\n",
              "\n",
              "    .dataframe thead th {\n",
              "        text-align: right;\n",
              "    }\n",
              "</style>\n",
              "<table border=\"1\" class=\"dataframe\">\n",
              "  <thead>\n",
              "    <tr style=\"text-align: right;\">\n",
              "      <th></th>\n",
              "      <th>idProposicao</th>\n",
              "      <th>codTipo</th>\n",
              "      <th>codTipoAutor</th>\n",
              "      <th>idDeputadoAutor</th>\n",
              "      <th>nomeAutor</th>\n",
              "      <th>siglaPartidoAutor</th>\n",
              "      <th>keywords</th>\n",
              "      <th>ementa</th>\n",
              "      <th>ultimoStatus_descricaoTramitacao</th>\n",
              "    </tr>\n",
              "  </thead>\n",
              "  <tbody>\n",
              "    <tr>\n",
              "      <th>2</th>\n",
              "      <td>202010</td>\n",
              "      <td>136</td>\n",
              "      <td>40000.0</td>\n",
              "      <td>0.0</td>\n",
              "      <td>Senado Federal</td>\n",
              "      <td>0</td>\n",
              "      <td>Orçamento federal, separação, despesa pública,...</td>\n",
              "      <td>Institui Regime Extraordinário Fiscal, Finance...</td>\n",
              "      <td>Apresentação de Proposição</td>\n",
              "    </tr>\n",
              "    <tr>\n",
              "      <th>3</th>\n",
              "      <td>2020100</td>\n",
              "      <td>139</td>\n",
              "      <td>10000.0</td>\n",
              "      <td>72442.0</td>\n",
              "      <td>Felipe Carreras</td>\n",
              "      <td>PSB</td>\n",
              "      <td>Compensação, contrapartida, poder público,  be...</td>\n",
              "      <td>Estabelece normas de compensação de benefícios...</td>\n",
              "      <td>Recebimento</td>\n",
              "    </tr>\n",
              "    <tr>\n",
              "      <th>4</th>\n",
              "      <td>20201000</td>\n",
              "      <td>139</td>\n",
              "      <td>10000.0</td>\n",
              "      <td>76874.0</td>\n",
              "      <td>Marcelo Freixo</td>\n",
              "      <td>PSOL</td>\n",
              "      <td>Criação, Plano Emergencial para Enfrentamento ...</td>\n",
              "      <td>Cria o Plano Emergencial para Enfrentamento ao...</td>\n",
              "      <td>Recebimento</td>\n",
              "    </tr>\n",
              "    <tr>\n",
              "      <th>5</th>\n",
              "      <td>20201001</td>\n",
              "      <td>139</td>\n",
              "      <td>10000.0</td>\n",
              "      <td>204548.0</td>\n",
              "      <td>Heitor Freire</td>\n",
              "      <td>PSL</td>\n",
              "      <td>Ponto de apoio, rodovia federal, motorista de ...</td>\n",
              "      <td>Estabelece a obrigatoriedade de pontos de apoi...</td>\n",
              "      <td>Encerramento de Prazo</td>\n",
              "    </tr>\n",
              "    <tr>\n",
              "      <th>6</th>\n",
              "      <td>20201002</td>\n",
              "      <td>139</td>\n",
              "      <td>10000.0</td>\n",
              "      <td>73486.0</td>\n",
              "      <td>Pompeo de Mattos</td>\n",
              "      <td>PDT</td>\n",
              "      <td>Recursos, Fundo Especial de Financiamento de C...</td>\n",
              "      <td>Destina integralmente o montante de R$ 2.034.9...</td>\n",
              "      <td>Arquivamento</td>\n",
              "    </tr>\n",
              "  </tbody>\n",
              "</table>\n",
              "</div>"
            ],
            "text/plain": [
              "  idProposicao  codTipo  codTipoAutor  idDeputadoAutor         nomeAutor  \\\n",
              "2       202010      136       40000.0              0.0    Senado Federal   \n",
              "3      2020100      139       10000.0          72442.0   Felipe Carreras   \n",
              "4     20201000      139       10000.0          76874.0    Marcelo Freixo   \n",
              "5     20201001      139       10000.0         204548.0     Heitor Freire   \n",
              "6     20201002      139       10000.0          73486.0  Pompeo de Mattos   \n",
              "\n",
              "  siglaPartidoAutor                                           keywords  \\\n",
              "2                 0  Orçamento federal, separação, despesa pública,...   \n",
              "3               PSB  Compensação, contrapartida, poder público,  be...   \n",
              "4              PSOL  Criação, Plano Emergencial para Enfrentamento ...   \n",
              "5               PSL  Ponto de apoio, rodovia federal, motorista de ...   \n",
              "6               PDT  Recursos, Fundo Especial de Financiamento de C...   \n",
              "\n",
              "                                              ementa  \\\n",
              "2  Institui Regime Extraordinário Fiscal, Finance...   \n",
              "3  Estabelece normas de compensação de benefícios...   \n",
              "4  Cria o Plano Emergencial para Enfrentamento ao...   \n",
              "5  Estabelece a obrigatoriedade de pontos de apoi...   \n",
              "6  Destina integralmente o montante de R$ 2.034.9...   \n",
              "\n",
              "  ultimoStatus_descricaoTramitacao  \n",
              "2       Apresentação de Proposição  \n",
              "3                      Recebimento  \n",
              "4                      Recebimento  \n",
              "5            Encerramento de Prazo  \n",
              "6                     Arquivamento  "
            ]
          },
          "execution_count": 27,
          "metadata": {},
          "output_type": "execute_result"
        }
      ],
      "source": [
        "proposicoes_cleaned = proposicoes_cleaned[[\n",
        "    'idProposicao','codTipo','codTipoAutor','idDeputadoAutor','nomeAutor','siglaPartidoAutor','keywords','ementa','ultimoStatus_descricaoTramitacao'\n",
        "]]\n",
        "proposicoes_cleaned.head()"
      ]
    },
    {
      "cell_type": "markdown",
      "metadata": {},
      "source": [
        "#### Analisando coluna do partido\n",
        "\n",
        "Vamos verificar o dado que indica o partido e sua qualidade."
      ]
    },
    {
      "cell_type": "code",
      "execution_count": 28,
      "metadata": {},
      "outputs": [
        {
          "data": {
            "text/plain": [
              "array([0, 'PSB', 'PSOL', 'PSL', 'PDT', 'PT', 'PSDB', 'REPUBLIC', 'DEM',\n",
              "       'PL', 'MDB', 'PP', 'PTB', 'PSD', 'CIDADANIA', 'PSC', 'NOVO',\n",
              "       'PROS', 'PODE', 'PATRIOTA', 'PODEMOS', 'PCdoB', 'AVANTE', 'PV',\n",
              "       'SOLIDARI', 'PRB', 'REDE', 'PPS', 'Cidadania', 'Podemos', 'REPUB',\n",
              "       'PMDB', 'SD', 'UNIÃO', 'PR', 'REPUBLI', 'S.PART.'], dtype=object)"
            ]
          },
          "execution_count": 28,
          "metadata": {},
          "output_type": "execute_result"
        }
      ],
      "source": [
        "proposicoes_cleaned['siglaPartidoAutor'].unique()"
      ]
    },
    {
      "cell_type": "markdown",
      "metadata": {},
      "source": [
        "Verifica-se que há algumas inconsistências que precisamos tratar, tais como nomes parcialmente escritos que referen-se ao mesmo partido. Vamos ajustar a seguir."
      ]
    },
    {
      "cell_type": "code",
      "execution_count": 29,
      "metadata": {},
      "outputs": [
        {
          "data": {
            "text/plain": [
              "array(['N/A', 'PSB', 'PSOL', 'PSL', 'PDT', 'PT', 'PSDB', 'REPUBLICANOS',\n",
              "       'DEM', 'PL', 'MDB', 'PP', 'PTB', 'PSD', 'CIDADANIA', 'PSC', 'NOVO',\n",
              "       'PROS', 'PODEMOS', 'PATRIOTA', 'PCDOB', 'AVANTE', 'PV',\n",
              "       'SOLIDARIEDADE', 'PRB', 'REDE', 'PPS', 'PMDB', 'SD', 'UNIÃO', 'PR'],\n",
              "      dtype=object)"
            ]
          },
          "execution_count": 29,
          "metadata": {},
          "output_type": "execute_result"
        }
      ],
      "source": [
        "proposicoes_cleaned['siglaPartidoAutor'] = proposicoes_cleaned['siglaPartidoAutor'].apply(lambda x: 'N/A' if x == 0 or x == 'S.PART.' or x == 'S Partido' or x == 'S/Partido' or x == 'SemPartido' or x == 'S/PARTIDO' else x)\n",
        "proposicoes_cleaned['siglaPartidoAutor'] = proposicoes_cleaned['siglaPartidoAutor'].apply(lambda x: str(x).upper())\n",
        "proposicoes_cleaned['siglaPartidoAutor'] = proposicoes_cleaned['siglaPartidoAutor'].apply(lambda x: 'PP' if x == 'PP**' else x)\n",
        "proposicoes_cleaned['siglaPartidoAutor'] = proposicoes_cleaned['siglaPartidoAutor'].apply(lambda x: 'PODEMOS' if x == 'PODE' else x)\n",
        "proposicoes_cleaned['siglaPartidoAutor'] = proposicoes_cleaned['siglaPartidoAutor'].apply(lambda x: 'PATRIOTA' if x == 'PATRI' else x)\n",
        "proposicoes_cleaned['siglaPartidoAutor'] = proposicoes_cleaned['siglaPartidoAutor'].apply(lambda x: 'SOLIDARIEDADE' if x == 'SOLIDARI' or x == 'SOLIDARIED' else x)\n",
        "proposicoes_cleaned['siglaPartidoAutor'] = proposicoes_cleaned['siglaPartidoAutor'].apply(lambda x: 'REPUBLICANOS' if x == 'REPUBLIC' or x == 'REPUBLI' or x == 'REPUB' else x)\n",
        "proposicoes_cleaned['siglaPartidoAutor'].unique()"
      ]
    },
    {
      "cell_type": "markdown",
      "metadata": {},
      "source": [
        "### Tratamento de features categóricas\n",
        "\n",
        "O conjunto de dados apresenta uma feature categórica que é o campo siglaPartidoAutor. Vamos tratar esse campo para transformá-lo em um dados numérico, para que possa ser processado pelo modelo de ML. Substituiremos a sigla por um código."
      ]
    },
    {
      "cell_type": "code",
      "execution_count": 30,
      "metadata": {},
      "outputs": [
        {
          "data": {
            "text/plain": [
              "(31, 2)"
            ]
          },
          "execution_count": 30,
          "metadata": {},
          "output_type": "execute_result"
        }
      ],
      "source": [
        "partidos = proposicoes_cleaned['siglaPartidoAutor'].unique()\n",
        "partidos = pd.DataFrame({\n",
        "    'codigoPartidoAutor': range(1, len(partidos)+1),\n",
        "    'siglaPartidoAutor': partidos\n",
        "})\n",
        "partidos.shape\n"
      ]
    },
    {
      "cell_type": "code",
      "execution_count": 31,
      "metadata": {},
      "outputs": [
        {
          "data": {
            "text/plain": [
              "(11234, 10)"
            ]
          },
          "execution_count": 31,
          "metadata": {},
          "output_type": "execute_result"
        }
      ],
      "source": [
        "proposicoes_cleaned = pd.merge(proposicoes_cleaned, partidos, on='siglaPartidoAutor')\n",
        "proposicoes_cleaned.shape"
      ]
    },
    {
      "cell_type": "markdown",
      "metadata": {},
      "source": [
        "**Resultado:** A partir deste ponto, temos uma coluna a mais que identifica o partido por um número. Desta forma, pode ser processada pelo modelo de ML."
      ]
    },
    {
      "cell_type": "markdown",
      "metadata": {},
      "source": [
        "### Tratamento de dados em texto\n",
        "\n",
        "Os dados textuais não podem ser processados, precisam tornar-se dados numéricos. Para isso, vamos utilizar a técnica de TF-IDF, que trabalha com o conceito de frequência na ocorrência das palavras para identificar as mais relevantes. Essa técnica é muito utilizada em problemas que envolvem linguagem natural."
      ]
    },
    {
      "cell_type": "code",
      "execution_count": 32,
      "metadata": {},
      "outputs": [
        {
          "data": {
            "text/html": [
              "<div>\n",
              "<style scoped>\n",
              "    .dataframe tbody tr th:only-of-type {\n",
              "        vertical-align: middle;\n",
              "    }\n",
              "\n",
              "    .dataframe tbody tr th {\n",
              "        vertical-align: top;\n",
              "    }\n",
              "\n",
              "    .dataframe thead th {\n",
              "        text-align: right;\n",
              "    }\n",
              "</style>\n",
              "<table border=\"1\" class=\"dataframe\">\n",
              "  <thead>\n",
              "    <tr style=\"text-align: right;\">\n",
              "      <th></th>\n",
              "      <th>idProposicao</th>\n",
              "      <th>codTipo</th>\n",
              "      <th>codTipoAutor</th>\n",
              "      <th>idDeputadoAutor</th>\n",
              "      <th>nomeAutor</th>\n",
              "      <th>siglaPartidoAutor</th>\n",
              "      <th>keywords</th>\n",
              "      <th>ementa</th>\n",
              "      <th>ultimoStatus_descricaoTramitacao</th>\n",
              "      <th>codigoPartidoAutor</th>\n",
              "    </tr>\n",
              "  </thead>\n",
              "  <tbody>\n",
              "    <tr>\n",
              "      <th>0</th>\n",
              "      <td>202010</td>\n",
              "      <td>136</td>\n",
              "      <td>40000.0</td>\n",
              "      <td>0.0</td>\n",
              "      <td>Senado Federal</td>\n",
              "      <td>N/A</td>\n",
              "      <td>Oramento federal separao despesa pblica combat...</td>\n",
              "      <td>Institui Regime Extraordinrio Fiscal Financeir...</td>\n",
              "      <td>Apresentação de Proposição</td>\n",
              "      <td>1</td>\n",
              "    </tr>\n",
              "    <tr>\n",
              "      <th>1</th>\n",
              "      <td>20201024</td>\n",
              "      <td>139</td>\n",
              "      <td>30000.0</td>\n",
              "      <td>0.0</td>\n",
              "      <td>Poder Executivo</td>\n",
              "      <td>N/A</td>\n",
              "      <td>Alterao Lei do CREA exerccio profissional Enge...</td>\n",
              "      <td>Altera a Lei n  de  de dezembro de  que regula...</td>\n",
              "      <td>Encerramento de Prazo</td>\n",
              "      <td>1</td>\n",
              "    </tr>\n",
              "    <tr>\n",
              "      <th>2</th>\n",
              "      <td>2020131</td>\n",
              "      <td>139</td>\n",
              "      <td>2.0</td>\n",
              "      <td>0.0</td>\n",
              "      <td>Comissão de Legislação Participativa</td>\n",
              "      <td>N/A</td>\n",
              "      <td>Reconhecimento comunidade tradicional pesca ar...</td>\n",
              "      <td>Dispe sobre o reconhecimento proteo e garantia...</td>\n",
              "      <td>Apresentação de Requerimento</td>\n",
              "      <td>1</td>\n",
              "    </tr>\n",
              "    <tr>\n",
              "      <th>3</th>\n",
              "      <td>202018</td>\n",
              "      <td>136</td>\n",
              "      <td>40000.0</td>\n",
              "      <td>0.0</td>\n",
              "      <td>Senado Federal</td>\n",
              "      <td>N/A</td>\n",
              "      <td>Constituio Federal  disciplinamento adiamento ...</td>\n",
              "      <td>Adia em razo da pandemia do coronavrus Covid a...</td>\n",
              "      <td>Notificação de Despacho</td>\n",
              "      <td>1</td>\n",
              "    </tr>\n",
              "    <tr>\n",
              "      <th>4</th>\n",
              "      <td>2020191</td>\n",
              "      <td>139</td>\n",
              "      <td>30000.0</td>\n",
              "      <td>0.0</td>\n",
              "      <td>Poder Executivo</td>\n",
              "      <td>N/A</td>\n",
              "      <td>Regulamentao Constituio Federal  minerao gerao...</td>\n",
              "      <td>Regulamenta o   do art  e o   do art  da Const...</td>\n",
              "      <td>Notificação de Despacho</td>\n",
              "      <td>1</td>\n",
              "    </tr>\n",
              "  </tbody>\n",
              "</table>\n",
              "</div>"
            ],
            "text/plain": [
              "  idProposicao  codTipo  codTipoAutor  idDeputadoAutor  \\\n",
              "0       202010      136       40000.0              0.0   \n",
              "1     20201024      139       30000.0              0.0   \n",
              "2      2020131      139           2.0              0.0   \n",
              "3       202018      136       40000.0              0.0   \n",
              "4      2020191      139       30000.0              0.0   \n",
              "\n",
              "                              nomeAutor siglaPartidoAutor  \\\n",
              "0                        Senado Federal               N/A   \n",
              "1                       Poder Executivo               N/A   \n",
              "2  Comissão de Legislação Participativa               N/A   \n",
              "3                        Senado Federal               N/A   \n",
              "4                       Poder Executivo               N/A   \n",
              "\n",
              "                                            keywords  \\\n",
              "0  Oramento federal separao despesa pblica combat...   \n",
              "1  Alterao Lei do CREA exerccio profissional Enge...   \n",
              "2  Reconhecimento comunidade tradicional pesca ar...   \n",
              "3  Constituio Federal  disciplinamento adiamento ...   \n",
              "4  Regulamentao Constituio Federal  minerao gerao...   \n",
              "\n",
              "                                              ementa  \\\n",
              "0  Institui Regime Extraordinrio Fiscal Financeir...   \n",
              "1  Altera a Lei n  de  de dezembro de  que regula...   \n",
              "2  Dispe sobre o reconhecimento proteo e garantia...   \n",
              "3  Adia em razo da pandemia do coronavrus Covid a...   \n",
              "4  Regulamenta o   do art  e o   do art  da Const...   \n",
              "\n",
              "  ultimoStatus_descricaoTramitacao  codigoPartidoAutor  \n",
              "0       Apresentação de Proposição                   1  \n",
              "1            Encerramento de Prazo                   1  \n",
              "2     Apresentação de Requerimento                   1  \n",
              "3          Notificação de Despacho                   1  \n",
              "4          Notificação de Despacho                   1  "
            ]
          },
          "execution_count": 32,
          "metadata": {},
          "output_type": "execute_result"
        }
      ],
      "source": [
        "proposicoes_prepared = llama.NlpUtils.clean_for_ff_idf(data=proposicoes_cleaned, collumnNames=['keywords', 'ementa'])\n",
        "proposicoes_prepared.head()"
      ]
    },
    {
      "cell_type": "code",
      "execution_count": 33,
      "metadata": {},
      "outputs": [
        {
          "name": "stderr",
          "output_type": "stream",
          "text": [
            "[nltk_data] Downloading package stopwords to\n",
            "[nltk_data]     /Users/edprata/nltk_data...\n",
            "[nltk_data]   Package stopwords is already up-to-date!\n"
          ]
        },
        {
          "data": {
            "text/html": [
              "<div>\n",
              "<style scoped>\n",
              "    .dataframe tbody tr th:only-of-type {\n",
              "        vertical-align: middle;\n",
              "    }\n",
              "\n",
              "    .dataframe tbody tr th {\n",
              "        vertical-align: top;\n",
              "    }\n",
              "\n",
              "    .dataframe thead th {\n",
              "        text-align: right;\n",
              "    }\n",
              "</style>\n",
              "<table border=\"1\" class=\"dataframe\">\n",
              "  <thead>\n",
              "    <tr style=\"text-align: right;\">\n",
              "      <th></th>\n",
              "      <th>idProposicao</th>\n",
              "      <th>codTipo</th>\n",
              "      <th>codTipoAutor</th>\n",
              "      <th>idDeputadoAutor</th>\n",
              "      <th>nomeAutor</th>\n",
              "      <th>siglaPartidoAutor</th>\n",
              "      <th>keywords</th>\n",
              "      <th>ementa</th>\n",
              "      <th>ultimoStatus_descricaoTramitacao</th>\n",
              "      <th>codigoPartidoAutor</th>\n",
              "    </tr>\n",
              "  </thead>\n",
              "  <tbody>\n",
              "    <tr>\n",
              "      <th>0</th>\n",
              "      <td>202010</td>\n",
              "      <td>136</td>\n",
              "      <td>40000.0</td>\n",
              "      <td>0.0</td>\n",
              "      <td>Senado Federal</td>\n",
              "      <td>N/A</td>\n",
              "      <td>[Oramento, federal, separao, despesa, pblica, ...</td>\n",
              "      <td>[Institui, Regime, Extraordinrio, Fiscal, Fina...</td>\n",
              "      <td>Apresentação de Proposição</td>\n",
              "      <td>1</td>\n",
              "    </tr>\n",
              "    <tr>\n",
              "      <th>1</th>\n",
              "      <td>20201024</td>\n",
              "      <td>139</td>\n",
              "      <td>30000.0</td>\n",
              "      <td>0.0</td>\n",
              "      <td>Poder Executivo</td>\n",
              "      <td>N/A</td>\n",
              "      <td>[Alterao, Lei, CREA, exerccio, profissional, E...</td>\n",
              "      <td>[Altera, Lei, n, dezembro, regula, exerccio, p...</td>\n",
              "      <td>Encerramento de Prazo</td>\n",
              "      <td>1</td>\n",
              "    </tr>\n",
              "    <tr>\n",
              "      <th>2</th>\n",
              "      <td>2020131</td>\n",
              "      <td>139</td>\n",
              "      <td>2.0</td>\n",
              "      <td>0.0</td>\n",
              "      <td>Comissão de Legislação Participativa</td>\n",
              "      <td>N/A</td>\n",
              "      <td>[Reconhecimento, comunidade, tradicional, pesc...</td>\n",
              "      <td>[Dispe, sobre, reconhecimento, proteo, garanti...</td>\n",
              "      <td>Apresentação de Requerimento</td>\n",
              "      <td>1</td>\n",
              "    </tr>\n",
              "    <tr>\n",
              "      <th>3</th>\n",
              "      <td>202018</td>\n",
              "      <td>136</td>\n",
              "      <td>40000.0</td>\n",
              "      <td>0.0</td>\n",
              "      <td>Senado Federal</td>\n",
              "      <td>N/A</td>\n",
              "      <td>[Constituio, Federal, disciplinamento, adiamen...</td>\n",
              "      <td>[Adia, razo, pandemia, coronavrus, Covid, elei...</td>\n",
              "      <td>Notificação de Despacho</td>\n",
              "      <td>1</td>\n",
              "    </tr>\n",
              "    <tr>\n",
              "      <th>4</th>\n",
              "      <td>2020191</td>\n",
              "      <td>139</td>\n",
              "      <td>30000.0</td>\n",
              "      <td>0.0</td>\n",
              "      <td>Poder Executivo</td>\n",
              "      <td>N/A</td>\n",
              "      <td>[Regulamentao, Constituio, Federal, minerao, g...</td>\n",
              "      <td>[Regulamenta, art, art, Constituio, estabelece...</td>\n",
              "      <td>Notificação de Despacho</td>\n",
              "      <td>1</td>\n",
              "    </tr>\n",
              "  </tbody>\n",
              "</table>\n",
              "</div>"
            ],
            "text/plain": [
              "  idProposicao  codTipo  codTipoAutor  idDeputadoAutor  \\\n",
              "0       202010      136       40000.0              0.0   \n",
              "1     20201024      139       30000.0              0.0   \n",
              "2      2020131      139           2.0              0.0   \n",
              "3       202018      136       40000.0              0.0   \n",
              "4      2020191      139       30000.0              0.0   \n",
              "\n",
              "                              nomeAutor siglaPartidoAutor  \\\n",
              "0                        Senado Federal               N/A   \n",
              "1                       Poder Executivo               N/A   \n",
              "2  Comissão de Legislação Participativa               N/A   \n",
              "3                        Senado Federal               N/A   \n",
              "4                       Poder Executivo               N/A   \n",
              "\n",
              "                                            keywords  \\\n",
              "0  [Oramento, federal, separao, despesa, pblica, ...   \n",
              "1  [Alterao, Lei, CREA, exerccio, profissional, E...   \n",
              "2  [Reconhecimento, comunidade, tradicional, pesc...   \n",
              "3  [Constituio, Federal, disciplinamento, adiamen...   \n",
              "4  [Regulamentao, Constituio, Federal, minerao, g...   \n",
              "\n",
              "                                              ementa  \\\n",
              "0  [Institui, Regime, Extraordinrio, Fiscal, Fina...   \n",
              "1  [Altera, Lei, n, dezembro, regula, exerccio, p...   \n",
              "2  [Dispe, sobre, reconhecimento, proteo, garanti...   \n",
              "3  [Adia, razo, pandemia, coronavrus, Covid, elei...   \n",
              "4  [Regulamenta, art, art, Constituio, estabelece...   \n",
              "\n",
              "  ultimoStatus_descricaoTramitacao  codigoPartidoAutor  \n",
              "0       Apresentação de Proposição                   1  \n",
              "1            Encerramento de Prazo                   1  \n",
              "2     Apresentação de Requerimento                   1  \n",
              "3          Notificação de Despacho                   1  \n",
              "4          Notificação de Despacho                   1  "
            ]
          },
          "execution_count": 33,
          "metadata": {},
          "output_type": "execute_result"
        }
      ],
      "source": [
        "proposicoes_prepared = llama.NlpUtils.remove_stop_words(proposicoes_prepared, ['keywords', 'ementa'])\n",
        "proposicoes_prepared.head()"
      ]
    },
    {
      "cell_type": "code",
      "execution_count": 34,
      "metadata": {},
      "outputs": [
        {
          "name": "stderr",
          "output_type": "stream",
          "text": [
            "[nltk_data] Downloading package rslp to /Users/edprata/nltk_data...\n",
            "[nltk_data]   Package rslp is already up-to-date!\n"
          ]
        },
        {
          "data": {
            "text/html": [
              "<div>\n",
              "<style scoped>\n",
              "    .dataframe tbody tr th:only-of-type {\n",
              "        vertical-align: middle;\n",
              "    }\n",
              "\n",
              "    .dataframe tbody tr th {\n",
              "        vertical-align: top;\n",
              "    }\n",
              "\n",
              "    .dataframe thead th {\n",
              "        text-align: right;\n",
              "    }\n",
              "</style>\n",
              "<table border=\"1\" class=\"dataframe\">\n",
              "  <thead>\n",
              "    <tr style=\"text-align: right;\">\n",
              "      <th></th>\n",
              "      <th>idProposicao</th>\n",
              "      <th>codTipo</th>\n",
              "      <th>codTipoAutor</th>\n",
              "      <th>idDeputadoAutor</th>\n",
              "      <th>nomeAutor</th>\n",
              "      <th>siglaPartidoAutor</th>\n",
              "      <th>keywords</th>\n",
              "      <th>ementa</th>\n",
              "      <th>ultimoStatus_descricaoTramitacao</th>\n",
              "      <th>codigoPartidoAutor</th>\n",
              "    </tr>\n",
              "  </thead>\n",
              "  <tbody>\n",
              "    <tr>\n",
              "      <th>0</th>\n",
              "      <td>202010</td>\n",
              "      <td>136</td>\n",
              "      <td>40000.0</td>\n",
              "      <td>0.0</td>\n",
              "      <td>Senado Federal</td>\n",
              "      <td>N/A</td>\n",
              "      <td>orament feder separa desp pblic combat pandem ...</td>\n",
              "      <td>institu regim extraordinri fiscal financ contr...</td>\n",
              "      <td>Apresentação de Proposição</td>\n",
              "      <td>1</td>\n",
              "    </tr>\n",
              "    <tr>\n",
              "      <th>1</th>\n",
              "      <td>20201024</td>\n",
              "      <td>139</td>\n",
              "      <td>30000.0</td>\n",
              "      <td>0.0</td>\n",
              "      <td>Poder Executivo</td>\n",
              "      <td>N/A</td>\n",
              "      <td>altera lei cre exercci profiss engenh arquitet...</td>\n",
              "      <td>alt lei n dezembr regul exercci prof engenh ar...</td>\n",
              "      <td>Encerramento de Prazo</td>\n",
              "      <td>1</td>\n",
              "    </tr>\n",
              "    <tr>\n",
              "      <th>2</th>\n",
              "      <td>2020131</td>\n",
              "      <td>139</td>\n",
              "      <td>2.0</td>\n",
              "      <td>0.0</td>\n",
              "      <td>Comissão de Legislação Participativa</td>\n",
              "      <td>N/A</td>\n",
              "      <td>reconhec comunidad tradic pesc artesan ativ pe...</td>\n",
              "      <td>disp sobr reconhec prote garant direit territr...</td>\n",
              "      <td>Apresentação de Requerimento</td>\n",
              "      <td>1</td>\n",
              "    </tr>\n",
              "    <tr>\n",
              "      <th>3</th>\n",
              "      <td>202018</td>\n",
              "      <td>136</td>\n",
              "      <td>40000.0</td>\n",
              "      <td>0.0</td>\n",
              "      <td>Senado Federal</td>\n",
              "      <td>N/A</td>\n",
              "      <td>constitui feder disciplin adi elei municip cal...</td>\n",
              "      <td>adi raz pandem coronavru covid elei municip ou...</td>\n",
              "      <td>Notificação de Despacho</td>\n",
              "      <td>1</td>\n",
              "    </tr>\n",
              "    <tr>\n",
              "      <th>4</th>\n",
              "      <td>2020191</td>\n",
              "      <td>139</td>\n",
              "      <td>30000.0</td>\n",
              "      <td>0.0</td>\n",
              "      <td>Poder Executivo</td>\n",
              "      <td>N/A</td>\n",
              "      <td>regulamenta constitui feder minera gera energ ...</td>\n",
              "      <td>regulament art art constitui estabelec condi e...</td>\n",
              "      <td>Notificação de Despacho</td>\n",
              "      <td>1</td>\n",
              "    </tr>\n",
              "  </tbody>\n",
              "</table>\n",
              "</div>"
            ],
            "text/plain": [
              "  idProposicao  codTipo  codTipoAutor  idDeputadoAutor  \\\n",
              "0       202010      136       40000.0              0.0   \n",
              "1     20201024      139       30000.0              0.0   \n",
              "2      2020131      139           2.0              0.0   \n",
              "3       202018      136       40000.0              0.0   \n",
              "4      2020191      139       30000.0              0.0   \n",
              "\n",
              "                              nomeAutor siglaPartidoAutor  \\\n",
              "0                        Senado Federal               N/A   \n",
              "1                       Poder Executivo               N/A   \n",
              "2  Comissão de Legislação Participativa               N/A   \n",
              "3                        Senado Federal               N/A   \n",
              "4                       Poder Executivo               N/A   \n",
              "\n",
              "                                            keywords  \\\n",
              "0  orament feder separa desp pblic combat pandem ...   \n",
              "1  altera lei cre exercci profiss engenh arquitet...   \n",
              "2  reconhec comunidad tradic pesc artesan ativ pe...   \n",
              "3  constitui feder disciplin adi elei municip cal...   \n",
              "4  regulamenta constitui feder minera gera energ ...   \n",
              "\n",
              "                                              ementa  \\\n",
              "0  institu regim extraordinri fiscal financ contr...   \n",
              "1  alt lei n dezembr regul exercci prof engenh ar...   \n",
              "2  disp sobr reconhec prote garant direit territr...   \n",
              "3  adi raz pandem coronavru covid elei municip ou...   \n",
              "4  regulament art art constitui estabelec condi e...   \n",
              "\n",
              "  ultimoStatus_descricaoTramitacao  codigoPartidoAutor  \n",
              "0       Apresentação de Proposição                   1  \n",
              "1            Encerramento de Prazo                   1  \n",
              "2     Apresentação de Requerimento                   1  \n",
              "3          Notificação de Despacho                   1  \n",
              "4          Notificação de Despacho                   1  "
            ]
          },
          "execution_count": 34,
          "metadata": {},
          "output_type": "execute_result"
        }
      ],
      "source": [
        "proposicoes_prepared = llama.NlpUtils.stemmer(proposicoes_prepared, ['keywords', 'ementa'])\n",
        "proposicoes_prepared.head()"
      ]
    },
    {
      "cell_type": "code",
      "execution_count": 35,
      "metadata": {},
      "outputs": [
        {
          "data": {
            "text/html": [
              "<div>\n",
              "<style scoped>\n",
              "    .dataframe tbody tr th:only-of-type {\n",
              "        vertical-align: middle;\n",
              "    }\n",
              "\n",
              "    .dataframe tbody tr th {\n",
              "        vertical-align: top;\n",
              "    }\n",
              "\n",
              "    .dataframe thead th {\n",
              "        text-align: right;\n",
              "    }\n",
              "</style>\n",
              "<table border=\"1\" class=\"dataframe\">\n",
              "  <thead>\n",
              "    <tr style=\"text-align: right;\">\n",
              "      <th></th>\n",
              "      <th>idProposicao</th>\n",
              "      <th>codTipo</th>\n",
              "      <th>codTipoAutor</th>\n",
              "      <th>idDeputadoAutor</th>\n",
              "      <th>nomeAutor</th>\n",
              "      <th>siglaPartidoAutor</th>\n",
              "      <th>keywords</th>\n",
              "      <th>ementa</th>\n",
              "      <th>ultimoStatus_descricaoTramitacao</th>\n",
              "      <th>codigoPartidoAutor</th>\n",
              "      <th>tf_idf</th>\n",
              "    </tr>\n",
              "  </thead>\n",
              "  <tbody>\n",
              "    <tr>\n",
              "      <th>0</th>\n",
              "      <td>202010</td>\n",
              "      <td>136</td>\n",
              "      <td>40000.0</td>\n",
              "      <td>0.0</td>\n",
              "      <td>Senado Federal</td>\n",
              "      <td>N/A</td>\n",
              "      <td>orament feder separa desp pblic combat pandem ...</td>\n",
              "      <td>institu regim extraordinri fiscal financ contr...</td>\n",
              "      <td>Apresentação de Proposição</td>\n",
              "      <td>1</td>\n",
              "      <td>(0, 311)\\t0.14147705667986332\\n  (0, 120)\\t0...</td>\n",
              "    </tr>\n",
              "    <tr>\n",
              "      <th>1</th>\n",
              "      <td>20201024</td>\n",
              "      <td>139</td>\n",
              "      <td>30000.0</td>\n",
              "      <td>0.0</td>\n",
              "      <td>Poder Executivo</td>\n",
              "      <td>N/A</td>\n",
              "      <td>altera lei cre exercci profiss engenh arquitet...</td>\n",
              "      <td>alt lei n dezembr regul exercci prof engenh ar...</td>\n",
              "      <td>Encerramento de Prazo</td>\n",
              "      <td>1</td>\n",
              "      <td>(0, 49)\\t0.17667734803595148\\n  (0, 264)\\t0....</td>\n",
              "    </tr>\n",
              "    <tr>\n",
              "      <th>2</th>\n",
              "      <td>2020131</td>\n",
              "      <td>139</td>\n",
              "      <td>2.0</td>\n",
              "      <td>0.0</td>\n",
              "      <td>Comissão de Legislação Participativa</td>\n",
              "      <td>N/A</td>\n",
              "      <td>reconhec comunidad tradic pesc artesan ativ pe...</td>\n",
              "      <td>disp sobr reconhec prote garant direit territr...</td>\n",
              "      <td>Apresentação de Requerimento</td>\n",
              "      <td>1</td>\n",
              "      <td>(0, 113)\\t0.25865460851778016\\n  (0, 92)\\t0....</td>\n",
              "    </tr>\n",
              "    <tr>\n",
              "      <th>3</th>\n",
              "      <td>202018</td>\n",
              "      <td>136</td>\n",
              "      <td>40000.0</td>\n",
              "      <td>0.0</td>\n",
              "      <td>Senado Federal</td>\n",
              "      <td>N/A</td>\n",
              "      <td>constitui feder disciplin adi elei municip cal...</td>\n",
              "      <td>adi raz pandem coronavru covid elei municip ou...</td>\n",
              "      <td>Notificação de Despacho</td>\n",
              "      <td>1</td>\n",
              "      <td>(0, 217)\\t0.48162174568119365\\n  (0, 102)\\t0...</td>\n",
              "    </tr>\n",
              "    <tr>\n",
              "      <th>4</th>\n",
              "      <td>2020191</td>\n",
              "      <td>139</td>\n",
              "      <td>30000.0</td>\n",
              "      <td>0.0</td>\n",
              "      <td>Poder Executivo</td>\n",
              "      <td>N/A</td>\n",
              "      <td>regulamenta constitui feder minera gera energ ...</td>\n",
              "      <td>regulament art art constitui estabelec condi e...</td>\n",
              "      <td>Notificação de Despacho</td>\n",
              "      <td>1</td>\n",
              "      <td>(0, 82)\\t0.18193471408444795\\n  (0, 137)\\t0....</td>\n",
              "    </tr>\n",
              "  </tbody>\n",
              "</table>\n",
              "</div>"
            ],
            "text/plain": [
              "  idProposicao  codTipo  codTipoAutor  idDeputadoAutor  \\\n",
              "0       202010      136       40000.0              0.0   \n",
              "1     20201024      139       30000.0              0.0   \n",
              "2      2020131      139           2.0              0.0   \n",
              "3       202018      136       40000.0              0.0   \n",
              "4      2020191      139       30000.0              0.0   \n",
              "\n",
              "                              nomeAutor siglaPartidoAutor  \\\n",
              "0                        Senado Federal               N/A   \n",
              "1                       Poder Executivo               N/A   \n",
              "2  Comissão de Legislação Participativa               N/A   \n",
              "3                        Senado Federal               N/A   \n",
              "4                       Poder Executivo               N/A   \n",
              "\n",
              "                                            keywords  \\\n",
              "0  orament feder separa desp pblic combat pandem ...   \n",
              "1  altera lei cre exercci profiss engenh arquitet...   \n",
              "2  reconhec comunidad tradic pesc artesan ativ pe...   \n",
              "3  constitui feder disciplin adi elei municip cal...   \n",
              "4  regulamenta constitui feder minera gera energ ...   \n",
              "\n",
              "                                              ementa  \\\n",
              "0  institu regim extraordinri fiscal financ contr...   \n",
              "1  alt lei n dezembr regul exercci prof engenh ar...   \n",
              "2  disp sobr reconhec prote garant direit territr...   \n",
              "3  adi raz pandem coronavru covid elei municip ou...   \n",
              "4  regulament art art constitui estabelec condi e...   \n",
              "\n",
              "  ultimoStatus_descricaoTramitacao  codigoPartidoAutor  \\\n",
              "0       Apresentação de Proposição                   1   \n",
              "1            Encerramento de Prazo                   1   \n",
              "2     Apresentação de Requerimento                   1   \n",
              "3          Notificação de Despacho                   1   \n",
              "4          Notificação de Despacho                   1   \n",
              "\n",
              "                                              tf_idf  \n",
              "0    (0, 311)\\t0.14147705667986332\\n  (0, 120)\\t0...  \n",
              "1    (0, 49)\\t0.17667734803595148\\n  (0, 264)\\t0....  \n",
              "2    (0, 113)\\t0.25865460851778016\\n  (0, 92)\\t0....  \n",
              "3    (0, 217)\\t0.48162174568119365\\n  (0, 102)\\t0...  \n",
              "4    (0, 82)\\t0.18193471408444795\\n  (0, 137)\\t0....  "
            ]
          },
          "execution_count": 35,
          "metadata": {},
          "output_type": "execute_result"
        }
      ],
      "source": [
        "vocabulary, tf_idf = llama.NlpUtils.tf_idf_dataframe(proposicoes_prepared, ['keywords', 'ementa'])\n",
        "proposicoes_prepared['tf_idf'] = np.array(tf_idf)\n",
        "proposicoes_prepared.head()"
      ]
    },
    {
      "cell_type": "markdown",
      "metadata": {},
      "source": [
        "## Análise Descritiva\n",
        "\n",
        "Será feita a descrição da base e apresentação de algumas informações sobre os dados (metadados), para apoiar no entendimento e nas tomadas de decisões, tais como quais dados utilizar e como aplicar no problema."
      ]
    },
    {
      "cell_type": "markdown",
      "metadata": {},
      "source": [
        "### Identificação de proposições aprovadas, reprovadas e indefinidas\n",
        "\n",
        "As proposicoes aprovadas e reprovadas são identificadas de acordo com seu estado, já separados anteriormente. Será criada uma coluna para identificar esta situação. Também serão criados diferentes conjuntos para representar cada estado. Por último, identificaremos as proposições que ainda encontram-se em tramitação."
      ]
    },
    {
      "cell_type": "code",
      "execution_count": 36,
      "metadata": {},
      "outputs": [
        {
          "name": "stdout",
          "output_type": "stream",
          "text": [
            "Conjunto dividido em 2203 aprovadas, 1074 reprovadas e 7957 em tramitação.\n"
          ]
        }
      ],
      "source": [
        "proposicoes_prepared['aprovacao'] = proposicoes_prepared['ultimoStatus_descricaoTramitacao'].apply(\n",
        "    lambda x: 1 if x in estados_sucesso else 2 if x in estados_fracasso else 3\n",
        ")\n",
        "proposicoes_aprovadas = proposicoes_prepared[proposicoes_prepared['aprovacao'] == 1]\n",
        "proposicoes_reprovadas = proposicoes_prepared[proposicoes_prepared['aprovacao'] == 2]\n",
        "proposicoes_indefinidas = proposicoes_prepared[proposicoes_prepared['aprovacao'] == 3]\n",
        "print(f\"Conjunto dividido em {proposicoes_aprovadas.shape[0]} aprovadas, {proposicoes_reprovadas.shape[0]} reprovadas e {proposicoes_indefinidas.shape[0]} em tramitação.\")"
      ]
    },
    {
      "cell_type": "markdown",
      "metadata": {},
      "source": [
        "**Resultado:** Como a quantidade de proposições com sucesso é muito maior que as reprovadas,  e isso é um grande desafio para os modelos de ML. A classe de maior interesse, que é a de proposições aprovadas, está super mal representada aqui. Por este motivo, não faremos um classificador, mas sim uma regressão que apresente a probabilidade de uma proposição de obter sucesso."
      ]
    },
    {
      "cell_type": "markdown",
      "metadata": {},
      "source": [
        "### Gráfico de aprovações por partido e autor\n",
        "\n",
        "Abaixo vamos observar o gráfico de aprovação por patido e autor das proposições, a informação de quantas proposições cada partido já apresentou, o percentual de aprovação do partido e os partidos com mais projetos apresentados. Esses dados podem levar a identificação de algum viés ou um indício de que partidos que submetem mais trabalhos conseguem mais aprovações."
      ]
    },
    {
      "cell_type": "code",
      "execution_count": 37,
      "metadata": {},
      "outputs": [
        {
          "name": "stdout",
          "output_type": "stream",
          "text": [
            "(28, 1)\n",
            "(471, 1)\n",
            "(31, 1)\n",
            "(692, 1)\n"
          ]
        },
        {
          "data": {
            "image/png": "[encoded data removed]",
            "text/plain": [
              "<Figure size 1500x300 with 1 Axes>"
            ]
          },
          "metadata": {},
          "output_type": "display_data"
        },
        {
          "data": {
            "image/png": "[encoded data removed]",
            "text/plain": [
              "<Figure size 1500x300 with 1 Axes>"
            ]
          },
          "metadata": {},
          "output_type": "display_data"
        },
        {
          "data": {
            "image/png": "[encoded data removed]",
            "text/plain": [
              "<Figure size 1500x300 with 1 Axes>"
            ]
          },
          "metadata": {},
          "output_type": "display_data"
        },
        {
          "data": {
            "image/png": "[encoded data removed]",
            "text/plain": [
              "<Figure size 1500x300 with 1 Axes>"
            ]
          },
          "metadata": {},
          "output_type": "display_data"
        }
      ],
      "source": [
        "df_partidos_aprovados = proposicoes_aprovadas[['siglaPartidoAutor','idProposicao']].groupby(by=['siglaPartidoAutor']).count()\n",
        "df_partidos_aprovados = df_partidos_aprovados.sort_values(by='idProposicao', ascending=False)\n",
        "print(df_partidos_aprovados.shape)\n",
        "\n",
        "df_autor_aprovados = proposicoes_aprovadas[['nomeAutor','idProposicao']].groupby(by=['nomeAutor']).count()\n",
        "df_autor_aprovados = df_autor_aprovados.sort_values(by='idProposicao', ascending=False)\n",
        "print(df_autor_aprovados.shape)\n",
        "\n",
        "df_partidos_total = proposicoes_prepared[['siglaPartidoAutor','idProposicao']].groupby(by=['siglaPartidoAutor']).count()\n",
        "df_partidos_total = df_partidos_total.sort_values(by='idProposicao', ascending=False)\n",
        "print(df_partidos_total.shape)\n",
        "\n",
        "df_autor_total = proposicoes_prepared[['nomeAutor','idProposicao']].groupby(by=['nomeAutor']).count()\n",
        "df_autor_total = df_autor_total.sort_values(by='idProposicao', ascending=False)\n",
        "print(df_autor_total.shape)\n",
        "\n",
        "llama.GraphicCreator.line_graphic(title='Proposições Aprovadas por Partido', xlabel='Partido', ylabel='Quantidade', data=df_partidos_aprovados.iloc[0:7], figsize=(15,3))\n",
        "llama.GraphicCreator.line_graphic(title='Total de Proposições por Partido', xlabel='Partido', ylabel='Quantidade',  data=df_partidos_total.iloc[0:7], figsize=(15,3))\n",
        "llama.GraphicCreator.line_graphic(title='Proposições Aprovadas por Autor', xlabel='Autor', ylabel='Quantidade',  data=df_autor_aprovados.iloc[0:7], figsize=(15,3))\n",
        "llama.GraphicCreator.line_graphic(title='Total de Proposições por Autor', xlabel='Autor', ylabel='Quantidade',  data=df_autor_total.iloc[0:7], figsize=(15,3))"
      ]
    },
    {
      "cell_type": "markdown",
      "metadata": {},
      "source": [
        "**Resultado:** \n",
        "\n",
        "Podemos observar nos gráficos algumas informações interessantes que podem ser considerados indícios de um viés:\n",
        "- Dois deputados destacam-se dos demais, tanto por total de proposições como quantidade de proposições aprovadas, que são o Alexandre Frota e o Carlos Bezerra.\n",
        "- Em termos de partidos com mais aprovações destamcam-se o PSDB e o PSL, ficando o PT, em terceiro lugar, um pouco mais abaixo e os demais muito distantes dos 3 primeiros.\n",
        "- Em termos de partidos com mais proposições apresentadas destacam-se o PT, PSL e PSDB. Porém, o percentual de aproveitamento do PSDB e do PSL é bem maior, pois aprovam um maior percentual das proposições com relação ao total geral de sua autoria."
      ]
    },
    {
      "cell_type": "code",
      "execution_count": 38,
      "metadata": {},
      "outputs": [
        {
          "data": {
            "text/html": [
              "<div>\n",
              "<style scoped>\n",
              "    .dataframe tbody tr th:only-of-type {\n",
              "        vertical-align: middle;\n",
              "    }\n",
              "\n",
              "    .dataframe tbody tr th {\n",
              "        vertical-align: top;\n",
              "    }\n",
              "\n",
              "    .dataframe thead th {\n",
              "        text-align: right;\n",
              "    }\n",
              "</style>\n",
              "<table border=\"1\" class=\"dataframe\">\n",
              "  <thead>\n",
              "    <tr style=\"text-align: right;\">\n",
              "      <th></th>\n",
              "      <th>Aprovações</th>\n",
              "      <th>Total Proposições</th>\n",
              "      <th>Percentual Aprovação</th>\n",
              "    </tr>\n",
              "    <tr>\n",
              "      <th>siglaPartidoAutor</th>\n",
              "      <th></th>\n",
              "      <th></th>\n",
              "      <th></th>\n",
              "    </tr>\n",
              "  </thead>\n",
              "  <tbody>\n",
              "    <tr>\n",
              "      <th>PSDB</th>\n",
              "      <td>239</td>\n",
              "      <td>1095</td>\n",
              "      <td>22.0</td>\n",
              "    </tr>\n",
              "    <tr>\n",
              "      <th>PSL</th>\n",
              "      <td>229</td>\n",
              "      <td>1095</td>\n",
              "      <td>21.0</td>\n",
              "    </tr>\n",
              "    <tr>\n",
              "      <th>PT</th>\n",
              "      <td>187</td>\n",
              "      <td>1212</td>\n",
              "      <td>15.0</td>\n",
              "    </tr>\n",
              "  </tbody>\n",
              "</table>\n",
              "</div>"
            ],
            "text/plain": [
              "                   Aprovações  Total Proposições  Percentual Aprovação\n",
              "siglaPartidoAutor                                                     \n",
              "PSDB                      239               1095                  22.0\n",
              "PSL                       229               1095                  21.0\n",
              "PT                        187               1212                  15.0"
            ]
          },
          "execution_count": 38,
          "metadata": {},
          "output_type": "execute_result"
        }
      ],
      "source": [
        "percentual_aprovacao = pd.DataFrame(\n",
        "    index=df_partidos_aprovados.iloc[0:3].index,\n",
        "    data={\n",
        "        'Aprovações': [\n",
        "            df_partidos_aprovados.iloc[0:1]['idProposicao'].values[0],\n",
        "            df_partidos_aprovados.iloc[1:2]['idProposicao'].values[0],\n",
        "            df_partidos_aprovados.iloc[2:3]['idProposicao'].values[0]\n",
        "        ],\n",
        "        'Total Proposições': [\n",
        "            df_partidos_total.iloc[2]['idProposicao'],\n",
        "            df_partidos_total.iloc[1]['idProposicao'],\n",
        "            df_partidos_total.iloc[0]['idProposicao']\n",
        "        ]\n",
        "    }\n",
        ")\n",
        "percentual_aprovacao['Percentual Aprovação'] = round(percentual_aprovacao['Aprovações']*100/percentual_aprovacao['Total Proposições'])\n",
        "percentual_aprovacao = percentual_aprovacao.sort_values(by='Percentual Aprovação', ascending=False)\n",
        "percentual_aprovacao"
      ]
    },
    {
      "cell_type": "code",
      "execution_count": 39,
      "metadata": {},
      "outputs": [
        {
          "data": {
            "text/plain": [
              "<Axes: xlabel='siglaPartidoAutor'>"
            ]
          },
          "execution_count": 39,
          "metadata": {},
          "output_type": "execute_result"
        },
        {
          "data": {
            "image/png": "[encoded data removed]",
            "text/plain": [
              "<Figure size 800x550 with 1 Axes>"
            ]
          },
          "metadata": {},
          "output_type": "display_data"
        }
      ],
      "source": [
        "percentual_aprovacao['Percentual Aprovação'].plot.bar()"
      ]
    },
    {
      "cell_type": "markdown",
      "metadata": {
        "id": "0x-H0VxQ5xFl"
      },
      "source": [
        "## Separação dos dados (treino/teste)\n",
        "\n",
        "Separação dos dados entre três bases, sendo uma para treino e outra para testes dos modelos de ML a serem avaliados."
      ]
    },
    {
      "cell_type": "code",
      "execution_count": 40,
      "metadata": {},
      "outputs": [
        {
          "name": "stdout",
          "output_type": "stream",
          "text": [
            "Valores de aprovação: [1 2]\n"
          ]
        },
        {
          "data": {
            "text/plain": [
              "(3277, 13)"
            ]
          },
          "execution_count": 40,
          "metadata": {},
          "output_type": "execute_result"
        }
      ],
      "source": [
        "proposicoes_labeld = pd.concat([proposicoes_aprovadas, proposicoes_reprovadas])\n",
        "proposicoes_labeld = proposicoes_labeld.reset_index()\n",
        "print(f\"Valores de aprovação: {proposicoes_labeld['aprovacao'].unique()}\")\n",
        "proposicoes_labeld.shape"
      ]
    },
    {
      "cell_type": "code",
      "execution_count": 41,
      "metadata": {},
      "outputs": [
        {
          "data": {
            "text/html": [
              "<div>\n",
              "<style scoped>\n",
              "    .dataframe tbody tr th:only-of-type {\n",
              "        vertical-align: middle;\n",
              "    }\n",
              "\n",
              "    .dataframe tbody tr th {\n",
              "        vertical-align: top;\n",
              "    }\n",
              "\n",
              "    .dataframe thead th {\n",
              "        text-align: right;\n",
              "    }\n",
              "</style>\n",
              "<table border=\"1\" class=\"dataframe\">\n",
              "  <thead>\n",
              "    <tr style=\"text-align: right;\">\n",
              "      <th></th>\n",
              "      <th>0</th>\n",
              "      <th>1</th>\n",
              "      <th>2</th>\n",
              "      <th>3</th>\n",
              "      <th>4</th>\n",
              "      <th>5</th>\n",
              "      <th>6</th>\n",
              "      <th>7</th>\n",
              "      <th>8</th>\n",
              "      <th>9</th>\n",
              "      <th>...</th>\n",
              "      <th>336</th>\n",
              "      <th>337</th>\n",
              "      <th>338</th>\n",
              "      <th>339</th>\n",
              "      <th>340</th>\n",
              "      <th>341</th>\n",
              "      <th>342</th>\n",
              "      <th>343</th>\n",
              "      <th>344</th>\n",
              "      <th>idProposicao</th>\n",
              "    </tr>\n",
              "  </thead>\n",
              "  <tbody>\n",
              "    <tr>\n",
              "      <th>0</th>\n",
              "      <td>0.0</td>\n",
              "      <td>0.0</td>\n",
              "      <td>0.0</td>\n",
              "      <td>0.05836</td>\n",
              "      <td>0.161772</td>\n",
              "      <td>0.0</td>\n",
              "      <td>0.0</td>\n",
              "      <td>0.0</td>\n",
              "      <td>0.0</td>\n",
              "      <td>0.0</td>\n",
              "      <td>...</td>\n",
              "      <td>0.0</td>\n",
              "      <td>0.0</td>\n",
              "      <td>0.0</td>\n",
              "      <td>0.0</td>\n",
              "      <td>0.000000</td>\n",
              "      <td>0.0</td>\n",
              "      <td>0.0</td>\n",
              "      <td>0.0</td>\n",
              "      <td>0.0</td>\n",
              "      <td>202032</td>\n",
              "    </tr>\n",
              "    <tr>\n",
              "      <th>1</th>\n",
              "      <td>0.0</td>\n",
              "      <td>0.0</td>\n",
              "      <td>0.0</td>\n",
              "      <td>0.00000</td>\n",
              "      <td>0.000000</td>\n",
              "      <td>0.0</td>\n",
              "      <td>0.0</td>\n",
              "      <td>0.0</td>\n",
              "      <td>0.0</td>\n",
              "      <td>0.0</td>\n",
              "      <td>...</td>\n",
              "      <td>0.0</td>\n",
              "      <td>0.0</td>\n",
              "      <td>0.0</td>\n",
              "      <td>0.0</td>\n",
              "      <td>0.000000</td>\n",
              "      <td>0.0</td>\n",
              "      <td>0.0</td>\n",
              "      <td>0.0</td>\n",
              "      <td>0.0</td>\n",
              "      <td>2020331</td>\n",
              "    </tr>\n",
              "    <tr>\n",
              "      <th>2</th>\n",
              "      <td>0.0</td>\n",
              "      <td>0.0</td>\n",
              "      <td>0.0</td>\n",
              "      <td>0.00000</td>\n",
              "      <td>0.000000</td>\n",
              "      <td>0.0</td>\n",
              "      <td>0.0</td>\n",
              "      <td>0.0</td>\n",
              "      <td>0.0</td>\n",
              "      <td>0.0</td>\n",
              "      <td>...</td>\n",
              "      <td>0.0</td>\n",
              "      <td>0.0</td>\n",
              "      <td>0.0</td>\n",
              "      <td>0.0</td>\n",
              "      <td>0.000000</td>\n",
              "      <td>0.0</td>\n",
              "      <td>0.0</td>\n",
              "      <td>0.0</td>\n",
              "      <td>0.0</td>\n",
              "      <td>2020559</td>\n",
              "    </tr>\n",
              "    <tr>\n",
              "      <th>3</th>\n",
              "      <td>0.0</td>\n",
              "      <td>0.0</td>\n",
              "      <td>0.0</td>\n",
              "      <td>0.00000</td>\n",
              "      <td>0.000000</td>\n",
              "      <td>0.0</td>\n",
              "      <td>0.0</td>\n",
              "      <td>0.0</td>\n",
              "      <td>0.0</td>\n",
              "      <td>0.0</td>\n",
              "      <td>...</td>\n",
              "      <td>0.0</td>\n",
              "      <td>0.0</td>\n",
              "      <td>0.0</td>\n",
              "      <td>0.0</td>\n",
              "      <td>0.000000</td>\n",
              "      <td>0.0</td>\n",
              "      <td>0.0</td>\n",
              "      <td>0.0</td>\n",
              "      <td>0.0</td>\n",
              "      <td>2020560</td>\n",
              "    </tr>\n",
              "    <tr>\n",
              "      <th>4</th>\n",
              "      <td>0.0</td>\n",
              "      <td>0.0</td>\n",
              "      <td>0.0</td>\n",
              "      <td>0.00000</td>\n",
              "      <td>0.000000</td>\n",
              "      <td>0.0</td>\n",
              "      <td>0.0</td>\n",
              "      <td>0.0</td>\n",
              "      <td>0.0</td>\n",
              "      <td>0.0</td>\n",
              "      <td>...</td>\n",
              "      <td>0.0</td>\n",
              "      <td>0.0</td>\n",
              "      <td>0.0</td>\n",
              "      <td>0.0</td>\n",
              "      <td>0.000000</td>\n",
              "      <td>0.0</td>\n",
              "      <td>0.0</td>\n",
              "      <td>0.0</td>\n",
              "      <td>0.0</td>\n",
              "      <td>2020565</td>\n",
              "    </tr>\n",
              "    <tr>\n",
              "      <th>...</th>\n",
              "      <td>...</td>\n",
              "      <td>...</td>\n",
              "      <td>...</td>\n",
              "      <td>...</td>\n",
              "      <td>...</td>\n",
              "      <td>...</td>\n",
              "      <td>...</td>\n",
              "      <td>...</td>\n",
              "      <td>...</td>\n",
              "      <td>...</td>\n",
              "      <td>...</td>\n",
              "      <td>...</td>\n",
              "      <td>...</td>\n",
              "      <td>...</td>\n",
              "      <td>...</td>\n",
              "      <td>...</td>\n",
              "      <td>...</td>\n",
              "      <td>...</td>\n",
              "      <td>...</td>\n",
              "      <td>...</td>\n",
              "      <td>...</td>\n",
              "    </tr>\n",
              "    <tr>\n",
              "      <th>3272</th>\n",
              "      <td>0.0</td>\n",
              "      <td>0.0</td>\n",
              "      <td>0.0</td>\n",
              "      <td>0.00000</td>\n",
              "      <td>0.000000</td>\n",
              "      <td>0.0</td>\n",
              "      <td>0.0</td>\n",
              "      <td>0.0</td>\n",
              "      <td>0.0</td>\n",
              "      <td>0.0</td>\n",
              "      <td>...</td>\n",
              "      <td>0.0</td>\n",
              "      <td>0.0</td>\n",
              "      <td>0.0</td>\n",
              "      <td>0.0</td>\n",
              "      <td>0.000000</td>\n",
              "      <td>0.0</td>\n",
              "      <td>0.0</td>\n",
              "      <td>0.0</td>\n",
              "      <td>0.0</td>\n",
              "      <td>2022536</td>\n",
              "    </tr>\n",
              "    <tr>\n",
              "      <th>3273</th>\n",
              "      <td>0.0</td>\n",
              "      <td>0.0</td>\n",
              "      <td>0.0</td>\n",
              "      <td>0.00000</td>\n",
              "      <td>0.000000</td>\n",
              "      <td>0.0</td>\n",
              "      <td>0.0</td>\n",
              "      <td>0.0</td>\n",
              "      <td>0.0</td>\n",
              "      <td>0.0</td>\n",
              "      <td>...</td>\n",
              "      <td>0.0</td>\n",
              "      <td>0.0</td>\n",
              "      <td>0.0</td>\n",
              "      <td>0.0</td>\n",
              "      <td>0.000000</td>\n",
              "      <td>0.0</td>\n",
              "      <td>0.0</td>\n",
              "      <td>0.0</td>\n",
              "      <td>0.0</td>\n",
              "      <td>2022593</td>\n",
              "    </tr>\n",
              "    <tr>\n",
              "      <th>3274</th>\n",
              "      <td>0.0</td>\n",
              "      <td>0.0</td>\n",
              "      <td>0.0</td>\n",
              "      <td>0.00000</td>\n",
              "      <td>0.000000</td>\n",
              "      <td>0.0</td>\n",
              "      <td>0.0</td>\n",
              "      <td>0.0</td>\n",
              "      <td>0.0</td>\n",
              "      <td>0.0</td>\n",
              "      <td>...</td>\n",
              "      <td>0.0</td>\n",
              "      <td>0.0</td>\n",
              "      <td>0.0</td>\n",
              "      <td>0.0</td>\n",
              "      <td>0.000000</td>\n",
              "      <td>0.0</td>\n",
              "      <td>0.0</td>\n",
              "      <td>0.0</td>\n",
              "      <td>0.0</td>\n",
              "      <td>2022689</td>\n",
              "    </tr>\n",
              "    <tr>\n",
              "      <th>3275</th>\n",
              "      <td>0.0</td>\n",
              "      <td>0.0</td>\n",
              "      <td>0.0</td>\n",
              "      <td>0.00000</td>\n",
              "      <td>0.519388</td>\n",
              "      <td>0.0</td>\n",
              "      <td>0.0</td>\n",
              "      <td>0.0</td>\n",
              "      <td>0.0</td>\n",
              "      <td>0.0</td>\n",
              "      <td>...</td>\n",
              "      <td>0.0</td>\n",
              "      <td>0.0</td>\n",
              "      <td>0.0</td>\n",
              "      <td>0.0</td>\n",
              "      <td>0.000000</td>\n",
              "      <td>0.0</td>\n",
              "      <td>0.0</td>\n",
              "      <td>0.0</td>\n",
              "      <td>0.0</td>\n",
              "      <td>2022816</td>\n",
              "    </tr>\n",
              "    <tr>\n",
              "      <th>3276</th>\n",
              "      <td>0.0</td>\n",
              "      <td>0.0</td>\n",
              "      <td>0.0</td>\n",
              "      <td>0.00000</td>\n",
              "      <td>0.000000</td>\n",
              "      <td>0.0</td>\n",
              "      <td>0.0</td>\n",
              "      <td>0.0</td>\n",
              "      <td>0.0</td>\n",
              "      <td>0.0</td>\n",
              "      <td>...</td>\n",
              "      <td>0.0</td>\n",
              "      <td>0.0</td>\n",
              "      <td>0.0</td>\n",
              "      <td>0.0</td>\n",
              "      <td>0.166071</td>\n",
              "      <td>0.0</td>\n",
              "      <td>0.0</td>\n",
              "      <td>0.0</td>\n",
              "      <td>0.0</td>\n",
              "      <td>2022971</td>\n",
              "    </tr>\n",
              "  </tbody>\n",
              "</table>\n",
              "<p>3277 rows × 346 columns</p>\n",
              "</div>"
            ],
            "text/plain": [
              "        0    1    2        3         4    5    6    7    8    9  ...  336  \\\n",
              "0     0.0  0.0  0.0  0.05836  0.161772  0.0  0.0  0.0  0.0  0.0  ...  0.0   \n",
              "1     0.0  0.0  0.0  0.00000  0.000000  0.0  0.0  0.0  0.0  0.0  ...  0.0   \n",
              "2     0.0  0.0  0.0  0.00000  0.000000  0.0  0.0  0.0  0.0  0.0  ...  0.0   \n",
              "3     0.0  0.0  0.0  0.00000  0.000000  0.0  0.0  0.0  0.0  0.0  ...  0.0   \n",
              "4     0.0  0.0  0.0  0.00000  0.000000  0.0  0.0  0.0  0.0  0.0  ...  0.0   \n",
              "...   ...  ...  ...      ...       ...  ...  ...  ...  ...  ...  ...  ...   \n",
              "3272  0.0  0.0  0.0  0.00000  0.000000  0.0  0.0  0.0  0.0  0.0  ...  0.0   \n",
              "3273  0.0  0.0  0.0  0.00000  0.000000  0.0  0.0  0.0  0.0  0.0  ...  0.0   \n",
              "3274  0.0  0.0  0.0  0.00000  0.000000  0.0  0.0  0.0  0.0  0.0  ...  0.0   \n",
              "3275  0.0  0.0  0.0  0.00000  0.519388  0.0  0.0  0.0  0.0  0.0  ...  0.0   \n",
              "3276  0.0  0.0  0.0  0.00000  0.000000  0.0  0.0  0.0  0.0  0.0  ...  0.0   \n",
              "\n",
              "      337  338  339       340  341  342  343  344  idProposicao  \n",
              "0     0.0  0.0  0.0  0.000000  0.0  0.0  0.0  0.0        202032  \n",
              "1     0.0  0.0  0.0  0.000000  0.0  0.0  0.0  0.0       2020331  \n",
              "2     0.0  0.0  0.0  0.000000  0.0  0.0  0.0  0.0       2020559  \n",
              "3     0.0  0.0  0.0  0.000000  0.0  0.0  0.0  0.0       2020560  \n",
              "4     0.0  0.0  0.0  0.000000  0.0  0.0  0.0  0.0       2020565  \n",
              "...   ...  ...  ...       ...  ...  ...  ...  ...           ...  \n",
              "3272  0.0  0.0  0.0  0.000000  0.0  0.0  0.0  0.0       2022536  \n",
              "3273  0.0  0.0  0.0  0.000000  0.0  0.0  0.0  0.0       2022593  \n",
              "3274  0.0  0.0  0.0  0.000000  0.0  0.0  0.0  0.0       2022689  \n",
              "3275  0.0  0.0  0.0  0.000000  0.0  0.0  0.0  0.0       2022816  \n",
              "3276  0.0  0.0  0.0  0.166071  0.0  0.0  0.0  0.0       2022971  \n",
              "\n",
              "[3277 rows x 346 columns]"
            ]
          },
          "execution_count": 41,
          "metadata": {},
          "output_type": "execute_result"
        }
      ],
      "source": [
        "data_ml = [pd.DataFrame(matrix.toarray()) for matrix in np.array(proposicoes_labeld['tf_idf'])]\n",
        "data_ml = pd.concat(data_ml, ignore_index=True, axis=0)\n",
        "data_ml['idProposicao'] = proposicoes_labeld['idProposicao']\n",
        "data_ml.reset_index()\n",
        "data_ml"
      ]
    },
    {
      "cell_type": "code",
      "execution_count": 42,
      "metadata": {},
      "outputs": [
        {
          "name": "stdout",
          "output_type": "stream",
          "text": [
            "Target variable: [1 2]\n",
            "(3277, 351)\n"
          ]
        },
        {
          "data": {
            "text/html": [
              "<div>\n",
              "<style scoped>\n",
              "    .dataframe tbody tr th:only-of-type {\n",
              "        vertical-align: middle;\n",
              "    }\n",
              "\n",
              "    .dataframe tbody tr th {\n",
              "        vertical-align: top;\n",
              "    }\n",
              "\n",
              "    .dataframe thead th {\n",
              "        text-align: right;\n",
              "    }\n",
              "</style>\n",
              "<table border=\"1\" class=\"dataframe\">\n",
              "  <thead>\n",
              "    <tr style=\"text-align: right;\">\n",
              "      <th></th>\n",
              "      <th>codTipo</th>\n",
              "      <th>codTipoAutor</th>\n",
              "      <th>idDeputadoAutor</th>\n",
              "      <th>codigoPartidoAutor</th>\n",
              "      <th>aprovacao</th>\n",
              "      <th>idProposicao</th>\n",
              "      <th>0</th>\n",
              "      <th>1</th>\n",
              "      <th>2</th>\n",
              "      <th>3</th>\n",
              "      <th>...</th>\n",
              "      <th>335</th>\n",
              "      <th>336</th>\n",
              "      <th>337</th>\n",
              "      <th>338</th>\n",
              "      <th>339</th>\n",
              "      <th>340</th>\n",
              "      <th>341</th>\n",
              "      <th>342</th>\n",
              "      <th>343</th>\n",
              "      <th>344</th>\n",
              "    </tr>\n",
              "  </thead>\n",
              "  <tbody>\n",
              "    <tr>\n",
              "      <th>0</th>\n",
              "      <td>136</td>\n",
              "      <td>30000.0</td>\n",
              "      <td>0.0</td>\n",
              "      <td>1</td>\n",
              "      <td>1</td>\n",
              "      <td>202032</td>\n",
              "      <td>0.0</td>\n",
              "      <td>0.0</td>\n",
              "      <td>0.0</td>\n",
              "      <td>0.05836</td>\n",
              "      <td>...</td>\n",
              "      <td>0.0</td>\n",
              "      <td>0.0</td>\n",
              "      <td>0.0</td>\n",
              "      <td>0.0</td>\n",
              "      <td>0.0</td>\n",
              "      <td>0.0</td>\n",
              "      <td>0.0</td>\n",
              "      <td>0.0</td>\n",
              "      <td>0.0</td>\n",
              "      <td>0.0</td>\n",
              "    </tr>\n",
              "    <tr>\n",
              "      <th>1</th>\n",
              "      <td>139</td>\n",
              "      <td>30000.0</td>\n",
              "      <td>0.0</td>\n",
              "      <td>1</td>\n",
              "      <td>1</td>\n",
              "      <td>2020331</td>\n",
              "      <td>0.0</td>\n",
              "      <td>0.0</td>\n",
              "      <td>0.0</td>\n",
              "      <td>0.00000</td>\n",
              "      <td>...</td>\n",
              "      <td>0.0</td>\n",
              "      <td>0.0</td>\n",
              "      <td>0.0</td>\n",
              "      <td>0.0</td>\n",
              "      <td>0.0</td>\n",
              "      <td>0.0</td>\n",
              "      <td>0.0</td>\n",
              "      <td>0.0</td>\n",
              "      <td>0.0</td>\n",
              "      <td>0.0</td>\n",
              "    </tr>\n",
              "    <tr>\n",
              "      <th>2</th>\n",
              "      <td>139</td>\n",
              "      <td>2.0</td>\n",
              "      <td>0.0</td>\n",
              "      <td>1</td>\n",
              "      <td>1</td>\n",
              "      <td>2020559</td>\n",
              "      <td>0.0</td>\n",
              "      <td>0.0</td>\n",
              "      <td>0.0</td>\n",
              "      <td>0.00000</td>\n",
              "      <td>...</td>\n",
              "      <td>0.0</td>\n",
              "      <td>0.0</td>\n",
              "      <td>0.0</td>\n",
              "      <td>0.0</td>\n",
              "      <td>0.0</td>\n",
              "      <td>0.0</td>\n",
              "      <td>0.0</td>\n",
              "      <td>0.0</td>\n",
              "      <td>0.0</td>\n",
              "      <td>0.0</td>\n",
              "    </tr>\n",
              "    <tr>\n",
              "      <th>3</th>\n",
              "      <td>139</td>\n",
              "      <td>2.0</td>\n",
              "      <td>0.0</td>\n",
              "      <td>1</td>\n",
              "      <td>1</td>\n",
              "      <td>2020560</td>\n",
              "      <td>0.0</td>\n",
              "      <td>0.0</td>\n",
              "      <td>0.0</td>\n",
              "      <td>0.00000</td>\n",
              "      <td>...</td>\n",
              "      <td>0.0</td>\n",
              "      <td>0.0</td>\n",
              "      <td>0.0</td>\n",
              "      <td>0.0</td>\n",
              "      <td>0.0</td>\n",
              "      <td>0.0</td>\n",
              "      <td>0.0</td>\n",
              "      <td>0.0</td>\n",
              "      <td>0.0</td>\n",
              "      <td>0.0</td>\n",
              "    </tr>\n",
              "    <tr>\n",
              "      <th>4</th>\n",
              "      <td>139</td>\n",
              "      <td>2.0</td>\n",
              "      <td>0.0</td>\n",
              "      <td>1</td>\n",
              "      <td>1</td>\n",
              "      <td>2020565</td>\n",
              "      <td>0.0</td>\n",
              "      <td>0.0</td>\n",
              "      <td>0.0</td>\n",
              "      <td>0.00000</td>\n",
              "      <td>...</td>\n",
              "      <td>0.0</td>\n",
              "      <td>0.0</td>\n",
              "      <td>0.0</td>\n",
              "      <td>0.0</td>\n",
              "      <td>0.0</td>\n",
              "      <td>0.0</td>\n",
              "      <td>0.0</td>\n",
              "      <td>0.0</td>\n",
              "      <td>0.0</td>\n",
              "      <td>0.0</td>\n",
              "    </tr>\n",
              "  </tbody>\n",
              "</table>\n",
              "<p>5 rows × 351 columns</p>\n",
              "</div>"
            ],
            "text/plain": [
              "   codTipo  codTipoAutor  idDeputadoAutor  codigoPartidoAutor  aprovacao  \\\n",
              "0      136       30000.0              0.0                   1          1   \n",
              "1      139       30000.0              0.0                   1          1   \n",
              "2      139           2.0              0.0                   1          1   \n",
              "3      139           2.0              0.0                   1          1   \n",
              "4      139           2.0              0.0                   1          1   \n",
              "\n",
              "  idProposicao    0    1    2        3  ...  335  336  337  338  339  340  \\\n",
              "0       202032  0.0  0.0  0.0  0.05836  ...  0.0  0.0  0.0  0.0  0.0  0.0   \n",
              "1      2020331  0.0  0.0  0.0  0.00000  ...  0.0  0.0  0.0  0.0  0.0  0.0   \n",
              "2      2020559  0.0  0.0  0.0  0.00000  ...  0.0  0.0  0.0  0.0  0.0  0.0   \n",
              "3      2020560  0.0  0.0  0.0  0.00000  ...  0.0  0.0  0.0  0.0  0.0  0.0   \n",
              "4      2020565  0.0  0.0  0.0  0.00000  ...  0.0  0.0  0.0  0.0  0.0  0.0   \n",
              "\n",
              "   341  342  343  344  \n",
              "0  0.0  0.0  0.0  0.0  \n",
              "1  0.0  0.0  0.0  0.0  \n",
              "2  0.0  0.0  0.0  0.0  \n",
              "3  0.0  0.0  0.0  0.0  \n",
              "4  0.0  0.0  0.0  0.0  \n",
              "\n",
              "[5 rows x 351 columns]"
            ]
          },
          "execution_count": 42,
          "metadata": {},
          "output_type": "execute_result"
        }
      ],
      "source": [
        "data_ml = pd.merge(\n",
        "    proposicoes_labeld[['codTipo','codTipoAutor','idDeputadoAutor','codigoPartidoAutor','aprovacao','idProposicao']], \n",
        "    data_ml, on='idProposicao'\n",
        ")\n",
        "\n",
        "print(f\"Target variable: {data_ml['aprovacao'].unique()}\")\n",
        "print(data_ml.shape)\n",
        "data_ml.head()"
      ]
    },
    {
      "cell_type": "markdown",
      "metadata": {},
      "source": [
        "## Experimento utilizando Rede Neural\n",
        "\n",
        "Vamos realizar o treinamento de um modelo utilizando uma rede neural para avaliar os resultados posteriormente."
      ]
    },
    {
      "cell_type": "markdown",
      "metadata": {},
      "source": [
        "### Treinamento da rede\n",
        "\n",
        "Vamos realizar primeiro a configuração e treinamento da rede neural."
      ]
    },
    {
      "cell_type": "code",
      "execution_count": 43,
      "metadata": {},
      "outputs": [
        {
          "name": "stdout",
          "output_type": "stream",
          "text": [
            "(3277, 349) (3277, 2)\n",
            "Epoch 1/4\n",
            "\u001b[1m328/328\u001b[0m \u001b[32m━━━━━━━━━━━━━━━━━━━━\u001b[0m\u001b[37m\u001b[0m \u001b[1m1s\u001b[0m 541us/step - accuracy: 0.6736 - loss: 0.6525\n",
            "Epoch 2/4\n",
            "\u001b[1m328/328\u001b[0m \u001b[32m━━━━━━━━━━━━━━━━━━━━\u001b[0m\u001b[37m\u001b[0m \u001b[1m0s\u001b[0m 541us/step - accuracy: 0.6748 - loss: 0.6349\n",
            "Epoch 3/4\n",
            "\u001b[1m328/328\u001b[0m \u001b[32m━━━━━━━━━━━━━━━━━━━━\u001b[0m\u001b[37m\u001b[0m \u001b[1m0s\u001b[0m 537us/step - accuracy: 0.6748 - loss: 0.6337\n",
            "Epoch 4/4\n",
            "\u001b[1m328/328\u001b[0m \u001b[32m━━━━━━━━━━━━━━━━━━━━\u001b[0m\u001b[37m\u001b[0m \u001b[1m0s\u001b[0m 532us/step - accuracy: 0.6748 - loss: 0.6322\n"
          ]
        },
        {
          "data": {
            "text/plain": [
              "<keras.src.callbacks.history.History at 0x29b4d8640>"
            ]
          },
          "execution_count": 43,
          "metadata": {},
          "output_type": "execute_result"
        }
      ],
      "source": [
        "from sklearn.preprocessing import OneHotEncoder\n",
        "from scipy.sparse import coo_matrix\n",
        "\n",
        "categories = pd.DataFrame(data_ml['aprovacao'])\n",
        "one_hot_encoder = OneHotEncoder(sparse_output=False)\n",
        "one_hot_encoder.fit(categories)\n",
        "ohe_treino = one_hot_encoder.transform(categories)\n",
        "data_treino = coo_matrix(data_ml.drop(columns=['idProposicao', 'aprovacao']))\n",
        "print(data_treino.shape, ohe_treino.shape)\n",
        "\n",
        "# Setting Random Seeds:\n",
        "random_seed = 33\n",
        "np.random.seed(random_seed)\n",
        "tensorflow.random.set_seed(random_seed)\n",
        "\n",
        "# Formating Net\n",
        "net = Sequential()\n",
        "net.add(Dense(units=8, kernel_initializer='uniform', activation=activations.relu, input_dim=data_treino.shape[1]))\n",
        "net.add(Dense(units=6, kernel_initializer='uniform', activation=activations.relu))\n",
        "net.add(Dense(units=4, kernel_initializer='uniform', activation=activations.relu))\n",
        "net.add(Dense(units=2, kernel_initializer='uniform', activation=activations.sigmoid))\n",
        "\n",
        "# Cooking\n",
        "net.compile(optimizer='adam', loss='binary_crossentropy', metrics=['accuracy'])\n",
        "net.fit(data_treino, ohe_treino, batch_size=10, epochs=4)"
      ]
    },
    {
      "cell_type": "markdown",
      "metadata": {},
      "source": [
        "### Perda ao Longo das Épocas:\n",
        "\n",
        "Vamos observar a taxa de erro ao longo do processamento conforme as épocas do treinamento."
      ]
    },
    {
      "cell_type": "code",
      "execution_count": 44,
      "metadata": {},
      "outputs": [
        {
          "data": {
            "image/png": "[encoded data removed]",
            "text/plain": [
              "<Figure size 800x550 with 1 Axes>"
            ]
          },
          "metadata": {},
          "output_type": "display_data"
        }
      ],
      "source": [
        "import matplotlib.pyplot as plt\n",
        "\n",
        "def plot_graphs(history, string):\n",
        "  plt.plot(history.history[string])\n",
        "  plt.plot(history.history['loss'])\n",
        "  plt.xlabel(\"Epochs\")\n",
        "  plt.ylabel(string)\n",
        "  plt.legend([string, 'loss'])\n",
        "  plt.show()\n",
        "  \n",
        "plot_graphs(net.history, \"accuracy\")"
      ]
    },
    {
      "cell_type": "markdown",
      "metadata": {},
      "source": [
        "**Resultado:** Após tentar diversas combinações de neurônios e camadas, a configuração de 4 camadas com 8, 6, 4 e 2 neurônios, respectivamente, foi a que alcançou melhor resultado com menos épocas."
      ]
    },
    {
      "cell_type": "markdown",
      "metadata": {},
      "source": [
        "### Classificação com a massa de dados nova:\n",
        "\n",
        "Será feita a classificação da massa de dados separada e que não possui um estado conhecido sobre a aprovação da proposição."
      ]
    },
    {
      "cell_type": "markdown",
      "metadata": {},
      "source": [
        "#### Separação das preposições indefinidas\n",
        "\n",
        "Vamos separar a massa de dados que não possui uma definição sobre a aprovação ou não da proposição."
      ]
    },
    {
      "cell_type": "code",
      "execution_count": 45,
      "metadata": {},
      "outputs": [
        {
          "name": "stdout",
          "output_type": "stream",
          "text": [
            "(5635, 349)\n"
          ]
        },
        {
          "data": {
            "text/html": [
              "<div>\n",
              "<style scoped>\n",
              "    .dataframe tbody tr th:only-of-type {\n",
              "        vertical-align: middle;\n",
              "    }\n",
              "\n",
              "    .dataframe tbody tr th {\n",
              "        vertical-align: top;\n",
              "    }\n",
              "\n",
              "    .dataframe thead th {\n",
              "        text-align: right;\n",
              "    }\n",
              "</style>\n",
              "<table border=\"1\" class=\"dataframe\">\n",
              "  <thead>\n",
              "    <tr style=\"text-align: right;\">\n",
              "      <th></th>\n",
              "      <th>codTipo</th>\n",
              "      <th>codTipoAutor</th>\n",
              "      <th>idDeputadoAutor</th>\n",
              "      <th>codigoPartidoAutor</th>\n",
              "      <th>0</th>\n",
              "      <th>1</th>\n",
              "      <th>2</th>\n",
              "      <th>3</th>\n",
              "      <th>4</th>\n",
              "      <th>5</th>\n",
              "      <th>...</th>\n",
              "      <th>335</th>\n",
              "      <th>336</th>\n",
              "      <th>337</th>\n",
              "      <th>338</th>\n",
              "      <th>339</th>\n",
              "      <th>340</th>\n",
              "      <th>341</th>\n",
              "      <th>342</th>\n",
              "      <th>343</th>\n",
              "      <th>344</th>\n",
              "    </tr>\n",
              "  </thead>\n",
              "  <tbody>\n",
              "    <tr>\n",
              "      <th>0</th>\n",
              "      <td>136</td>\n",
              "      <td>40000.0</td>\n",
              "      <td>0.0</td>\n",
              "      <td>1</td>\n",
              "      <td>0.0</td>\n",
              "      <td>0.0</td>\n",
              "      <td>0.0</td>\n",
              "      <td>0.0</td>\n",
              "      <td>0.0</td>\n",
              "      <td>0.0</td>\n",
              "      <td>...</td>\n",
              "      <td>0.0</td>\n",
              "      <td>0.0</td>\n",
              "      <td>0.0</td>\n",
              "      <td>0.0</td>\n",
              "      <td>0.0</td>\n",
              "      <td>0.0</td>\n",
              "      <td>0.0</td>\n",
              "      <td>0.0</td>\n",
              "      <td>0.0</td>\n",
              "      <td>0.0</td>\n",
              "    </tr>\n",
              "    <tr>\n",
              "      <th>1</th>\n",
              "      <td>139</td>\n",
              "      <td>30000.0</td>\n",
              "      <td>0.0</td>\n",
              "      <td>1</td>\n",
              "      <td>0.0</td>\n",
              "      <td>0.0</td>\n",
              "      <td>0.0</td>\n",
              "      <td>0.0</td>\n",
              "      <td>0.0</td>\n",
              "      <td>0.0</td>\n",
              "      <td>...</td>\n",
              "      <td>0.0</td>\n",
              "      <td>0.0</td>\n",
              "      <td>0.0</td>\n",
              "      <td>0.0</td>\n",
              "      <td>0.0</td>\n",
              "      <td>0.0</td>\n",
              "      <td>0.0</td>\n",
              "      <td>0.0</td>\n",
              "      <td>0.0</td>\n",
              "      <td>0.0</td>\n",
              "    </tr>\n",
              "    <tr>\n",
              "      <th>2</th>\n",
              "      <td>139</td>\n",
              "      <td>2.0</td>\n",
              "      <td>0.0</td>\n",
              "      <td>1</td>\n",
              "      <td>0.0</td>\n",
              "      <td>0.0</td>\n",
              "      <td>0.0</td>\n",
              "      <td>0.0</td>\n",
              "      <td>0.0</td>\n",
              "      <td>0.0</td>\n",
              "      <td>...</td>\n",
              "      <td>0.0</td>\n",
              "      <td>0.0</td>\n",
              "      <td>0.0</td>\n",
              "      <td>0.0</td>\n",
              "      <td>0.0</td>\n",
              "      <td>0.0</td>\n",
              "      <td>0.0</td>\n",
              "      <td>0.0</td>\n",
              "      <td>0.0</td>\n",
              "      <td>0.0</td>\n",
              "    </tr>\n",
              "    <tr>\n",
              "      <th>3</th>\n",
              "      <td>136</td>\n",
              "      <td>40000.0</td>\n",
              "      <td>0.0</td>\n",
              "      <td>1</td>\n",
              "      <td>0.0</td>\n",
              "      <td>0.0</td>\n",
              "      <td>0.0</td>\n",
              "      <td>0.0</td>\n",
              "      <td>0.0</td>\n",
              "      <td>0.0</td>\n",
              "      <td>...</td>\n",
              "      <td>0.0</td>\n",
              "      <td>0.0</td>\n",
              "      <td>0.0</td>\n",
              "      <td>0.0</td>\n",
              "      <td>0.0</td>\n",
              "      <td>0.0</td>\n",
              "      <td>0.0</td>\n",
              "      <td>0.0</td>\n",
              "      <td>0.0</td>\n",
              "      <td>0.0</td>\n",
              "    </tr>\n",
              "    <tr>\n",
              "      <th>4</th>\n",
              "      <td>139</td>\n",
              "      <td>30000.0</td>\n",
              "      <td>0.0</td>\n",
              "      <td>1</td>\n",
              "      <td>0.0</td>\n",
              "      <td>0.0</td>\n",
              "      <td>0.0</td>\n",
              "      <td>0.0</td>\n",
              "      <td>0.0</td>\n",
              "      <td>0.0</td>\n",
              "      <td>...</td>\n",
              "      <td>0.0</td>\n",
              "      <td>0.0</td>\n",
              "      <td>0.0</td>\n",
              "      <td>0.0</td>\n",
              "      <td>0.0</td>\n",
              "      <td>0.0</td>\n",
              "      <td>0.0</td>\n",
              "      <td>0.0</td>\n",
              "      <td>0.0</td>\n",
              "      <td>0.0</td>\n",
              "    </tr>\n",
              "  </tbody>\n",
              "</table>\n",
              "<p>5 rows × 349 columns</p>\n",
              "</div>"
            ],
            "text/plain": [
              "   codTipo  codTipoAutor  idDeputadoAutor  codigoPartidoAutor    0    1    2  \\\n",
              "0      136       40000.0              0.0                   1  0.0  0.0  0.0   \n",
              "1      139       30000.0              0.0                   1  0.0  0.0  0.0   \n",
              "2      139           2.0              0.0                   1  0.0  0.0  0.0   \n",
              "3      136       40000.0              0.0                   1  0.0  0.0  0.0   \n",
              "4      139       30000.0              0.0                   1  0.0  0.0  0.0   \n",
              "\n",
              "     3    4    5  ...  335  336  337  338  339  340  341  342  343  344  \n",
              "0  0.0  0.0  0.0  ...  0.0  0.0  0.0  0.0  0.0  0.0  0.0  0.0  0.0  0.0  \n",
              "1  0.0  0.0  0.0  ...  0.0  0.0  0.0  0.0  0.0  0.0  0.0  0.0  0.0  0.0  \n",
              "2  0.0  0.0  0.0  ...  0.0  0.0  0.0  0.0  0.0  0.0  0.0  0.0  0.0  0.0  \n",
              "3  0.0  0.0  0.0  ...  0.0  0.0  0.0  0.0  0.0  0.0  0.0  0.0  0.0  0.0  \n",
              "4  0.0  0.0  0.0  ...  0.0  0.0  0.0  0.0  0.0  0.0  0.0  0.0  0.0  0.0  \n",
              "\n",
              "[5 rows x 349 columns]"
            ]
          },
          "execution_count": 45,
          "metadata": {},
          "output_type": "execute_result"
        }
      ],
      "source": [
        "unseen = [pd.DataFrame(matrix.toarray()) for matrix in np.array(proposicoes_indefinidas['tf_idf'])]\n",
        "unseen = pd.concat(unseen, ignore_index=True, axis=0)\n",
        "unseen['idProposicao'] = proposicoes_indefinidas['idProposicao']\n",
        "unseen.reset_index()\n",
        "\n",
        "unseen = pd.merge(\n",
        "    proposicoes_indefinidas[['codTipo','codTipoAutor','idDeputadoAutor','codigoPartidoAutor','idProposicao']],\n",
        "    unseen, on='idProposicao'\n",
        ").drop(columns=['idProposicao'])\n",
        "\n",
        "print(unseen.shape)\n",
        "unseen.head()"
      ]
    },
    {
      "cell_type": "markdown",
      "metadata": {},
      "source": [
        "#### Predição\n",
        "\n",
        "Faremos a predição com o modelo a partir dos dados não rotulados."
      ]
    },
    {
      "cell_type": "code",
      "execution_count": 46,
      "metadata": {},
      "outputs": [
        {
          "name": "stdout",
          "output_type": "stream",
          "text": [
            "\u001b[1m177/177\u001b[0m \u001b[32m━━━━━━━━━━━━━━━━━━━━\u001b[0m\u001b[37m\u001b[0m \u001b[1m0s\u001b[0m 872us/step\n"
          ]
        },
        {
          "data": {
            "text/plain": [
              "array([[0.63378596, 0.3696128 ],\n",
              "       [0.63378596, 0.3696128 ],\n",
              "       [0.7831418 , 0.22826606],\n",
              "       ...,\n",
              "       [0.76980805, 0.23179932],\n",
              "       [0.6321039 , 0.36675408],\n",
              "       [0.7697608 , 0.23184583]], dtype=float32)"
            ]
          },
          "execution_count": 46,
          "metadata": {},
          "output_type": "execute_result"
        }
      ],
      "source": [
        "prediction_massa_teste = net.predict(coo_matrix(unseen))\n",
        "prediction_massa_teste"
      ]
    },
    {
      "cell_type": "markdown",
      "metadata": {},
      "source": [
        "#### Interpretando a saída\n",
        "\n",
        "O resultado é um array contendo a probabilidade de que a proposição seja aprovada (primeira posição) ou reprovada (segunda posição). A soma sempre será igual a 1, que representa 100%.\n",
        "\n",
        "Vamos separar as proposições com 70% ou mais de chance de obter aprovação para considerar como tendo potencial de aprovação e, então, apresentar os resultados."
      ]
    },
    {
      "cell_type": "code",
      "execution_count": 47,
      "metadata": {},
      "outputs": [
        {
          "data": {
            "image/png": "[encoded data removed]",
            "text/plain": [
              "<Figure size 800x550 with 1 Axes>"
            ]
          },
          "metadata": {},
          "output_type": "display_data"
        }
      ],
      "source": [
        "df_result = pd.DataFrame(prediction_massa_teste, columns=['Aprovado','Reprovado'])\n",
        "df_result['resultado'] = df_result['Aprovado'].apply(lambda x: 1 if x > 0.7 else 2)\n",
        "df_result[['Aprovado','resultado']].groupby(by=['resultado']).count()\n",
        "\n",
        "llama.GraphicCreator.pie_graphic(\n",
        "    title='Probabilidade de Aprovação',\n",
        "    data={\n",
        "      'Aprovaçãp': df_result['Aprovado'].tolist()[0],\n",
        "      'Reprovação': df_result['Aprovado'].tolist()[1]\n",
        "    }\n",
        ")"
      ]
    },
    {
      "cell_type": "markdown",
      "metadata": {},
      "source": [
        "**Resultado:** A massa ficou bem dividida, provavelmente resultado do desbalanceamento das classes que não foi tratado antes. Por isso compensei no critério de 70% ou mais de probabilidade."
      ]
    },
    {
      "cell_type": "markdown",
      "metadata": {},
      "source": [
        "## Experimento utilizando modelos com Pycaret\n",
        "\n",
        "O Pycaret é uma biblioteca de ML do tipo low code que permite comparar rapidamente vários modelos diferentes e avaliar o desempenho destes modelos de forma rápida e prática, proporcionando alta produtividade. Vamos experimentar, a seguir, alguns recursos desta biblioteca."
      ]
    },
    {
      "cell_type": "markdown",
      "metadata": {},
      "source": [
        "### Setup\n",
        "\n",
        "Para começar a utilizar o Pycaret basta utilizar o método setup, conforme a seguir."
      ]
    },
    {
      "cell_type": "code",
      "execution_count": 48,
      "metadata": {
        "colab": {
          "base_uri": "https://localhost:8080/"
        },
        "id": "TqfRWled0SgC",
        "outputId": "a0337d70-e82f-4846-8ca7-61ad3f8d32fa"
      },
      "outputs": [
        {
          "data": {
            "text/html": [
              "<style type=\"text/css\">\n",
              "#T_e9e40_row9_col1 {\n",
              "  background-color: lightgreen;\n",
              "}\n",
              "</style>\n",
              "<table id=\"T_e9e40\">\n",
              "  <thead>\n",
              "    <tr>\n",
              "      <th class=\"blank level0\" >&nbsp;</th>\n",
              "      <th id=\"T_e9e40_level0_col0\" class=\"col_heading level0 col0\" >Description</th>\n",
              "      <th id=\"T_e9e40_level0_col1\" class=\"col_heading level0 col1\" >Value</th>\n",
              "    </tr>\n",
              "  </thead>\n",
              "  <tbody>\n",
              "    <tr>\n",
              "      <th id=\"T_e9e40_level0_row0\" class=\"row_heading level0 row0\" >0</th>\n",
              "      <td id=\"T_e9e40_row0_col0\" class=\"data row0 col0\" >Session id</td>\n",
              "      <td id=\"T_e9e40_row0_col1\" class=\"data row0 col1\" >123</td>\n",
              "    </tr>\n",
              "    <tr>\n",
              "      <th id=\"T_e9e40_level0_row1\" class=\"row_heading level0 row1\" >1</th>\n",
              "      <td id=\"T_e9e40_row1_col0\" class=\"data row1 col0\" >Target</td>\n",
              "      <td id=\"T_e9e40_row1_col1\" class=\"data row1 col1\" >aprovacao</td>\n",
              "    </tr>\n",
              "    <tr>\n",
              "      <th id=\"T_e9e40_level0_row2\" class=\"row_heading level0 row2\" >2</th>\n",
              "      <td id=\"T_e9e40_row2_col0\" class=\"data row2 col0\" >Target type</td>\n",
              "      <td id=\"T_e9e40_row2_col1\" class=\"data row2 col1\" >Binary</td>\n",
              "    </tr>\n",
              "    <tr>\n",
              "      <th id=\"T_e9e40_level0_row3\" class=\"row_heading level0 row3\" >3</th>\n",
              "      <td id=\"T_e9e40_row3_col0\" class=\"data row3 col0\" >Target mapping</td>\n",
              "      <td id=\"T_e9e40_row3_col1\" class=\"data row3 col1\" >1: 0, 2: 1</td>\n",
              "    </tr>\n",
              "    <tr>\n",
              "      <th id=\"T_e9e40_level0_row4\" class=\"row_heading level0 row4\" >4</th>\n",
              "      <td id=\"T_e9e40_row4_col0\" class=\"data row4 col0\" >Original data shape</td>\n",
              "      <td id=\"T_e9e40_row4_col1\" class=\"data row4 col1\" >(3277, 350)</td>\n",
              "    </tr>\n",
              "    <tr>\n",
              "      <th id=\"T_e9e40_level0_row5\" class=\"row_heading level0 row5\" >5</th>\n",
              "      <td id=\"T_e9e40_row5_col0\" class=\"data row5 col0\" >Transformed data shape</td>\n",
              "      <td id=\"T_e9e40_row5_col1\" class=\"data row5 col1\" >(3277, 350)</td>\n",
              "    </tr>\n",
              "    <tr>\n",
              "      <th id=\"T_e9e40_level0_row6\" class=\"row_heading level0 row6\" >6</th>\n",
              "      <td id=\"T_e9e40_row6_col0\" class=\"data row6 col0\" >Transformed train set shape</td>\n",
              "      <td id=\"T_e9e40_row6_col1\" class=\"data row6 col1\" >(2293, 350)</td>\n",
              "    </tr>\n",
              "    <tr>\n",
              "      <th id=\"T_e9e40_level0_row7\" class=\"row_heading level0 row7\" >7</th>\n",
              "      <td id=\"T_e9e40_row7_col0\" class=\"data row7 col0\" >Transformed test set shape</td>\n",
              "      <td id=\"T_e9e40_row7_col1\" class=\"data row7 col1\" >(984, 350)</td>\n",
              "    </tr>\n",
              "    <tr>\n",
              "      <th id=\"T_e9e40_level0_row8\" class=\"row_heading level0 row8\" >8</th>\n",
              "      <td id=\"T_e9e40_row8_col0\" class=\"data row8 col0\" >Numeric features</td>\n",
              "      <td id=\"T_e9e40_row8_col1\" class=\"data row8 col1\" >349</td>\n",
              "    </tr>\n",
              "    <tr>\n",
              "      <th id=\"T_e9e40_level0_row9\" class=\"row_heading level0 row9\" >9</th>\n",
              "      <td id=\"T_e9e40_row9_col0\" class=\"data row9 col0\" >Preprocess</td>\n",
              "      <td id=\"T_e9e40_row9_col1\" class=\"data row9 col1\" >True</td>\n",
              "    </tr>\n",
              "    <tr>\n",
              "      <th id=\"T_e9e40_level0_row10\" class=\"row_heading level0 row10\" >10</th>\n",
              "      <td id=\"T_e9e40_row10_col0\" class=\"data row10 col0\" >Imputation type</td>\n",
              "      <td id=\"T_e9e40_row10_col1\" class=\"data row10 col1\" >simple</td>\n",
              "    </tr>\n",
              "    <tr>\n",
              "      <th id=\"T_e9e40_level0_row11\" class=\"row_heading level0 row11\" >11</th>\n",
              "      <td id=\"T_e9e40_row11_col0\" class=\"data row11 col0\" >Numeric imputation</td>\n",
              "      <td id=\"T_e9e40_row11_col1\" class=\"data row11 col1\" >mean</td>\n",
              "    </tr>\n",
              "    <tr>\n",
              "      <th id=\"T_e9e40_level0_row12\" class=\"row_heading level0 row12\" >12</th>\n",
              "      <td id=\"T_e9e40_row12_col0\" class=\"data row12 col0\" >Categorical imputation</td>\n",
              "      <td id=\"T_e9e40_row12_col1\" class=\"data row12 col1\" >mode</td>\n",
              "    </tr>\n",
              "    <tr>\n",
              "      <th id=\"T_e9e40_level0_row13\" class=\"row_heading level0 row13\" >13</th>\n",
              "      <td id=\"T_e9e40_row13_col0\" class=\"data row13 col0\" >Fold Generator</td>\n",
              "      <td id=\"T_e9e40_row13_col1\" class=\"data row13 col1\" >StratifiedKFold</td>\n",
              "    </tr>\n",
              "    <tr>\n",
              "      <th id=\"T_e9e40_level0_row14\" class=\"row_heading level0 row14\" >14</th>\n",
              "      <td id=\"T_e9e40_row14_col0\" class=\"data row14 col0\" >Fold Number</td>\n",
              "      <td id=\"T_e9e40_row14_col1\" class=\"data row14 col1\" >10</td>\n",
              "    </tr>\n",
              "    <tr>\n",
              "      <th id=\"T_e9e40_level0_row15\" class=\"row_heading level0 row15\" >15</th>\n",
              "      <td id=\"T_e9e40_row15_col0\" class=\"data row15 col0\" >CPU Jobs</td>\n",
              "      <td id=\"T_e9e40_row15_col1\" class=\"data row15 col1\" >-1</td>\n",
              "    </tr>\n",
              "    <tr>\n",
              "      <th id=\"T_e9e40_level0_row16\" class=\"row_heading level0 row16\" >16</th>\n",
              "      <td id=\"T_e9e40_row16_col0\" class=\"data row16 col0\" >Use GPU</td>\n",
              "      <td id=\"T_e9e40_row16_col1\" class=\"data row16 col1\" >False</td>\n",
              "    </tr>\n",
              "    <tr>\n",
              "      <th id=\"T_e9e40_level0_row17\" class=\"row_heading level0 row17\" >17</th>\n",
              "      <td id=\"T_e9e40_row17_col0\" class=\"data row17 col0\" >Log Experiment</td>\n",
              "      <td id=\"T_e9e40_row17_col1\" class=\"data row17 col1\" >False</td>\n",
              "    </tr>\n",
              "    <tr>\n",
              "      <th id=\"T_e9e40_level0_row18\" class=\"row_heading level0 row18\" >18</th>\n",
              "      <td id=\"T_e9e40_row18_col0\" class=\"data row18 col0\" >Experiment Name</td>\n",
              "      <td id=\"T_e9e40_row18_col1\" class=\"data row18 col1\" >clf-default-name</td>\n",
              "    </tr>\n",
              "    <tr>\n",
              "      <th id=\"T_e9e40_level0_row19\" class=\"row_heading level0 row19\" >19</th>\n",
              "      <td id=\"T_e9e40_row19_col0\" class=\"data row19 col0\" >USI</td>\n",
              "      <td id=\"T_e9e40_row19_col1\" class=\"data row19 col1\" >e575</td>\n",
              "    </tr>\n",
              "  </tbody>\n",
              "</table>\n"
            ],
            "text/plain": [
              "<pandas.io.formats.style.Styler at 0x29254d070>"
            ]
          },
          "metadata": {},
          "output_type": "display_data"
        }
      ],
      "source": [
        "setup = setup(\n",
        "    data = data_ml.drop(columns=['idProposicao']),\n",
        "    target = 'aprovacao',\n",
        "    session_id=123, \n",
        ")"
      ]
    },
    {
      "cell_type": "markdown",
      "metadata": {},
      "source": []
    },
    {
      "cell_type": "markdown",
      "metadata": {
        "id": "L_J1H9h--s8w"
      },
      "source": [
        "### Comparação entre modelos\n",
        "\n",
        "Abaxo a comparação entre diversos modelos e os melhores resultados de cada um em destaque. Podemos escolher o melhor modelo para nosso problema de acordo com a métrica que for mais adequada para ele."
      ]
    },
    {
      "cell_type": "code",
      "execution_count": 49,
      "metadata": {
        "colab": {
          "base_uri": "https://localhost:8080/",
          "height": 722,
          "referenced_widgets": [
            "3d704afb307e4271bc92d82aef818c67",
            "b24731bc3b7a47978183d0ada3d9b4a3",
            "15b051855174485e9189e6b6d830a1e0",
            "f93a63776ae14088bce42005907a2322",
            "2485791244c04b6697dc65069763a97c",
            "73f97eb455024e84b2f6d8dcf54bb1f9",
            "bada1e86dcf54d939174eed265509935",
            "5be5ae987705419bb068d7577d315125",
            "03a24dd15b614f0390ea05137e02ee9d",
            "da5d4cfe68674bafa512a1f23446bcd5",
            "c87325ea66054d5db427f52aee9c0f53"
          ]
        },
        "id": "2t58NR4E0im-",
        "outputId": "74a9d920-8b1f-4061-a4c3-763fae9963f8"
      },
      "outputs": [
        {
          "data": {
            "text/html": [],
            "text/plain": [
              "<IPython.core.display.HTML object>"
            ]
          },
          "metadata": {},
          "output_type": "display_data"
        },
        {
          "data": {
            "text/html": [],
            "text/plain": [
              "<IPython.core.display.HTML object>"
            ]
          },
          "metadata": {},
          "output_type": "display_data"
        },
        {
          "data": {
            "text/html": [],
            "text/plain": [
              "<IPython.core.display.HTML object>"
            ]
          },
          "metadata": {},
          "output_type": "display_data"
        },
        {
          "data": {
            "text/html": [
              "<style>#sk-container-id-1 {\n",
              "  /* Definition of color scheme common for light and dark mode */\n",
              "  --sklearn-color-text: black;\n",
              "  --sklearn-color-line: gray;\n",
              "  /* Definition of color scheme for unfitted estimators */\n",
              "  --sklearn-color-unfitted-level-0: #fff5e6;\n",
              "  --sklearn-color-unfitted-level-1: #f6e4d2;\n",
              "  --sklearn-color-unfitted-level-2: #ffe0b3;\n",
              "  --sklearn-color-unfitted-level-3: chocolate;\n",
              "  /* Definition of color scheme for fitted estimators */\n",
              "  --sklearn-color-fitted-level-0: #f0f8ff;\n",
              "  --sklearn-color-fitted-level-1: #d4ebff;\n",
              "  --sklearn-color-fitted-level-2: #b3dbfd;\n",
              "  --sklearn-color-fitted-level-3: cornflowerblue;\n",
              "\n",
              "  /* Specific color for light theme */\n",
              "  --sklearn-color-text-on-default-background: var(--sg-text-color, var(--theme-code-foreground, var(--jp-content-font-color1, black)));\n",
              "  --sklearn-color-background: var(--sg-background-color, var(--theme-background, var(--jp-layout-color0, white)));\n",
              "  --sklearn-color-border-box: var(--sg-text-color, var(--theme-code-foreground, var(--jp-content-font-color1, black)));\n",
              "  --sklearn-color-icon: #696969;\n",
              "\n",
              "  @media (prefers-color-scheme: dark) {\n",
              "    /* Redefinition of color scheme for dark theme */\n",
              "    --sklearn-color-text-on-default-background: var(--sg-text-color, var(--theme-code-foreground, var(--jp-content-font-color1, white)));\n",
              "    --sklearn-color-background: var(--sg-background-color, var(--theme-background, var(--jp-layout-color0, #111)));\n",
              "    --sklearn-color-border-box: var(--sg-text-color, var(--theme-code-foreground, var(--jp-content-font-color1, white)));\n",
              "    --sklearn-color-icon: #878787;\n",
              "  }\n",
              "}\n",
              "\n",
              "#sk-container-id-1 {\n",
              "  color: var(--sklearn-color-text);\n",
              "}\n",
              "\n",
              "#sk-container-id-1 pre {\n",
              "  padding: 0;\n",
              "}\n",
              "\n",
              "#sk-container-id-1 input.sk-hidden--visually {\n",
              "  border: 0;\n",
              "  clip: rect(1px 1px 1px 1px);\n",
              "  clip: rect(1px, 1px, 1px, 1px);\n",
              "  height: 1px;\n",
              "  margin: -1px;\n",
              "  overflow: hidden;\n",
              "  padding: 0;\n",
              "  position: absolute;\n",
              "  width: 1px;\n",
              "}\n",
              "\n",
              "#sk-container-id-1 div.sk-dashed-wrapped {\n",
              "  border: 1px dashed var(--sklearn-color-line);\n",
              "  margin: 0 0.4em 0.5em 0.4em;\n",
              "  box-sizing: border-box;\n",
              "  padding-bottom: 0.4em;\n",
              "  background-color: var(--sklearn-color-background);\n",
              "}\n",
              "\n",
              "#sk-container-id-1 div.sk-container {\n",
              "  /* jupyter's `normalize.less` sets `[hidden] { display: none; }`\n",
              "     but bootstrap.min.css set `[hidden] { display: none !important; }`\n",
              "     so we also need the `!important` here to be able to override the\n",
              "     default hidden behavior on the sphinx rendered scikit-learn.org.\n",
              "     See: https://github.com/scikit-learn/scikit-learn/issues/21755 */\n",
              "  display: inline-block !important;\n",
              "  position: relative;\n",
              "}\n",
              "\n",
              "#sk-container-id-1 div.sk-text-repr-fallback {\n",
              "  display: none;\n",
              "}\n",
              "\n",
              "div.sk-parallel-item,\n",
              "div.sk-serial,\n",
              "div.sk-item {\n",
              "  /* draw centered vertical line to link estimators */\n",
              "  background-image: linear-gradient(var(--sklearn-color-text-on-default-background), var(--sklearn-color-text-on-default-background));\n",
              "  background-size: 2px 100%;\n",
              "  background-repeat: no-repeat;\n",
              "  background-position: center center;\n",
              "}\n",
              "\n",
              "/* Parallel-specific style estimator block */\n",
              "\n",
              "#sk-container-id-1 div.sk-parallel-item::after {\n",
              "  content: \"\";\n",
              "  width: 100%;\n",
              "  border-bottom: 2px solid var(--sklearn-color-text-on-default-background);\n",
              "  flex-grow: 1;\n",
              "}\n",
              "\n",
              "#sk-container-id-1 div.sk-parallel {\n",
              "  display: flex;\n",
              "  align-items: stretch;\n",
              "  justify-content: center;\n",
              "  background-color: var(--sklearn-color-background);\n",
              "  position: relative;\n",
              "}\n",
              "\n",
              "#sk-container-id-1 div.sk-parallel-item {\n",
              "  display: flex;\n",
              "  flex-direction: column;\n",
              "}\n",
              "\n",
              "#sk-container-id-1 div.sk-parallel-item:first-child::after {\n",
              "  align-self: flex-end;\n",
              "  width: 50%;\n",
              "}\n",
              "\n",
              "#sk-container-id-1 div.sk-parallel-item:last-child::after {\n",
              "  align-self: flex-start;\n",
              "  width: 50%;\n",
              "}\n",
              "\n",
              "#sk-container-id-1 div.sk-parallel-item:only-child::after {\n",
              "  width: 0;\n",
              "}\n",
              "\n",
              "/* Serial-specific style estimator block */\n",
              "\n",
              "#sk-container-id-1 div.sk-serial {\n",
              "  display: flex;\n",
              "  flex-direction: column;\n",
              "  align-items: center;\n",
              "  background-color: var(--sklearn-color-background);\n",
              "  padding-right: 1em;\n",
              "  padding-left: 1em;\n",
              "}\n",
              "\n",
              "\n",
              "/* Toggleable style: style used for estimator/Pipeline/ColumnTransformer box that is\n",
              "clickable and can be expanded/collapsed.\n",
              "- Pipeline and ColumnTransformer use this feature and define the default style\n",
              "- Estimators will overwrite some part of the style using the `sk-estimator` class\n",
              "*/\n",
              "\n",
              "/* Pipeline and ColumnTransformer style (default) */\n",
              "\n",
              "#sk-container-id-1 div.sk-toggleable {\n",
              "  /* Default theme specific background. It is overwritten whether we have a\n",
              "  specific estimator or a Pipeline/ColumnTransformer */\n",
              "  background-color: var(--sklearn-color-background);\n",
              "}\n",
              "\n",
              "/* Toggleable label */\n",
              "#sk-container-id-1 label.sk-toggleable__label {\n",
              "  cursor: pointer;\n",
              "  display: block;\n",
              "  width: 100%;\n",
              "  margin-bottom: 0;\n",
              "  padding: 0.5em;\n",
              "  box-sizing: border-box;\n",
              "  text-align: center;\n",
              "}\n",
              "\n",
              "#sk-container-id-1 label.sk-toggleable__label-arrow:before {\n",
              "  /* Arrow on the left of the label */\n",
              "  content: \"▸\";\n",
              "  float: left;\n",
              "  margin-right: 0.25em;\n",
              "  color: var(--sklearn-color-icon);\n",
              "}\n",
              "\n",
              "#sk-container-id-1 label.sk-toggleable__label-arrow:hover:before {\n",
              "  color: var(--sklearn-color-text);\n",
              "}\n",
              "\n",
              "/* Toggleable content - dropdown */\n",
              "\n",
              "#sk-container-id-1 div.sk-toggleable__content {\n",
              "  max-height: 0;\n",
              "  max-width: 0;\n",
              "  overflow: hidden;\n",
              "  text-align: left;\n",
              "  /* unfitted */\n",
              "  background-color: var(--sklearn-color-unfitted-level-0);\n",
              "}\n",
              "\n",
              "#sk-container-id-1 div.sk-toggleable__content.fitted {\n",
              "  /* fitted */\n",
              "  background-color: var(--sklearn-color-fitted-level-0);\n",
              "}\n",
              "\n",
              "#sk-container-id-1 div.sk-toggleable__content pre {\n",
              "  margin: 0.2em;\n",
              "  border-radius: 0.25em;\n",
              "  color: var(--sklearn-color-text);\n",
              "  /* unfitted */\n",
              "  background-color: var(--sklearn-color-unfitted-level-0);\n",
              "}\n",
              "\n",
              "#sk-container-id-1 div.sk-toggleable__content.fitted pre {\n",
              "  /* unfitted */\n",
              "  background-color: var(--sklearn-color-fitted-level-0);\n",
              "}\n",
              "\n",
              "#sk-container-id-1 input.sk-toggleable__control:checked~div.sk-toggleable__content {\n",
              "  /* Expand drop-down */\n",
              "  max-height: 200px;\n",
              "  max-width: 100%;\n",
              "  overflow: auto;\n",
              "}\n",
              "\n",
              "#sk-container-id-1 input.sk-toggleable__control:checked~label.sk-toggleable__label-arrow:before {\n",
              "  content: \"▾\";\n",
              "}\n",
              "\n",
              "/* Pipeline/ColumnTransformer-specific style */\n",
              "\n",
              "#sk-container-id-1 div.sk-label input.sk-toggleable__control:checked~label.sk-toggleable__label {\n",
              "  color: var(--sklearn-color-text);\n",
              "  background-color: var(--sklearn-color-unfitted-level-2);\n",
              "}\n",
              "\n",
              "#sk-container-id-1 div.sk-label.fitted input.sk-toggleable__control:checked~label.sk-toggleable__label {\n",
              "  background-color: var(--sklearn-color-fitted-level-2);\n",
              "}\n",
              "\n",
              "/* Estimator-specific style */\n",
              "\n",
              "/* Colorize estimator box */\n",
              "#sk-container-id-1 div.sk-estimator input.sk-toggleable__control:checked~label.sk-toggleable__label {\n",
              "  /* unfitted */\n",
              "  background-color: var(--sklearn-color-unfitted-level-2);\n",
              "}\n",
              "\n",
              "#sk-container-id-1 div.sk-estimator.fitted input.sk-toggleable__control:checked~label.sk-toggleable__label {\n",
              "  /* fitted */\n",
              "  background-color: var(--sklearn-color-fitted-level-2);\n",
              "}\n",
              "\n",
              "#sk-container-id-1 div.sk-label label.sk-toggleable__label,\n",
              "#sk-container-id-1 div.sk-label label {\n",
              "  /* The background is the default theme color */\n",
              "  color: var(--sklearn-color-text-on-default-background);\n",
              "}\n",
              "\n",
              "/* On hover, darken the color of the background */\n",
              "#sk-container-id-1 div.sk-label:hover label.sk-toggleable__label {\n",
              "  color: var(--sklearn-color-text);\n",
              "  background-color: var(--sklearn-color-unfitted-level-2);\n",
              "}\n",
              "\n",
              "/* Label box, darken color on hover, fitted */\n",
              "#sk-container-id-1 div.sk-label.fitted:hover label.sk-toggleable__label.fitted {\n",
              "  color: var(--sklearn-color-text);\n",
              "  background-color: var(--sklearn-color-fitted-level-2);\n",
              "}\n",
              "\n",
              "/* Estimator label */\n",
              "\n",
              "#sk-container-id-1 div.sk-label label {\n",
              "  font-family: monospace;\n",
              "  font-weight: bold;\n",
              "  display: inline-block;\n",
              "  line-height: 1.2em;\n",
              "}\n",
              "\n",
              "#sk-container-id-1 div.sk-label-container {\n",
              "  text-align: center;\n",
              "}\n",
              "\n",
              "/* Estimator-specific */\n",
              "#sk-container-id-1 div.sk-estimator {\n",
              "  font-family: monospace;\n",
              "  border: 1px dotted var(--sklearn-color-border-box);\n",
              "  border-radius: 0.25em;\n",
              "  box-sizing: border-box;\n",
              "  margin-bottom: 0.5em;\n",
              "  /* unfitted */\n",
              "  background-color: var(--sklearn-color-unfitted-level-0);\n",
              "}\n",
              "\n",
              "#sk-container-id-1 div.sk-estimator.fitted {\n",
              "  /* fitted */\n",
              "  background-color: var(--sklearn-color-fitted-level-0);\n",
              "}\n",
              "\n",
              "/* on hover */\n",
              "#sk-container-id-1 div.sk-estimator:hover {\n",
              "  /* unfitted */\n",
              "  background-color: var(--sklearn-color-unfitted-level-2);\n",
              "}\n",
              "\n",
              "#sk-container-id-1 div.sk-estimator.fitted:hover {\n",
              "  /* fitted */\n",
              "  background-color: var(--sklearn-color-fitted-level-2);\n",
              "}\n",
              "\n",
              "/* Specification for estimator info (e.g. \"i\" and \"?\") */\n",
              "\n",
              "/* Common style for \"i\" and \"?\" */\n",
              "\n",
              ".sk-estimator-doc-link,\n",
              "a:link.sk-estimator-doc-link,\n",
              "a:visited.sk-estimator-doc-link {\n",
              "  float: right;\n",
              "  font-size: smaller;\n",
              "  line-height: 1em;\n",
              "  font-family: monospace;\n",
              "  background-color: var(--sklearn-color-background);\n",
              "  border-radius: 1em;\n",
              "  height: 1em;\n",
              "  width: 1em;\n",
              "  text-decoration: none !important;\n",
              "  margin-left: 1ex;\n",
              "  /* unfitted */\n",
              "  border: var(--sklearn-color-unfitted-level-1) 1pt solid;\n",
              "  color: var(--sklearn-color-unfitted-level-1);\n",
              "}\n",
              "\n",
              ".sk-estimator-doc-link.fitted,\n",
              "a:link.sk-estimator-doc-link.fitted,\n",
              "a:visited.sk-estimator-doc-link.fitted {\n",
              "  /* fitted */\n",
              "  border: var(--sklearn-color-fitted-level-1) 1pt solid;\n",
              "  color: var(--sklearn-color-fitted-level-1);\n",
              "}\n",
              "\n",
              "/* On hover */\n",
              "div.sk-estimator:hover .sk-estimator-doc-link:hover,\n",
              ".sk-estimator-doc-link:hover,\n",
              "div.sk-label-container:hover .sk-estimator-doc-link:hover,\n",
              ".sk-estimator-doc-link:hover {\n",
              "  /* unfitted */\n",
              "  background-color: var(--sklearn-color-unfitted-level-3);\n",
              "  color: var(--sklearn-color-background);\n",
              "  text-decoration: none;\n",
              "}\n",
              "\n",
              "div.sk-estimator.fitted:hover .sk-estimator-doc-link.fitted:hover,\n",
              ".sk-estimator-doc-link.fitted:hover,\n",
              "div.sk-label-container:hover .sk-estimator-doc-link.fitted:hover,\n",
              ".sk-estimator-doc-link.fitted:hover {\n",
              "  /* fitted */\n",
              "  background-color: var(--sklearn-color-fitted-level-3);\n",
              "  color: var(--sklearn-color-background);\n",
              "  text-decoration: none;\n",
              "}\n",
              "\n",
              "/* Span, style for the box shown on hovering the info icon */\n",
              ".sk-estimator-doc-link span {\n",
              "  display: none;\n",
              "  z-index: 9999;\n",
              "  position: relative;\n",
              "  font-weight: normal;\n",
              "  right: .2ex;\n",
              "  padding: .5ex;\n",
              "  margin: .5ex;\n",
              "  width: min-content;\n",
              "  min-width: 20ex;\n",
              "  max-width: 50ex;\n",
              "  color: var(--sklearn-color-text);\n",
              "  box-shadow: 2pt 2pt 4pt #999;\n",
              "  /* unfitted */\n",
              "  background: var(--sklearn-color-unfitted-level-0);\n",
              "  border: .5pt solid var(--sklearn-color-unfitted-level-3);\n",
              "}\n",
              "\n",
              ".sk-estimator-doc-link.fitted span {\n",
              "  /* fitted */\n",
              "  background: var(--sklearn-color-fitted-level-0);\n",
              "  border: var(--sklearn-color-fitted-level-3);\n",
              "}\n",
              "\n",
              ".sk-estimator-doc-link:hover span {\n",
              "  display: block;\n",
              "}\n",
              "\n",
              "/* \"?\"-specific style due to the `<a>` HTML tag */\n",
              "\n",
              "#sk-container-id-1 a.estimator_doc_link {\n",
              "  float: right;\n",
              "  font-size: 1rem;\n",
              "  line-height: 1em;\n",
              "  font-family: monospace;\n",
              "  background-color: var(--sklearn-color-background);\n",
              "  border-radius: 1rem;\n",
              "  height: 1rem;\n",
              "  width: 1rem;\n",
              "  text-decoration: none;\n",
              "  /* unfitted */\n",
              "  color: var(--sklearn-color-unfitted-level-1);\n",
              "  border: var(--sklearn-color-unfitted-level-1) 1pt solid;\n",
              "}\n",
              "\n",
              "#sk-container-id-1 a.estimator_doc_link.fitted {\n",
              "  /* fitted */\n",
              "  border: var(--sklearn-color-fitted-level-1) 1pt solid;\n",
              "  color: var(--sklearn-color-fitted-level-1);\n",
              "}\n",
              "\n",
              "/* On hover */\n",
              "#sk-container-id-1 a.estimator_doc_link:hover {\n",
              "  /* unfitted */\n",
              "  background-color: var(--sklearn-color-unfitted-level-3);\n",
              "  color: var(--sklearn-color-background);\n",
              "  text-decoration: none;\n",
              "}\n",
              "\n",
              "#sk-container-id-1 a.estimator_doc_link.fitted:hover {\n",
              "  /* fitted */\n",
              "  background-color: var(--sklearn-color-fitted-level-3);\n",
              "}\n",
              "</style><div id=\"sk-container-id-1\" class=\"sk-top-container\"><div class=\"sk-text-repr-fallback\"><pre>ExtraTreesClassifier(bootstrap=False, ccp_alpha=0.0, class_weight=None,\n",
              "                     criterion=&#x27;gini&#x27;, max_depth=None, max_features=&#x27;sqrt&#x27;,\n",
              "                     max_leaf_nodes=None, max_samples=None,\n",
              "                     min_impurity_decrease=0.0, min_samples_leaf=1,\n",
              "                     min_samples_split=2, min_weight_fraction_leaf=0.0,\n",
              "                     monotonic_cst=None, n_estimators=100, n_jobs=-1,\n",
              "                     oob_score=False, random_state=123, verbose=0,\n",
              "                     warm_start=False)</pre><b>In a Jupyter environment, please rerun this cell to show the HTML representation or trust the notebook. <br />On GitHub, the HTML representation is unable to render, please try loading this page with nbviewer.org.</b></div><div class=\"sk-container\" hidden><div class=\"sk-item\"><div class=\"sk-estimator fitted sk-toggleable\"><input class=\"sk-toggleable__control sk-hidden--visually\" id=\"sk-estimator-id-1\" type=\"checkbox\" checked><label for=\"sk-estimator-id-1\" class=\"sk-toggleable__label fitted sk-toggleable__label-arrow fitted\">&nbsp;&nbsp;ExtraTreesClassifier<a class=\"sk-estimator-doc-link fitted\" rel=\"noreferrer\" target=\"_blank\" href=\"https://scikit-learn.org/1.4/modules/generated/sklearn.ensemble.ExtraTreesClassifier.html\">?<span>Documentation for ExtraTreesClassifier</span></a><span class=\"sk-estimator-doc-link fitted\">i<span>Fitted</span></span></label><div class=\"sk-toggleable__content fitted\"><pre>ExtraTreesClassifier(bootstrap=False, ccp_alpha=0.0, class_weight=None,\n",
              "                     criterion=&#x27;gini&#x27;, max_depth=None, max_features=&#x27;sqrt&#x27;,\n",
              "                     max_leaf_nodes=None, max_samples=None,\n",
              "                     min_impurity_decrease=0.0, min_samples_leaf=1,\n",
              "                     min_samples_split=2, min_weight_fraction_leaf=0.0,\n",
              "                     monotonic_cst=None, n_estimators=100, n_jobs=-1,\n",
              "                     oob_score=False, random_state=123, verbose=0,\n",
              "                     warm_start=False)</pre></div> </div></div></div></div>"
            ],
            "text/plain": [
              "ExtraTreesClassifier(bootstrap=False, ccp_alpha=0.0, class_weight=None,\n",
              "                     criterion='gini', max_depth=None, max_features='sqrt',\n",
              "                     max_leaf_nodes=None, max_samples=None,\n",
              "                     min_impurity_decrease=0.0, min_samples_leaf=1,\n",
              "                     min_samples_split=2, min_weight_fraction_leaf=0.0,\n",
              "                     monotonic_cst=None, n_estimators=100, n_jobs=-1,\n",
              "                     oob_score=False, random_state=123, verbose=0,\n",
              "                     warm_start=False)"
            ]
          },
          "execution_count": 49,
          "metadata": {},
          "output_type": "execute_result"
        }
      ],
      "source": [
        "compare_models()"
      ]
    },
    {
      "cell_type": "markdown",
      "metadata": {},
      "source": [
        "**Resultado:** Como pode ser observado na tabela acima, o Extra Trees Classifier apresenta melhor desempenho em todas as métricas. Logo, será nossa escolha."
      ]
    },
    {
      "cell_type": "markdown",
      "metadata": {
        "id": "WR7qIzr7AiUl"
      },
      "source": [
        "### Avaliando o modelo escolhido\n",
        "\n",
        "Como o ET apresentou o melhor resultado em todas as métricas, vamos escolher este modelo para prosseguir a análise."
      ]
    },
    {
      "cell_type": "code",
      "execution_count": 50,
      "metadata": {
        "colab": {
          "base_uri": "https://localhost:8080/",
          "height": 457,
          "referenced_widgets": [
            "a69117087460473997a68c8e68a98f84",
            "48e6b176cba44dd3b986a68a396c2c88",
            "2c945072cd0e4dd9a193254672131071",
            "74e563aea973454ca79099782772666a",
            "ab5f3383cd934ebfac39ca8966ae337b",
            "c7e0f683010f459792865579caca369e",
            "fb2f9b8bdc164b5cbb498eaa4511966a",
            "f6bb03a6283346c89dd2caa4858a9b83",
            "b1d47e0bd70b4bbd9b3580dea0ac532b",
            "fd56f7ce9d30475088fbfd3376f952ca",
            "6767ccd3471d4fd78d50fa3c329208c9"
          ]
        },
        "id": "N_9Pbi79064x",
        "outputId": "f664bd62-42da-4611-e266-bd2329449cb8"
      },
      "outputs": [
        {
          "data": {
            "text/html": [],
            "text/plain": [
              "<IPython.core.display.HTML object>"
            ]
          },
          "metadata": {},
          "output_type": "display_data"
        },
        {
          "data": {
            "text/html": [
              "<style type=\"text/css\">\n",
              "#T_f64ce_row10_col0, #T_f64ce_row10_col1, #T_f64ce_row10_col2, #T_f64ce_row10_col3, #T_f64ce_row10_col4, #T_f64ce_row10_col5, #T_f64ce_row10_col6 {\n",
              "  background: yellow;\n",
              "}\n",
              "</style>\n",
              "<table id=\"T_f64ce\">\n",
              "  <thead>\n",
              "    <tr>\n",
              "      <th class=\"blank level0\" >&nbsp;</th>\n",
              "      <th id=\"T_f64ce_level0_col0\" class=\"col_heading level0 col0\" >Accuracy</th>\n",
              "      <th id=\"T_f64ce_level0_col1\" class=\"col_heading level0 col1\" >AUC</th>\n",
              "      <th id=\"T_f64ce_level0_col2\" class=\"col_heading level0 col2\" >Recall</th>\n",
              "      <th id=\"T_f64ce_level0_col3\" class=\"col_heading level0 col3\" >Prec.</th>\n",
              "      <th id=\"T_f64ce_level0_col4\" class=\"col_heading level0 col4\" >F1</th>\n",
              "      <th id=\"T_f64ce_level0_col5\" class=\"col_heading level0 col5\" >Kappa</th>\n",
              "      <th id=\"T_f64ce_level0_col6\" class=\"col_heading level0 col6\" >MCC</th>\n",
              "    </tr>\n",
              "    <tr>\n",
              "      <th class=\"index_name level0\" >Fold</th>\n",
              "      <th class=\"blank col0\" >&nbsp;</th>\n",
              "      <th class=\"blank col1\" >&nbsp;</th>\n",
              "      <th class=\"blank col2\" >&nbsp;</th>\n",
              "      <th class=\"blank col3\" >&nbsp;</th>\n",
              "      <th class=\"blank col4\" >&nbsp;</th>\n",
              "      <th class=\"blank col5\" >&nbsp;</th>\n",
              "      <th class=\"blank col6\" >&nbsp;</th>\n",
              "    </tr>\n",
              "  </thead>\n",
              "  <tbody>\n",
              "    <tr>\n",
              "      <th id=\"T_f64ce_level0_row0\" class=\"row_heading level0 row0\" >0</th>\n",
              "      <td id=\"T_f64ce_row0_col0\" class=\"data row0 col0\" >0.7696</td>\n",
              "      <td id=\"T_f64ce_row0_col1\" class=\"data row0 col1\" >0.8204</td>\n",
              "      <td id=\"T_f64ce_row0_col2\" class=\"data row0 col2\" >0.7696</td>\n",
              "      <td id=\"T_f64ce_row0_col3\" class=\"data row0 col3\" >0.7642</td>\n",
              "      <td id=\"T_f64ce_row0_col4\" class=\"data row0 col4\" >0.7656</td>\n",
              "      <td id=\"T_f64ce_row0_col5\" class=\"data row0 col5\" >0.4631</td>\n",
              "      <td id=\"T_f64ce_row0_col6\" class=\"data row0 col6\" >0.4651</td>\n",
              "    </tr>\n",
              "    <tr>\n",
              "      <th id=\"T_f64ce_level0_row1\" class=\"row_heading level0 row1\" >1</th>\n",
              "      <td id=\"T_f64ce_row1_col0\" class=\"data row1 col0\" >0.7783</td>\n",
              "      <td id=\"T_f64ce_row1_col1\" class=\"data row1 col1\" >0.7923</td>\n",
              "      <td id=\"T_f64ce_row1_col2\" class=\"data row1 col2\" >0.7783</td>\n",
              "      <td id=\"T_f64ce_row1_col3\" class=\"data row1 col3\" >0.7748</td>\n",
              "      <td id=\"T_f64ce_row1_col4\" class=\"data row1 col4\" >0.7632</td>\n",
              "      <td id=\"T_f64ce_row1_col5\" class=\"data row1 col5\" >0.4493</td>\n",
              "      <td id=\"T_f64ce_row1_col6\" class=\"data row1 col6\" >0.4698</td>\n",
              "    </tr>\n",
              "    <tr>\n",
              "      <th id=\"T_f64ce_level0_row2\" class=\"row_heading level0 row2\" >2</th>\n",
              "      <td id=\"T_f64ce_row2_col0\" class=\"data row2 col0\" >0.8130</td>\n",
              "      <td id=\"T_f64ce_row2_col1\" class=\"data row2 col1\" >0.8910</td>\n",
              "      <td id=\"T_f64ce_row2_col2\" class=\"data row2 col2\" >0.8130</td>\n",
              "      <td id=\"T_f64ce_row2_col3\" class=\"data row2 col3\" >0.8089</td>\n",
              "      <td id=\"T_f64ce_row2_col4\" class=\"data row2 col4\" >0.8088</td>\n",
              "      <td id=\"T_f64ce_row2_col5\" class=\"data row2 col5\" >0.5579</td>\n",
              "      <td id=\"T_f64ce_row2_col6\" class=\"data row2 col6\" >0.5615</td>\n",
              "    </tr>\n",
              "    <tr>\n",
              "      <th id=\"T_f64ce_level0_row3\" class=\"row_heading level0 row3\" >3</th>\n",
              "      <td id=\"T_f64ce_row3_col0\" class=\"data row3 col0\" >0.7511</td>\n",
              "      <td id=\"T_f64ce_row3_col1\" class=\"data row3 col1\" >0.7510</td>\n",
              "      <td id=\"T_f64ce_row3_col2\" class=\"data row3 col2\" >0.7511</td>\n",
              "      <td id=\"T_f64ce_row3_col3\" class=\"data row3 col3\" >0.7412</td>\n",
              "      <td id=\"T_f64ce_row3_col4\" class=\"data row3 col4\" >0.7403</td>\n",
              "      <td id=\"T_f64ce_row3_col5\" class=\"data row3 col5\" >0.3957</td>\n",
              "      <td id=\"T_f64ce_row3_col6\" class=\"data row3 col6\" >0.4039</td>\n",
              "    </tr>\n",
              "    <tr>\n",
              "      <th id=\"T_f64ce_level0_row4\" class=\"row_heading level0 row4\" >4</th>\n",
              "      <td id=\"T_f64ce_row4_col0\" class=\"data row4 col0\" >0.7642</td>\n",
              "      <td id=\"T_f64ce_row4_col1\" class=\"data row4 col1\" >0.8197</td>\n",
              "      <td id=\"T_f64ce_row4_col2\" class=\"data row4 col2\" >0.7642</td>\n",
              "      <td id=\"T_f64ce_row4_col3\" class=\"data row4 col3\" >0.7579</td>\n",
              "      <td id=\"T_f64ce_row4_col4\" class=\"data row4 col4\" >0.7595</td>\n",
              "      <td id=\"T_f64ce_row4_col5\" class=\"data row4 col5\" >0.4457</td>\n",
              "      <td id=\"T_f64ce_row4_col6\" class=\"data row4 col6\" >0.4481</td>\n",
              "    </tr>\n",
              "    <tr>\n",
              "      <th id=\"T_f64ce_level0_row5\" class=\"row_heading level0 row5\" >5</th>\n",
              "      <td id=\"T_f64ce_row5_col0\" class=\"data row5 col0\" >0.8384</td>\n",
              "      <td id=\"T_f64ce_row5_col1\" class=\"data row5 col1\" >0.8596</td>\n",
              "      <td id=\"T_f64ce_row5_col2\" class=\"data row5 col2\" >0.8384</td>\n",
              "      <td id=\"T_f64ce_row5_col3\" class=\"data row5 col3\" >0.8365</td>\n",
              "      <td id=\"T_f64ce_row5_col4\" class=\"data row5 col4\" >0.8332</td>\n",
              "      <td id=\"T_f64ce_row5_col5\" class=\"data row5 col5\" >0.6134</td>\n",
              "      <td id=\"T_f64ce_row5_col6\" class=\"data row5 col6\" >0.6210</td>\n",
              "    </tr>\n",
              "    <tr>\n",
              "      <th id=\"T_f64ce_level0_row6\" class=\"row_heading level0 row6\" >6</th>\n",
              "      <td id=\"T_f64ce_row6_col0\" class=\"data row6 col0\" >0.8297</td>\n",
              "      <td id=\"T_f64ce_row6_col1\" class=\"data row6 col1\" >0.8527</td>\n",
              "      <td id=\"T_f64ce_row6_col2\" class=\"data row6 col2\" >0.8297</td>\n",
              "      <td id=\"T_f64ce_row6_col3\" class=\"data row6 col3\" >0.8266</td>\n",
              "      <td id=\"T_f64ce_row6_col4\" class=\"data row6 col4\" >0.8251</td>\n",
              "      <td id=\"T_f64ce_row6_col5\" class=\"data row6 col5\" >0.5954</td>\n",
              "      <td id=\"T_f64ce_row6_col6\" class=\"data row6 col6\" >0.6009</td>\n",
              "    </tr>\n",
              "    <tr>\n",
              "      <th id=\"T_f64ce_level0_row7\" class=\"row_heading level0 row7\" >7</th>\n",
              "      <td id=\"T_f64ce_row7_col0\" class=\"data row7 col0\" >0.8210</td>\n",
              "      <td id=\"T_f64ce_row7_col1\" class=\"data row7 col1\" >0.8377</td>\n",
              "      <td id=\"T_f64ce_row7_col2\" class=\"data row7 col2\" >0.8210</td>\n",
              "      <td id=\"T_f64ce_row7_col3\" class=\"data row7 col3\" >0.8202</td>\n",
              "      <td id=\"T_f64ce_row7_col4\" class=\"data row7 col4\" >0.8121</td>\n",
              "      <td id=\"T_f64ce_row7_col5\" class=\"data row7 col5\" >0.5621</td>\n",
              "      <td id=\"T_f64ce_row7_col6\" class=\"data row7 col6\" >0.5768</td>\n",
              "    </tr>\n",
              "    <tr>\n",
              "      <th id=\"T_f64ce_level0_row8\" class=\"row_heading level0 row8\" >8</th>\n",
              "      <td id=\"T_f64ce_row8_col0\" class=\"data row8 col0\" >0.7991</td>\n",
              "      <td id=\"T_f64ce_row8_col1\" class=\"data row8 col1\" >0.7878</td>\n",
              "      <td id=\"T_f64ce_row8_col2\" class=\"data row8 col2\" >0.7991</td>\n",
              "      <td id=\"T_f64ce_row8_col3\" class=\"data row8 col3\" >0.7945</td>\n",
              "      <td id=\"T_f64ce_row8_col4\" class=\"data row8 col4\" >0.7951</td>\n",
              "      <td id=\"T_f64ce_row8_col5\" class=\"data row8 col5\" >0.5278</td>\n",
              "      <td id=\"T_f64ce_row8_col6\" class=\"data row8 col6\" >0.5306</td>\n",
              "    </tr>\n",
              "    <tr>\n",
              "      <th id=\"T_f64ce_level0_row9\" class=\"row_heading level0 row9\" >9</th>\n",
              "      <td id=\"T_f64ce_row9_col0\" class=\"data row9 col0\" >0.7991</td>\n",
              "      <td id=\"T_f64ce_row9_col1\" class=\"data row9 col1\" >0.8059</td>\n",
              "      <td id=\"T_f64ce_row9_col2\" class=\"data row9 col2\" >0.7991</td>\n",
              "      <td id=\"T_f64ce_row9_col3\" class=\"data row9 col3\" >0.7971</td>\n",
              "      <td id=\"T_f64ce_row9_col4\" class=\"data row9 col4\" >0.7873</td>\n",
              "      <td id=\"T_f64ce_row9_col5\" class=\"data row9 col5\" >0.5032</td>\n",
              "      <td id=\"T_f64ce_row9_col6\" class=\"data row9 col6\" >0.5210</td>\n",
              "    </tr>\n",
              "    <tr>\n",
              "      <th id=\"T_f64ce_level0_row10\" class=\"row_heading level0 row10\" >Mean</th>\n",
              "      <td id=\"T_f64ce_row10_col0\" class=\"data row10 col0\" >0.7963</td>\n",
              "      <td id=\"T_f64ce_row10_col1\" class=\"data row10 col1\" >0.8218</td>\n",
              "      <td id=\"T_f64ce_row10_col2\" class=\"data row10 col2\" >0.7963</td>\n",
              "      <td id=\"T_f64ce_row10_col3\" class=\"data row10 col3\" >0.7922</td>\n",
              "      <td id=\"T_f64ce_row10_col4\" class=\"data row10 col4\" >0.7890</td>\n",
              "      <td id=\"T_f64ce_row10_col5\" class=\"data row10 col5\" >0.5114</td>\n",
              "      <td id=\"T_f64ce_row10_col6\" class=\"data row10 col6\" >0.5199</td>\n",
              "    </tr>\n",
              "    <tr>\n",
              "      <th id=\"T_f64ce_level0_row11\" class=\"row_heading level0 row11\" >Std</th>\n",
              "      <td id=\"T_f64ce_row11_col0\" class=\"data row11 col0\" >0.0281</td>\n",
              "      <td id=\"T_f64ce_row11_col1\" class=\"data row11 col1\" >0.0384</td>\n",
              "      <td id=\"T_f64ce_row11_col2\" class=\"data row11 col2\" >0.0281</td>\n",
              "      <td id=\"T_f64ce_row11_col3\" class=\"data row11 col3\" >0.0302</td>\n",
              "      <td id=\"T_f64ce_row11_col4\" class=\"data row11 col4\" >0.0295</td>\n",
              "      <td id=\"T_f64ce_row11_col5\" class=\"data row11 col5\" >0.0681</td>\n",
              "      <td id=\"T_f64ce_row11_col6\" class=\"data row11 col6\" >0.0678</td>\n",
              "    </tr>\n",
              "  </tbody>\n",
              "</table>\n"
            ],
            "text/plain": [
              "<pandas.io.formats.style.Styler at 0x29f453520>"
            ]
          },
          "metadata": {},
          "output_type": "display_data"
        },
        {
          "data": {
            "text/html": [],
            "text/plain": [
              "<IPython.core.display.HTML object>"
            ]
          },
          "metadata": {},
          "output_type": "display_data"
        }
      ],
      "source": [
        "et = create_model('et')"
      ]
    },
    {
      "cell_type": "markdown",
      "metadata": {
        "id": "MMk-XkCeAtkk"
      },
      "source": [
        "### Avaliação com curva ROC\n",
        "\n",
        "Vemos abaixo que os resultados estão bons, mantendo as duas classes próximas de 1."
      ]
    },
    {
      "cell_type": "code",
      "execution_count": 51,
      "metadata": {
        "colab": {
          "base_uri": "https://localhost:8080/",
          "height": 524
        },
        "id": "4pSLUSFnAPyU",
        "outputId": "85de2bc0-10ab-442e-f565-e74f5293b823"
      },
      "outputs": [
        {
          "data": {
            "text/html": [],
            "text/plain": [
              "<IPython.core.display.HTML object>"
            ]
          },
          "metadata": {},
          "output_type": "display_data"
        },
        {
          "data": {
            "image/png": "[encoded data removed]",
            "text/plain": [
              "<Figure size 800x550 with 1 Axes>"
            ]
          },
          "metadata": {},
          "output_type": "display_data"
        }
      ],
      "source": [
        "plot_model(et, plot = 'auc')"
      ]
    },
    {
      "cell_type": "markdown",
      "metadata": {},
      "source": [
        "### Avaliação de features\n",
        "\n",
        "Abaixo podemos observar que, como esperado, o autor (idDeputadoAutor) e também o partido (codigoPartidoAutor) exercem bastante influência no resultado final. As demais features, por sua posição no conjunto, são palavras da ementa ou da lista de palavras chave."
      ]
    },
    {
      "cell_type": "code",
      "execution_count": 52,
      "metadata": {},
      "outputs": [
        {
          "data": {
            "text/html": [],
            "text/plain": [
              "<IPython.core.display.HTML object>"
            ]
          },
          "metadata": {},
          "output_type": "display_data"
        },
        {
          "data": {
            "image/png": "[encoded data removed]",
            "text/plain": [
              "<Figure size 800x500 with 1 Axes>"
            ]
          },
          "metadata": {},
          "output_type": "display_data"
        }
      ],
      "source": [
        "plot_model(et, plot='feature')"
      ]
    },
    {
      "cell_type": "code",
      "execution_count": 53,
      "metadata": {},
      "outputs": [
        {
          "data": {
            "text/plain": [
              "array(['coronavru', 'pandem', 'emergnc', 'energ', 'espi', 'altera',\n",
              "       'calam', 'importnc'], dtype=object)"
            ]
          },
          "execution_count": 53,
          "metadata": {},
          "output_type": "execute_result"
        }
      ],
      "source": [
        "vocabulary[[74, 233, 120, 123, 133, 11, 45, 166]]"
      ]
    },
    {
      "cell_type": "markdown",
      "metadata": {},
      "source": [
        "**Resultado:** Podemos ver que o autor (deputado), o partido e palavras chaves ligadas a pandemia de COVID 19 são as features mais relevantes do problema. O que demonstra um comportamento profundamente ligado ao período analisado que foi o período do auge da pandemia (2020 a 2022)."
      ]
    },
    {
      "cell_type": "markdown",
      "metadata": {
        "id": "T032GoYRB05z"
      },
      "source": [
        "### Avaliação com a matriz de confusão\n",
        "\n",
        "A Matrix de Confusão permite avaliar graficamente as principais métricas de classificação."
      ]
    },
    {
      "cell_type": "code",
      "execution_count": 54,
      "metadata": {
        "colab": {
          "base_uri": "https://localhost:8080/",
          "height": 551
        },
        "id": "eLQHpbLR1IZn",
        "outputId": "898cc290-094a-4392-d8ed-08db766fc51c"
      },
      "outputs": [
        {
          "data": {
            "text/html": [],
            "text/plain": [
              "<IPython.core.display.HTML object>"
            ]
          },
          "metadata": {},
          "output_type": "display_data"
        },
        {
          "data": {
            "image/png": "[encoded data removed]",
            "text/plain": [
              "<Figure size 800x550 with 1 Axes>"
            ]
          },
          "metadata": {},
          "output_type": "display_data"
        }
      ],
      "source": [
        "plot_model(et, plot = 'confusion_matrix', plot_kwargs = {'percent' : True})"
      ]
    },
    {
      "cell_type": "markdown",
      "metadata": {
        "id": "2xPcQ_UZEVNK"
      },
      "source": [
        "### Class Prediction Error"
      ]
    },
    {
      "cell_type": "code",
      "execution_count": 55,
      "metadata": {
        "colab": {
          "base_uri": "https://localhost:8080/",
          "height": 551
        },
        "id": "gXAyE1CZETCD",
        "outputId": "6a435c83-8983-4223-b220-7da32d52f3da"
      },
      "outputs": [
        {
          "data": {
            "text/html": [],
            "text/plain": [
              "<IPython.core.display.HTML object>"
            ]
          },
          "metadata": {},
          "output_type": "display_data"
        },
        {
          "data": {
            "image/png": "[encoded data removed]",
            "text/plain": [
              "<Figure size 800x550 with 1 Axes>"
            ]
          },
          "metadata": {},
          "output_type": "display_data"
        }
      ],
      "source": [
        "plot_model(et, plot = 'error')"
      ]
    },
    {
      "cell_type": "markdown",
      "metadata": {},
      "source": [
        "### Finalizando e aplicando modelo\n",
        "\n",
        "A seguir, vamos finalizar o modelo e aplicá-lo em novas preposições que ainda não têm um resultado final (aprovação ou reprovação)."
      ]
    },
    {
      "cell_type": "code",
      "execution_count": 56,
      "metadata": {},
      "outputs": [
        {
          "name": "stdout",
          "output_type": "stream",
          "text": [
            "Pipeline(memory=Memory(location=None),\n",
            "         steps=[('label_encoding',\n",
            "                 TransformerWrapperWithInverse(exclude=None, include=None,\n",
            "                                               transformer=LabelEncoder())),\n",
            "                ('numerical_imputer',\n",
            "                 TransformerWrapper(exclude=None,\n",
            "                                    include=['codTipo', 'codTipoAutor',\n",
            "                                             'idDeputadoAutor',\n",
            "                                             'codigoPartidoAutor', '0', '1',\n",
            "                                             '2', '3', '4', '5', '6', '7', '8',\n",
            "                                             '9', '10', '11', '12', '13', '14',\n",
            "                                             '15', '16', '...\n",
            "                 ExtraTreesClassifier(bootstrap=False, ccp_alpha=0.0,\n",
            "                                      class_weight=None, criterion='gini',\n",
            "                                      max_depth=None, max_features='sqrt',\n",
            "                                      max_leaf_nodes=None, max_samples=None,\n",
            "                                      min_impurity_decrease=0.0,\n",
            "                                      min_samples_leaf=1, min_samples_split=2,\n",
            "                                      min_weight_fraction_leaf=0.0,\n",
            "                                      monotonic_cst=None, n_estimators=100,\n",
            "                                      n_jobs=-1, oob_score=False,\n",
            "                                      random_state=123, verbose=0,\n",
            "                                      warm_start=False))],\n",
            "         verbose=False)\n"
          ]
        }
      ],
      "source": [
        "finalized_model = finalize_model(et)\n",
        "print(finalized_model)"
      ]
    },
    {
      "cell_type": "code",
      "execution_count": 57,
      "metadata": {},
      "outputs": [
        {
          "data": {
            "text/html": [],
            "text/plain": [
              "<IPython.core.display.HTML object>"
            ]
          },
          "metadata": {},
          "output_type": "display_data"
        },
        {
          "data": {
            "text/html": [
              "<div>\n",
              "<style scoped>\n",
              "    .dataframe tbody tr th:only-of-type {\n",
              "        vertical-align: middle;\n",
              "    }\n",
              "\n",
              "    .dataframe tbody tr th {\n",
              "        vertical-align: top;\n",
              "    }\n",
              "\n",
              "    .dataframe thead th {\n",
              "        text-align: right;\n",
              "    }\n",
              "</style>\n",
              "<table border=\"1\" class=\"dataframe\">\n",
              "  <thead>\n",
              "    <tr style=\"text-align: right;\">\n",
              "      <th></th>\n",
              "      <th>codTipo</th>\n",
              "      <th>codTipoAutor</th>\n",
              "      <th>idDeputadoAutor</th>\n",
              "      <th>codigoPartidoAutor</th>\n",
              "      <th>0</th>\n",
              "      <th>1</th>\n",
              "      <th>2</th>\n",
              "      <th>3</th>\n",
              "      <th>4</th>\n",
              "      <th>5</th>\n",
              "      <th>...</th>\n",
              "      <th>337</th>\n",
              "      <th>338</th>\n",
              "      <th>339</th>\n",
              "      <th>340</th>\n",
              "      <th>341</th>\n",
              "      <th>342</th>\n",
              "      <th>343</th>\n",
              "      <th>344</th>\n",
              "      <th>prediction_label</th>\n",
              "      <th>prediction_score</th>\n",
              "    </tr>\n",
              "  </thead>\n",
              "  <tbody>\n",
              "    <tr>\n",
              "      <th>0</th>\n",
              "      <td>136</td>\n",
              "      <td>40000.0</td>\n",
              "      <td>0.0</td>\n",
              "      <td>1</td>\n",
              "      <td>0.0</td>\n",
              "      <td>0.0</td>\n",
              "      <td>0.0</td>\n",
              "      <td>0.0</td>\n",
              "      <td>0.0</td>\n",
              "      <td>0.0</td>\n",
              "      <td>...</td>\n",
              "      <td>0.0</td>\n",
              "      <td>0.0</td>\n",
              "      <td>0.0</td>\n",
              "      <td>0.0</td>\n",
              "      <td>0.0</td>\n",
              "      <td>0.0</td>\n",
              "      <td>0.0</td>\n",
              "      <td>0.0</td>\n",
              "      <td>2</td>\n",
              "      <td>0.54</td>\n",
              "    </tr>\n",
              "    <tr>\n",
              "      <th>1</th>\n",
              "      <td>139</td>\n",
              "      <td>30000.0</td>\n",
              "      <td>0.0</td>\n",
              "      <td>1</td>\n",
              "      <td>0.0</td>\n",
              "      <td>0.0</td>\n",
              "      <td>0.0</td>\n",
              "      <td>0.0</td>\n",
              "      <td>0.0</td>\n",
              "      <td>0.0</td>\n",
              "      <td>...</td>\n",
              "      <td>0.0</td>\n",
              "      <td>0.0</td>\n",
              "      <td>0.0</td>\n",
              "      <td>0.0</td>\n",
              "      <td>0.0</td>\n",
              "      <td>0.0</td>\n",
              "      <td>0.0</td>\n",
              "      <td>0.0</td>\n",
              "      <td>1</td>\n",
              "      <td>0.86</td>\n",
              "    </tr>\n",
              "    <tr>\n",
              "      <th>2</th>\n",
              "      <td>139</td>\n",
              "      <td>2.0</td>\n",
              "      <td>0.0</td>\n",
              "      <td>1</td>\n",
              "      <td>0.0</td>\n",
              "      <td>0.0</td>\n",
              "      <td>0.0</td>\n",
              "      <td>0.0</td>\n",
              "      <td>0.0</td>\n",
              "      <td>0.0</td>\n",
              "      <td>...</td>\n",
              "      <td>0.0</td>\n",
              "      <td>0.0</td>\n",
              "      <td>0.0</td>\n",
              "      <td>0.0</td>\n",
              "      <td>0.0</td>\n",
              "      <td>0.0</td>\n",
              "      <td>0.0</td>\n",
              "      <td>0.0</td>\n",
              "      <td>1</td>\n",
              "      <td>0.91</td>\n",
              "    </tr>\n",
              "    <tr>\n",
              "      <th>3</th>\n",
              "      <td>136</td>\n",
              "      <td>40000.0</td>\n",
              "      <td>0.0</td>\n",
              "      <td>1</td>\n",
              "      <td>0.0</td>\n",
              "      <td>0.0</td>\n",
              "      <td>0.0</td>\n",
              "      <td>0.0</td>\n",
              "      <td>0.0</td>\n",
              "      <td>0.0</td>\n",
              "      <td>...</td>\n",
              "      <td>0.0</td>\n",
              "      <td>0.0</td>\n",
              "      <td>0.0</td>\n",
              "      <td>0.0</td>\n",
              "      <td>0.0</td>\n",
              "      <td>0.0</td>\n",
              "      <td>0.0</td>\n",
              "      <td>0.0</td>\n",
              "      <td>1</td>\n",
              "      <td>0.54</td>\n",
              "    </tr>\n",
              "    <tr>\n",
              "      <th>4</th>\n",
              "      <td>139</td>\n",
              "      <td>30000.0</td>\n",
              "      <td>0.0</td>\n",
              "      <td>1</td>\n",
              "      <td>0.0</td>\n",
              "      <td>0.0</td>\n",
              "      <td>0.0</td>\n",
              "      <td>0.0</td>\n",
              "      <td>0.0</td>\n",
              "      <td>0.0</td>\n",
              "      <td>...</td>\n",
              "      <td>0.0</td>\n",
              "      <td>0.0</td>\n",
              "      <td>0.0</td>\n",
              "      <td>0.0</td>\n",
              "      <td>0.0</td>\n",
              "      <td>0.0</td>\n",
              "      <td>0.0</td>\n",
              "      <td>0.0</td>\n",
              "      <td>1</td>\n",
              "      <td>0.57</td>\n",
              "    </tr>\n",
              "  </tbody>\n",
              "</table>\n",
              "<p>5 rows × 351 columns</p>\n",
              "</div>"
            ],
            "text/plain": [
              "   codTipo  codTipoAutor  idDeputadoAutor  codigoPartidoAutor    0    1    2  \\\n",
              "0      136       40000.0              0.0                   1  0.0  0.0  0.0   \n",
              "1      139       30000.0              0.0                   1  0.0  0.0  0.0   \n",
              "2      139           2.0              0.0                   1  0.0  0.0  0.0   \n",
              "3      136       40000.0              0.0                   1  0.0  0.0  0.0   \n",
              "4      139       30000.0              0.0                   1  0.0  0.0  0.0   \n",
              "\n",
              "     3    4    5  ...  337  338  339  340  341  342  343  344  \\\n",
              "0  0.0  0.0  0.0  ...  0.0  0.0  0.0  0.0  0.0  0.0  0.0  0.0   \n",
              "1  0.0  0.0  0.0  ...  0.0  0.0  0.0  0.0  0.0  0.0  0.0  0.0   \n",
              "2  0.0  0.0  0.0  ...  0.0  0.0  0.0  0.0  0.0  0.0  0.0  0.0   \n",
              "3  0.0  0.0  0.0  ...  0.0  0.0  0.0  0.0  0.0  0.0  0.0  0.0   \n",
              "4  0.0  0.0  0.0  ...  0.0  0.0  0.0  0.0  0.0  0.0  0.0  0.0   \n",
              "\n",
              "   prediction_label  prediction_score  \n",
              "0                 2              0.54  \n",
              "1                 1              0.86  \n",
              "2                 1              0.91  \n",
              "3                 1              0.54  \n",
              "4                 1              0.57  \n",
              "\n",
              "[5 rows x 351 columns]"
            ]
          },
          "execution_count": 57,
          "metadata": {},
          "output_type": "execute_result"
        }
      ],
      "source": [
        "predictions = predict_model(finalized_model, data=unseen)\n",
        "predictions.head()"
      ]
    },
    {
      "cell_type": "code",
      "execution_count": 58,
      "metadata": {},
      "outputs": [
        {
          "data": {
            "image/png": "[encoded data removed]",
            "text/plain": [
              "<Figure size 800x550 with 1 Axes>"
            ]
          },
          "metadata": {},
          "output_type": "display_data"
        }
      ],
      "source": [
        "result = predictions[['prediction_label','codTipo']].groupby(by='prediction_label').count()\n",
        "llama.GraphicCreator.pie_graphic(data={\n",
        "    'Aprovados': result['codTipo'].tolist()[0],\n",
        "    'Quantidade': result['codTipo'].tolist()[1]\n",
        "})"
      ]
    },
    {
      "cell_type": "markdown",
      "metadata": {},
      "source": [
        "## Conclusão\n",
        "\n",
        "Foi necessário fazer um longo e moroso trabalho de exploração de dados e de pesquisa sobre os conceitos ligados ao tema, principalmente para o entendimento de quais estados indicam aprovação, quais indicam reprovação e quais indicam que a proposição ainda está em tramitação. A dificuldade na determinação desse critério levou à muitas idas e vindas, tornando o trabalho mais longo que o esperado e conduzindo à muitas conclusões parciais equivocadas - e consequente reavaliação constante de todo código. Mas isso é comum em se tratando de trabalho de pesquisa, principalmente com fonte de dados desconhecida.\n",
        "\n",
        "Tentei realizar todo o trabalho com a biblioteca Pycaret, uma lib low code com uma proposta muito interessante. Porém, na parte de anlálise exploratória e tratamento de dados a lib deixa bastante a desejar. Logo, foi necessário incluir muitos outros recursos e até um código que eu já venho desenvolvendo há algum tempo para objetivo semelhante. Ainda assim, a lib Pycaret mostrou-se bastante útil, principalmente na comparação de modelos. Embora os critérios dessa comparação não estejam muito claros e evidentes, dá ótimos indícios de em quais modelos investir melhor. A Pycaret possui ainda recursos de otimização que, por falta de tempo, não cheguei a explorar.\n",
        "\n",
        "Contudo, ao colocar o código no Colab, a lib Pycaret apresentou inúmeros conflitos com bibliotecas já carregadas automaticamente no ambiente do Colab. Tentei diversos meios para resolver o problema e perdi muitas horas, porém sem sucesso. Entre as tratativas, tentei instalar o Pycaret num ambiente isolado, mas o Colab têm restrições quanto a esta estratégia. Tentei atualizar as libs para as versões mais atuais, novamente o Colab restringiu minha ação. Com o prazo terminando, resolvi retirar o Pycaret e entregar sem esta parte. Porém, vou disponibilizar o código completo no GitHub [neste link](https://github.com/edprata/proposicoes_camara_deputados/tree/main).\n",
        "\n",
        "Sobre a parte de rede neural, foi bastante simples o uso do Sklearn. Após poucas tentativas já começou a produzir bons resultados. Isso aconteceu a partir do momento que utilizei 4 camadas, com 3 o resultado não foi bom. Sequer foi necessário uso de muitos neurônios. A função sigmoid e o uso de 2 neurônios na última camada foi utilizada para produzir a saída de acordo com a quantidade de classes do problema (aprovado ou reprovado).\n",
        "\n",
        "Sobre os resultados da análise dos dados e dos modelos, pude confirmar a hipótese de que o autor e o partido político exercem uma forte influência sobre a aprovação ou não da proposição. Também foi possível encontrar, na análise de relevâncias das features, um viés claro relacionado ao evento mais importante do período analisado, que foi a Pandemia de COVID 16. Isso demonstra o quanto o trabalho de legislar é influenciado sobre questões sociais, a mídia e a opinião pública. Apesar de tantas alterações na legislatura, sabemos que o resultado do combate à pandemia foi desastroso e também sabemos que crises sanitárias não podem ser resolvidas por uma grande alterações nas leis vigentes do país, pois é uma questão médica e de saúde públic e não política.\n",
        "\n",
        "Para finalizar, há muitas melhorias que gostaria de ter feito, porém não houve tempo hábil:\n",
        "- Usar toda a massa de dados (2015 em diante) para fugir do viés causado por um evento restrito no tempo, que foi a Pandemia de COVID 19;\n",
        "- Usar uma massa maior também poderia ajudar a tratar vieses relacionados a partidos políticos e de pessoas específicas da política, já que cargos mudam e eleições se ganha e se perde. Seria o caso de testar para saber se haveria eficácia nesta estratégia;\n",
        "- Fazer uma análise de quais métricas seriam mais adequadas para avaliar os resultados, de acordo com a necessidade específica deste trabalho;\n",
        "- Usar técnicas de tunning tanto da biblioteca Pycaret quanto outras para comparar os modelos e produzir resultados mais adequados;\n",
        "- Fazer uma análise descritiva mais abrangente para tentar identificar outros vises que poderiam ser tratados. Analisei apenas as proposições aprovadas, mas gostaria de ter visto o restante do conjunto de dados;\n",
        "- Testar algorítimos de regressão e classificação comparar resultados e explorar mais o uso da estimativa de probabilidade de aprovação ao invés de dizer apenas que uma proposição poderá ou não aprovada.\n",
        "- Por último, tratar o desbalanceamento das classes antes do treino ao invés de compensar no percentual final de probabilidade de aprovação."
      ]
    }
  ],
  "metadata": {
    "colab": {
      "provenance": []
    },
    "kernelspec": {
      "display_name": "Python 3",
      "name": "python3"
    },
    "language_info": {
      "codemirror_mode": {
        "name": "ipython",
        "version": 3
      },
      "file_extension": ".py",
      "mimetype": "text/x-python",
      "name": "python",
      "nbconvert_exporter": "python",
      "pygments_lexer": "ipython3",
      "version": "3.9.6"
    },
    "widgets": {
      "application/vnd.jupyter.widget-state+json": {
        "03a24dd15b614f0390ea05137e02ee9d": {
          "model_module": "@jupyter-widgets/controls",
          "model_module_version": "1.5.0",
          "model_name": "ProgressStyleModel",
          "state": {
            "_model_module": "@jupyter-widgets/controls",
            "_model_module_version": "1.5.0",
            "_model_name": "ProgressStyleModel",
            "_view_count": null,
            "_view_module": "@jupyter-widgets/base",
            "_view_module_version": "1.2.0",
            "_view_name": "StyleView",
            "bar_color": null,
            "description_width": ""
          }
        },
        "15b051855174485e9189e6b6d830a1e0": {
          "model_module": "@jupyter-widgets/controls",
          "model_module_version": "1.5.0",
          "model_name": "FloatProgressModel",
          "state": {
            "_dom_classes": [],
            "_model_module": "@jupyter-widgets/controls",
            "_model_module_version": "1.5.0",
            "_model_name": "FloatProgressModel",
            "_view_count": null,
            "_view_module": "@jupyter-widgets/controls",
            "_view_module_version": "1.5.0",
            "_view_name": "ProgressView",
            "bar_style": "",
            "description": "",
            "description_tooltip": null,
            "layout": "IPY_MODEL_5be5ae987705419bb068d7577d315125",
            "max": 65,
            "min": 0,
            "orientation": "horizontal",
            "style": "IPY_MODEL_03a24dd15b614f0390ea05137e02ee9d",
            "value": 65
          }
        },
        "2485791244c04b6697dc65069763a97c": {
          "model_module": "@jupyter-widgets/base",
          "model_module_version": "1.2.0",
          "model_name": "LayoutModel",
          "state": {
            "_model_module": "@jupyter-widgets/base",
            "_model_module_version": "1.2.0",
            "_model_name": "LayoutModel",
            "_view_count": null,
            "_view_module": "@jupyter-widgets/base",
            "_view_module_version": "1.2.0",
            "_view_name": "LayoutView",
            "align_content": null,
            "align_items": null,
            "align_self": null,
            "border": null,
            "bottom": null,
            "display": null,
            "flex": null,
            "flex_flow": null,
            "grid_area": null,
            "grid_auto_columns": null,
            "grid_auto_flow": null,
            "grid_auto_rows": null,
            "grid_column": null,
            "grid_gap": null,
            "grid_row": null,
            "grid_template_areas": null,
            "grid_template_columns": null,
            "grid_template_rows": null,
            "height": null,
            "justify_content": null,
            "justify_items": null,
            "left": null,
            "margin": null,
            "max_height": null,
            "max_width": null,
            "min_height": null,
            "min_width": null,
            "object_fit": null,
            "object_position": null,
            "order": null,
            "overflow": null,
            "overflow_x": null,
            "overflow_y": null,
            "padding": null,
            "right": null,
            "top": null,
            "visibility": "hidden",
            "width": null
          }
        },
        "2c945072cd0e4dd9a193254672131071": {
          "model_module": "@jupyter-widgets/controls",
          "model_module_version": "1.5.0",
          "model_name": "FloatProgressModel",
          "state": {
            "_dom_classes": [],
            "_model_module": "@jupyter-widgets/controls",
            "_model_module_version": "1.5.0",
            "_model_name": "FloatProgressModel",
            "_view_count": null,
            "_view_module": "@jupyter-widgets/controls",
            "_view_module_version": "1.5.0",
            "_view_name": "ProgressView",
            "bar_style": "",
            "description": "",
            "description_tooltip": null,
            "layout": "IPY_MODEL_f6bb03a6283346c89dd2caa4858a9b83",
            "max": 4,
            "min": 0,
            "orientation": "horizontal",
            "style": "IPY_MODEL_b1d47e0bd70b4bbd9b3580dea0ac532b",
            "value": 4
          }
        },
        "3d704afb307e4271bc92d82aef818c67": {
          "model_module": "@jupyter-widgets/controls",
          "model_module_version": "1.5.0",
          "model_name": "HBoxModel",
          "state": {
            "_dom_classes": [],
            "_model_module": "@jupyter-widgets/controls",
            "_model_module_version": "1.5.0",
            "_model_name": "HBoxModel",
            "_view_count": null,
            "_view_module": "@jupyter-widgets/controls",
            "_view_module_version": "1.5.0",
            "_view_name": "HBoxView",
            "box_style": "",
            "children": [
              "IPY_MODEL_b24731bc3b7a47978183d0ada3d9b4a3",
              "IPY_MODEL_15b051855174485e9189e6b6d830a1e0",
              "IPY_MODEL_f93a63776ae14088bce42005907a2322"
            ],
            "layout": "IPY_MODEL_2485791244c04b6697dc65069763a97c"
          }
        },
        "48e6b176cba44dd3b986a68a396c2c88": {
          "model_module": "@jupyter-widgets/controls",
          "model_module_version": "1.5.0",
          "model_name": "HTMLModel",
          "state": {
            "_dom_classes": [],
            "_model_module": "@jupyter-widgets/controls",
            "_model_module_version": "1.5.0",
            "_model_name": "HTMLModel",
            "_view_count": null,
            "_view_module": "@jupyter-widgets/controls",
            "_view_module_version": "1.5.0",
            "_view_name": "HTMLView",
            "description": "",
            "description_tooltip": null,
            "layout": "IPY_MODEL_c7e0f683010f459792865579caca369e",
            "placeholder": "​",
            "style": "IPY_MODEL_fb2f9b8bdc164b5cbb498eaa4511966a",
            "value": "Processing: 100%"
          }
        },
        "5be5ae987705419bb068d7577d315125": {
          "model_module": "@jupyter-widgets/base",
          "model_module_version": "1.2.0",
          "model_name": "LayoutModel",
          "state": {
            "_model_module": "@jupyter-widgets/base",
            "_model_module_version": "1.2.0",
            "_model_name": "LayoutModel",
            "_view_count": null,
            "_view_module": "@jupyter-widgets/base",
            "_view_module_version": "1.2.0",
            "_view_name": "LayoutView",
            "align_content": null,
            "align_items": null,
            "align_self": null,
            "border": null,
            "bottom": null,
            "display": null,
            "flex": null,
            "flex_flow": null,
            "grid_area": null,
            "grid_auto_columns": null,
            "grid_auto_flow": null,
            "grid_auto_rows": null,
            "grid_column": null,
            "grid_gap": null,
            "grid_row": null,
            "grid_template_areas": null,
            "grid_template_columns": null,
            "grid_template_rows": null,
            "height": null,
            "justify_content": null,
            "justify_items": null,
            "left": null,
            "margin": null,
            "max_height": null,
            "max_width": null,
            "min_height": null,
            "min_width": null,
            "object_fit": null,
            "object_position": null,
            "order": null,
            "overflow": null,
            "overflow_x": null,
            "overflow_y": null,
            "padding": null,
            "right": null,
            "top": null,
            "visibility": null,
            "width": null
          }
        },
        "6767ccd3471d4fd78d50fa3c329208c9": {
          "model_module": "@jupyter-widgets/controls",
          "model_module_version": "1.5.0",
          "model_name": "DescriptionStyleModel",
          "state": {
            "_model_module": "@jupyter-widgets/controls",
            "_model_module_version": "1.5.0",
            "_model_name": "DescriptionStyleModel",
            "_view_count": null,
            "_view_module": "@jupyter-widgets/base",
            "_view_module_version": "1.2.0",
            "_view_name": "StyleView",
            "description_width": ""
          }
        },
        "73f97eb455024e84b2f6d8dcf54bb1f9": {
          "model_module": "@jupyter-widgets/base",
          "model_module_version": "1.2.0",
          "model_name": "LayoutModel",
          "state": {
            "_model_module": "@jupyter-widgets/base",
            "_model_module_version": "1.2.0",
            "_model_name": "LayoutModel",
            "_view_count": null,
            "_view_module": "@jupyter-widgets/base",
            "_view_module_version": "1.2.0",
            "_view_name": "LayoutView",
            "align_content": null,
            "align_items": null,
            "align_self": null,
            "border": null,
            "bottom": null,
            "display": null,
            "flex": null,
            "flex_flow": null,
            "grid_area": null,
            "grid_auto_columns": null,
            "grid_auto_flow": null,
            "grid_auto_rows": null,
            "grid_column": null,
            "grid_gap": null,
            "grid_row": null,
            "grid_template_areas": null,
            "grid_template_columns": null,
            "grid_template_rows": null,
            "height": null,
            "justify_content": null,
            "justify_items": null,
            "left": null,
            "margin": null,
            "max_height": null,
            "max_width": null,
            "min_height": null,
            "min_width": null,
            "object_fit": null,
            "object_position": null,
            "order": null,
            "overflow": null,
            "overflow_x": null,
            "overflow_y": null,
            "padding": null,
            "right": null,
            "top": null,
            "visibility": null,
            "width": null
          }
        },
        "74e563aea973454ca79099782772666a": {
          "model_module": "@jupyter-widgets/controls",
          "model_module_version": "1.5.0",
          "model_name": "HTMLModel",
          "state": {
            "_dom_classes": [],
            "_model_module": "@jupyter-widgets/controls",
            "_model_module_version": "1.5.0",
            "_model_name": "HTMLModel",
            "_view_count": null,
            "_view_module": "@jupyter-widgets/controls",
            "_view_module_version": "1.5.0",
            "_view_name": "HTMLView",
            "description": "",
            "description_tooltip": null,
            "layout": "IPY_MODEL_fd56f7ce9d30475088fbfd3376f952ca",
            "placeholder": "​",
            "style": "IPY_MODEL_6767ccd3471d4fd78d50fa3c329208c9",
            "value": " 4/4 [01:18&lt;00:00, 18.52s/it]"
          }
        },
        "a69117087460473997a68c8e68a98f84": {
          "model_module": "@jupyter-widgets/controls",
          "model_module_version": "1.5.0",
          "model_name": "HBoxModel",
          "state": {
            "_dom_classes": [],
            "_model_module": "@jupyter-widgets/controls",
            "_model_module_version": "1.5.0",
            "_model_name": "HBoxModel",
            "_view_count": null,
            "_view_module": "@jupyter-widgets/controls",
            "_view_module_version": "1.5.0",
            "_view_name": "HBoxView",
            "box_style": "",
            "children": [
              "IPY_MODEL_48e6b176cba44dd3b986a68a396c2c88",
              "IPY_MODEL_2c945072cd0e4dd9a193254672131071",
              "IPY_MODEL_74e563aea973454ca79099782772666a"
            ],
            "layout": "IPY_MODEL_ab5f3383cd934ebfac39ca8966ae337b"
          }
        },
        "ab5f3383cd934ebfac39ca8966ae337b": {
          "model_module": "@jupyter-widgets/base",
          "model_module_version": "1.2.0",
          "model_name": "LayoutModel",
          "state": {
            "_model_module": "@jupyter-widgets/base",
            "_model_module_version": "1.2.0",
            "_model_name": "LayoutModel",
            "_view_count": null,
            "_view_module": "@jupyter-widgets/base",
            "_view_module_version": "1.2.0",
            "_view_name": "LayoutView",
            "align_content": null,
            "align_items": null,
            "align_self": null,
            "border": null,
            "bottom": null,
            "display": null,
            "flex": null,
            "flex_flow": null,
            "grid_area": null,
            "grid_auto_columns": null,
            "grid_auto_flow": null,
            "grid_auto_rows": null,
            "grid_column": null,
            "grid_gap": null,
            "grid_row": null,
            "grid_template_areas": null,
            "grid_template_columns": null,
            "grid_template_rows": null,
            "height": null,
            "justify_content": null,
            "justify_items": null,
            "left": null,
            "margin": null,
            "max_height": null,
            "max_width": null,
            "min_height": null,
            "min_width": null,
            "object_fit": null,
            "object_position": null,
            "order": null,
            "overflow": null,
            "overflow_x": null,
            "overflow_y": null,
            "padding": null,
            "right": null,
            "top": null,
            "visibility": "hidden",
            "width": null
          }
        },
        "b1d47e0bd70b4bbd9b3580dea0ac532b": {
          "model_module": "@jupyter-widgets/controls",
          "model_module_version": "1.5.0",
          "model_name": "ProgressStyleModel",
          "state": {
            "_model_module": "@jupyter-widgets/controls",
            "_model_module_version": "1.5.0",
            "_model_name": "ProgressStyleModel",
            "_view_count": null,
            "_view_module": "@jupyter-widgets/base",
            "_view_module_version": "1.2.0",
            "_view_name": "StyleView",
            "bar_color": null,
            "description_width": ""
          }
        },
        "b24731bc3b7a47978183d0ada3d9b4a3": {
          "model_module": "@jupyter-widgets/controls",
          "model_module_version": "1.5.0",
          "model_name": "HTMLModel",
          "state": {
            "_dom_classes": [],
            "_model_module": "@jupyter-widgets/controls",
            "_model_module_version": "1.5.0",
            "_model_name": "HTMLModel",
            "_view_count": null,
            "_view_module": "@jupyter-widgets/controls",
            "_view_module_version": "1.5.0",
            "_view_name": "HTMLView",
            "description": "",
            "description_tooltip": null,
            "layout": "IPY_MODEL_73f97eb455024e84b2f6d8dcf54bb1f9",
            "placeholder": "​",
            "style": "IPY_MODEL_bada1e86dcf54d939174eed265509935",
            "value": "Processing: 100%"
          }
        },
        "bada1e86dcf54d939174eed265509935": {
          "model_module": "@jupyter-widgets/controls",
          "model_module_version": "1.5.0",
          "model_name": "DescriptionStyleModel",
          "state": {
            "_model_module": "@jupyter-widgets/controls",
            "_model_module_version": "1.5.0",
            "_model_name": "DescriptionStyleModel",
            "_view_count": null,
            "_view_module": "@jupyter-widgets/base",
            "_view_module_version": "1.2.0",
            "_view_name": "StyleView",
            "description_width": ""
          }
        },
        "c7e0f683010f459792865579caca369e": {
          "model_module": "@jupyter-widgets/base",
          "model_module_version": "1.2.0",
          "model_name": "LayoutModel",
          "state": {
            "_model_module": "@jupyter-widgets/base",
            "_model_module_version": "1.2.0",
            "_model_name": "LayoutModel",
            "_view_count": null,
            "_view_module": "@jupyter-widgets/base",
            "_view_module_version": "1.2.0",
            "_view_name": "LayoutView",
            "align_content": null,
            "align_items": null,
            "align_self": null,
            "border": null,
            "bottom": null,
            "display": null,
            "flex": null,
            "flex_flow": null,
            "grid_area": null,
            "grid_auto_columns": null,
            "grid_auto_flow": null,
            "grid_auto_rows": null,
            "grid_column": null,
            "grid_gap": null,
            "grid_row": null,
            "grid_template_areas": null,
            "grid_template_columns": null,
            "grid_template_rows": null,
            "height": null,
            "justify_content": null,
            "justify_items": null,
            "left": null,
            "margin": null,
            "max_height": null,
            "max_width": null,
            "min_height": null,
            "min_width": null,
            "object_fit": null,
            "object_position": null,
            "order": null,
            "overflow": null,
            "overflow_x": null,
            "overflow_y": null,
            "padding": null,
            "right": null,
            "top": null,
            "visibility": null,
            "width": null
          }
        },
        "c87325ea66054d5db427f52aee9c0f53": {
          "model_module": "@jupyter-widgets/controls",
          "model_module_version": "1.5.0",
          "model_name": "DescriptionStyleModel",
          "state": {
            "_model_module": "@jupyter-widgets/controls",
            "_model_module_version": "1.5.0",
            "_model_name": "DescriptionStyleModel",
            "_view_count": null,
            "_view_module": "@jupyter-widgets/base",
            "_view_module_version": "1.2.0",
            "_view_name": "StyleView",
            "description_width": ""
          }
        },
        "da5d4cfe68674bafa512a1f23446bcd5": {
          "model_module": "@jupyter-widgets/base",
          "model_module_version": "1.2.0",
          "model_name": "LayoutModel",
          "state": {
            "_model_module": "@jupyter-widgets/base",
            "_model_module_version": "1.2.0",
            "_model_name": "LayoutModel",
            "_view_count": null,
            "_view_module": "@jupyter-widgets/base",
            "_view_module_version": "1.2.0",
            "_view_name": "LayoutView",
            "align_content": null,
            "align_items": null,
            "align_self": null,
            "border": null,
            "bottom": null,
            "display": null,
            "flex": null,
            "flex_flow": null,
            "grid_area": null,
            "grid_auto_columns": null,
            "grid_auto_flow": null,
            "grid_auto_rows": null,
            "grid_column": null,
            "grid_gap": null,
            "grid_row": null,
            "grid_template_areas": null,
            "grid_template_columns": null,
            "grid_template_rows": null,
            "height": null,
            "justify_content": null,
            "justify_items": null,
            "left": null,
            "margin": null,
            "max_height": null,
            "max_width": null,
            "min_height": null,
            "min_width": null,
            "object_fit": null,
            "object_position": null,
            "order": null,
            "overflow": null,
            "overflow_x": null,
            "overflow_y": null,
            "padding": null,
            "right": null,
            "top": null,
            "visibility": null,
            "width": null
          }
        },
        "f6bb03a6283346c89dd2caa4858a9b83": {
          "model_module": "@jupyter-widgets/base",
          "model_module_version": "1.2.0",
          "model_name": "LayoutModel",
          "state": {
            "_model_module": "@jupyter-widgets/base",
            "_model_module_version": "1.2.0",
            "_model_name": "LayoutModel",
            "_view_count": null,
            "_view_module": "@jupyter-widgets/base",
            "_view_module_version": "1.2.0",
            "_view_name": "LayoutView",
            "align_content": null,
            "align_items": null,
            "align_self": null,
            "border": null,
            "bottom": null,
            "display": null,
            "flex": null,
            "flex_flow": null,
            "grid_area": null,
            "grid_auto_columns": null,
            "grid_auto_flow": null,
            "grid_auto_rows": null,
            "grid_column": null,
            "grid_gap": null,
            "grid_row": null,
            "grid_template_areas": null,
            "grid_template_columns": null,
            "grid_template_rows": null,
            "height": null,
            "justify_content": null,
            "justify_items": null,
            "left": null,
            "margin": null,
            "max_height": null,
            "max_width": null,
            "min_height": null,
            "min_width": null,
            "object_fit": null,
            "object_position": null,
            "order": null,
            "overflow": null,
            "overflow_x": null,
            "overflow_y": null,
            "padding": null,
            "right": null,
            "top": null,
            "visibility": null,
            "width": null
          }
        },
        "f93a63776ae14088bce42005907a2322": {
          "model_module": "@jupyter-widgets/controls",
          "model_module_version": "1.5.0",
          "model_name": "HTMLModel",
          "state": {
            "_dom_classes": [],
            "_model_module": "@jupyter-widgets/controls",
            "_model_module_version": "1.5.0",
            "_model_name": "HTMLModel",
            "_view_count": null,
            "_view_module": "@jupyter-widgets/controls",
            "_view_module_version": "1.5.0",
            "_view_name": "HTMLView",
            "description": "",
            "description_tooltip": null,
            "layout": "IPY_MODEL_da5d4cfe68674bafa512a1f23446bcd5",
            "placeholder": "​",
            "style": "IPY_MODEL_c87325ea66054d5db427f52aee9c0f53",
            "value": " 65/65 [03:49&lt;00:00,  2.57s/it]"
          }
        },
        "fb2f9b8bdc164b5cbb498eaa4511966a": {
          "model_module": "@jupyter-widgets/controls",
          "model_module_version": "1.5.0",
          "model_name": "DescriptionStyleModel",
          "state": {
            "_model_module": "@jupyter-widgets/controls",
            "_model_module_version": "1.5.0",
            "_model_name": "DescriptionStyleModel",
            "_view_count": null,
            "_view_module": "@jupyter-widgets/base",
            "_view_module_version": "1.2.0",
            "_view_name": "StyleView",
            "description_width": ""
          }
        },
        "fd56f7ce9d30475088fbfd3376f952ca": {
          "model_module": "@jupyter-widgets/base",
          "model_module_version": "1.2.0",
          "model_name": "LayoutModel",
          "state": {
            "_model_module": "@jupyter-widgets/base",
            "_model_module_version": "1.2.0",
            "_model_name": "LayoutModel",
            "_view_count": null,
            "_view_module": "@jupyter-widgets/base",
            "_view_module_version": "1.2.0",
            "_view_name": "LayoutView",
            "align_content": null,
            "align_items": null,
            "align_self": null,
            "border": null,
            "bottom": null,
            "display": null,
            "flex": null,
            "flex_flow": null,
            "grid_area": null,
            "grid_auto_columns": null,
            "grid_auto_flow": null,
            "grid_auto_rows": null,
            "grid_column": null,
            "grid_gap": null,
            "grid_row": null,
            "grid_template_areas": null,
            "grid_template_columns": null,
            "grid_template_rows": null,
            "height": null,
            "justify_content": null,
            "justify_items": null,
            "left": null,
            "margin": null,
            "max_height": null,
            "max_width": null,
            "min_height": null,
            "min_width": null,
            "object_fit": null,
            "object_position": null,
            "order": null,
            "overflow": null,
            "overflow_x": null,
            "overflow_y": null,
            "padding": null,
            "right": null,
            "top": null,
            "visibility": null,
            "width": null
          }
        }
      }
    }
  },
  "nbformat": 4,
  "nbformat_minor": 0
}
